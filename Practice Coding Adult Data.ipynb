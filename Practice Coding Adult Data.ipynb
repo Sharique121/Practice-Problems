{
 "cells": [
  {
   "cell_type": "code",
   "execution_count": 1,
   "metadata": {
    "collapsed": true
   },
   "outputs": [],
   "source": [
    "import pandas as pd\n",
    "import numpy as np"
   ]
  },
  {
   "cell_type": "code",
   "execution_count": 6,
   "metadata": {
    "collapsed": true
   },
   "outputs": [],
   "source": [
    "df=pd.read_csv(\"https://raw.githubusercontent.com/aprilypchen/depy2016/master/adult.csv\", na_values=['#NAME?'])"
   ]
  },
  {
   "cell_type": "code",
   "execution_count": 7,
   "metadata": {},
   "outputs": [
    {
     "data": {
      "text/html": [
       "<div>\n",
       "<style>\n",
       "    .dataframe thead tr:only-child th {\n",
       "        text-align: right;\n",
       "    }\n",
       "\n",
       "    .dataframe thead th {\n",
       "        text-align: left;\n",
       "    }\n",
       "\n",
       "    .dataframe tbody tr th {\n",
       "        vertical-align: top;\n",
       "    }\n",
       "</style>\n",
       "<table border=\"1\" class=\"dataframe\">\n",
       "  <thead>\n",
       "    <tr style=\"text-align: right;\">\n",
       "      <th></th>\n",
       "      <th>age</th>\n",
       "      <th>workclass</th>\n",
       "      <th>fnlwgt</th>\n",
       "      <th>education</th>\n",
       "      <th>education_num</th>\n",
       "      <th>marital_status</th>\n",
       "      <th>occupation</th>\n",
       "      <th>relationship</th>\n",
       "      <th>race</th>\n",
       "      <th>sex</th>\n",
       "      <th>capital_gain</th>\n",
       "      <th>capital_loss</th>\n",
       "      <th>hours_per_week</th>\n",
       "      <th>native_country</th>\n",
       "      <th>income</th>\n",
       "    </tr>\n",
       "  </thead>\n",
       "  <tbody>\n",
       "    <tr>\n",
       "      <th>0</th>\n",
       "      <td>39.0</td>\n",
       "      <td>State-gov</td>\n",
       "      <td>77516.0</td>\n",
       "      <td>Bachelors</td>\n",
       "      <td>13.0</td>\n",
       "      <td>Never-married</td>\n",
       "      <td>Adm-clerical</td>\n",
       "      <td>Not-in-family</td>\n",
       "      <td>White</td>\n",
       "      <td>Male</td>\n",
       "      <td>2174</td>\n",
       "      <td>0</td>\n",
       "      <td>40</td>\n",
       "      <td>United-States</td>\n",
       "      <td>&lt;=50K</td>\n",
       "    </tr>\n",
       "    <tr>\n",
       "      <th>1</th>\n",
       "      <td>50.0</td>\n",
       "      <td>Self-emp-not-inc</td>\n",
       "      <td>83311.0</td>\n",
       "      <td>Bachelors</td>\n",
       "      <td>13.0</td>\n",
       "      <td>Married-civ-spouse</td>\n",
       "      <td>Exec-managerial</td>\n",
       "      <td>Husband</td>\n",
       "      <td>White</td>\n",
       "      <td>Male</td>\n",
       "      <td>0</td>\n",
       "      <td>0</td>\n",
       "      <td>13</td>\n",
       "      <td>United-States</td>\n",
       "      <td>&lt;=50K</td>\n",
       "    </tr>\n",
       "    <tr>\n",
       "      <th>2</th>\n",
       "      <td>38.0</td>\n",
       "      <td>Private</td>\n",
       "      <td>215646.0</td>\n",
       "      <td>HS-grad</td>\n",
       "      <td>9.0</td>\n",
       "      <td>Divorced</td>\n",
       "      <td>Handlers-cleaners</td>\n",
       "      <td>Not-in-family</td>\n",
       "      <td>White</td>\n",
       "      <td>Male</td>\n",
       "      <td>0</td>\n",
       "      <td>0</td>\n",
       "      <td>40</td>\n",
       "      <td>United-States</td>\n",
       "      <td>&lt;=50K</td>\n",
       "    </tr>\n",
       "    <tr>\n",
       "      <th>3</th>\n",
       "      <td>53.0</td>\n",
       "      <td>Private</td>\n",
       "      <td>234721.0</td>\n",
       "      <td>11th</td>\n",
       "      <td>7.0</td>\n",
       "      <td>Married-civ-spouse</td>\n",
       "      <td>Handlers-cleaners</td>\n",
       "      <td>Husband</td>\n",
       "      <td>Black</td>\n",
       "      <td>NaN</td>\n",
       "      <td>0</td>\n",
       "      <td>0</td>\n",
       "      <td>40</td>\n",
       "      <td>United-States</td>\n",
       "      <td>&lt;=50K</td>\n",
       "    </tr>\n",
       "    <tr>\n",
       "      <th>4</th>\n",
       "      <td>28.0</td>\n",
       "      <td>Private</td>\n",
       "      <td>338409.0</td>\n",
       "      <td>Bachelors</td>\n",
       "      <td>13.0</td>\n",
       "      <td>Married-civ-spouse</td>\n",
       "      <td>Prof-specialty</td>\n",
       "      <td>Wife</td>\n",
       "      <td>Black</td>\n",
       "      <td>Female</td>\n",
       "      <td>0</td>\n",
       "      <td>0</td>\n",
       "      <td>40</td>\n",
       "      <td>Cuba</td>\n",
       "      <td>&lt;=50K</td>\n",
       "    </tr>\n",
       "  </tbody>\n",
       "</table>\n",
       "</div>"
      ],
      "text/plain": [
       "    age         workclass    fnlwgt  education  education_num  \\\n",
       "0  39.0         State-gov   77516.0  Bachelors           13.0   \n",
       "1  50.0  Self-emp-not-inc   83311.0  Bachelors           13.0   \n",
       "2  38.0           Private  215646.0    HS-grad            9.0   \n",
       "3  53.0           Private  234721.0       11th            7.0   \n",
       "4  28.0           Private  338409.0  Bachelors           13.0   \n",
       "\n",
       "       marital_status         occupation   relationship   race     sex  \\\n",
       "0       Never-married       Adm-clerical  Not-in-family  White    Male   \n",
       "1  Married-civ-spouse    Exec-managerial        Husband  White    Male   \n",
       "2            Divorced  Handlers-cleaners  Not-in-family  White    Male   \n",
       "3  Married-civ-spouse  Handlers-cleaners        Husband  Black     NaN   \n",
       "4  Married-civ-spouse     Prof-specialty           Wife  Black  Female   \n",
       "\n",
       "   capital_gain  capital_loss  hours_per_week native_country income  \n",
       "0          2174             0              40  United-States  <=50K  \n",
       "1             0             0              13  United-States  <=50K  \n",
       "2             0             0              40  United-States  <=50K  \n",
       "3             0             0              40  United-States  <=50K  \n",
       "4             0             0              40           Cuba  <=50K  "
      ]
     },
     "execution_count": 7,
     "metadata": {},
     "output_type": "execute_result"
    }
   ],
   "source": [
    "df.head()"
   ]
  },
  {
   "cell_type": "code",
   "execution_count": 8,
   "metadata": {},
   "outputs": [
    {
     "data": {
      "text/plain": [
       "Index(['age', 'workclass', 'fnlwgt', 'education', 'education_num',\n",
       "       'marital_status', 'occupation', 'relationship', 'race', 'sex',\n",
       "       'capital_gain', 'capital_loss', 'hours_per_week', 'native_country',\n",
       "       'income'],\n",
       "      dtype='object')"
      ]
     },
     "execution_count": 8,
     "metadata": {},
     "output_type": "execute_result"
    }
   ],
   "source": [
    "df.columns"
   ]
  },
  {
   "cell_type": "code",
   "execution_count": 9,
   "metadata": {},
   "outputs": [
    {
     "name": "stdout",
     "output_type": "stream",
     "text": [
      "<=50K    3779\n",
      ">50K     1221\n",
      "Name: income, dtype: int64\n"
     ]
    }
   ],
   "source": [
    "# Take a look at the outcome variable: 'income'\n",
    "print(df['income'].value_counts())"
   ]
  },
  {
   "cell_type": "code",
   "execution_count": 11,
   "metadata": {},
   "outputs": [],
   "source": [
    "# Assign outcome as 0 if income <=50K and as 1 if income >50K\n",
    "df['income'] = [0 if x == '<=50K' else 1 for x in df['income']]\n",
    "\n",
    "# Assign X as a DataFrame of features and y as a Series of the outcome variable\n",
    "X = df.drop('income', 1)\n",
    "y = df.income"
   ]
  },
  {
   "cell_type": "code",
   "execution_count": 12,
   "metadata": {},
   "outputs": [
    {
     "name": "stdout",
     "output_type": "stream",
     "text": [
      "    age         workclass    fnlwgt  education  education_num  \\\n",
      "0  39.0         State-gov   77516.0  Bachelors           13.0   \n",
      "1  50.0  Self-emp-not-inc   83311.0  Bachelors           13.0   \n",
      "2  38.0           Private  215646.0    HS-grad            9.0   \n",
      "3  53.0           Private  234721.0       11th            7.0   \n",
      "4  28.0           Private  338409.0  Bachelors           13.0   \n",
      "\n",
      "       marital_status         occupation   relationship   race     sex  \\\n",
      "0       Never-married       Adm-clerical  Not-in-family  White    Male   \n",
      "1  Married-civ-spouse    Exec-managerial        Husband  White    Male   \n",
      "2            Divorced  Handlers-cleaners  Not-in-family  White    Male   \n",
      "3  Married-civ-spouse  Handlers-cleaners        Husband  Black     NaN   \n",
      "4  Married-civ-spouse     Prof-specialty           Wife  Black  Female   \n",
      "\n",
      "   capital_gain  capital_loss  hours_per_week native_country  \n",
      "0          2174             0              40  United-States  \n",
      "1             0             0              13  United-States  \n",
      "2             0             0              40  United-States  \n",
      "3             0             0              40  United-States  \n",
      "4             0             0              40           Cuba  \n"
     ]
    }
   ],
   "source": [
    "print(X.head(5))"
   ]
  },
  {
   "cell_type": "code",
   "execution_count": 13,
   "metadata": {},
   "outputs": [
    {
     "name": "stdout",
     "output_type": "stream",
     "text": [
      "0    0\n",
      "1    0\n",
      "2    0\n",
      "3    0\n",
      "4    0\n",
      "Name: income, dtype: int64\n"
     ]
    }
   ],
   "source": [
    "print(y.head(5))"
   ]
  },
  {
   "cell_type": "markdown",
   "metadata": {},
   "source": [
    "\n",
    "### Part 3: Basic data cleaning\n",
    "### A. Dealing with data types\n",
    "There are three main data types:\n",
    " \n",
    "Numeric, e.g. income, age\n",
    "\n",
    "Categorical, e.g. gender, nationality\n",
    "\n",
    "Ordinal, e.g. low/medium/high\n",
    "\n",
    "Models can only handle numeric features\n",
    "\n",
    "Must convert categorical and ordinal features into numeric features\n",
    "\n",
    "Create dummy features\n",
    "\n",
    "Transform a categorical feature into a set of dummy features, each representing a unique category\n",
    "\n",
    "In the set of dummy features, 1 indicates that the observation belongs to that category"
   ]
  },
  {
   "cell_type": "code",
   "execution_count": 14,
   "metadata": {},
   "outputs": [
    {
     "name": "stdout",
     "output_type": "stream",
     "text": [
      "0    Bachelors\n",
      "1    Bachelors\n",
      "2      HS-grad\n",
      "3         11th\n",
      "4    Bachelors\n",
      "Name: education, dtype: object\n"
     ]
    }
   ],
   "source": [
    "\n",
    "# Education is a categorical feature:# Educa \n",
    "print(X['education'].head(5))"
   ]
  },
  {
   "cell_type": "code",
   "execution_count": 15,
   "metadata": {},
   "outputs": [
    {
     "name": "stdout",
     "output_type": "stream",
     "text": [
      "   10th  11th  12th  1st-4th  5th-6th  7th-8th  9th  ?  Assoc-acdm  Assoc-voc  \\\n",
      "0     0     0     0        0        0        0    0  0           0          0   \n",
      "1     0     0     0        0        0        0    0  0           0          0   \n",
      "2     0     0     0        0        0        0    0  0           0          0   \n",
      "3     0     1     0        0        0        0    0  0           0          0   \n",
      "4     0     0     0        0        0        0    0  0           0          0   \n",
      "\n",
      "   Bachelors  Doctorate  HS-grad  Masters  Preschool  Prof-school  \\\n",
      "0          1          0        0        0          0            0   \n",
      "1          1          0        0        0          0            0   \n",
      "2          0          0        1        0          0            0   \n",
      "3          0          0        0        0          0            0   \n",
      "4          1          0        0        0          0            0   \n",
      "\n",
      "   Some-college  \n",
      "0             0  \n",
      "1             0  \n",
      "2             0  \n",
      "3             0  \n",
      "4             0  \n"
     ]
    }
   ],
   "source": [
    "# Use get_dummies in pandas \n",
    "# Another option: OneHotEncoder in sci-kit learn\n",
    "print(pd.get_dummies(X['education']).head(5))"
   ]
  },
  {
   "cell_type": "code",
   "execution_count": 16,
   "metadata": {},
   "outputs": [
    {
     "name": "stdout",
     "output_type": "stream",
     "text": [
      "Feature 'workclass' has 8 unique categories\n",
      "Feature 'education' has 17 unique categories\n",
      "Feature 'marital_status' has 7 unique categories\n",
      "Feature 'occupation' has 15 unique categories\n",
      "Feature 'relationship' has 6 unique categories\n",
      "Feature 'race' has 6 unique categories\n",
      "Feature 'sex' has 3 unique categories\n",
      "Feature 'native_country' has 40 unique categories\n"
     ]
    }
   ],
   "source": [
    "# Decide which categorical variables you want to use in model\n",
    "for col_name in X.columns:\n",
    "    if X[col_name].dtypes == 'object':\n",
    "        unique_cat = len(X[col_name].unique())\n",
    "        print(\"Feature '{col_name}' has {unique_cat} unique categories\".format(col_name=col_name, unique_cat=unique_cat))"
   ]
  },
  {
   "cell_type": "code",
   "execution_count": 17,
   "metadata": {},
   "outputs": [
    {
     "name": "stdout",
     "output_type": "stream",
     "text": [
      "United-States    4465\n",
      "Mexico            104\n",
      "?                  97\n",
      "Canada             28\n",
      "Germany            22\n",
      "Philippines        22\n",
      "England            16\n",
      "Puerto-Rico        16\n",
      "El-Salvador        16\n",
      "China              15\n",
      "Name: native_country, dtype: int64\n"
     ]
    }
   ],
   "source": [
    "# Although, 'native_country' has a lot of unique categories, most categories only have a few observations\n",
    "print(X['native_country'].value_counts().sort_values(ascending=False).head(10))"
   ]
  },
  {
   "cell_type": "code",
   "execution_count": 18,
   "metadata": {},
   "outputs": [
    {
     "name": "stdout",
     "output_type": "stream",
     "text": [
      "United-States     4465\n",
      "Other              535\n",
      "Name: native_country, dtype: int64\n"
     ]
    }
   ],
   "source": [
    "# In this case, bucket low frequecy categories as \"Other\"\n",
    "X['native_country'] = ['United-States ' if x == 'United-States' else 'Other' for x in X['native_country']]\n",
    "\n",
    "print(X['native_country'].value_counts().sort_values(ascending=False))"
   ]
  },
  {
   "cell_type": "code",
   "execution_count": 19,
   "metadata": {
    "collapsed": true
   },
   "outputs": [],
   "source": [
    "# Create a list of features to dummy\n",
    "todummy_list = ['workclass', 'education', 'marital_status', 'occupation', 'relationship', 'race', 'sex', 'native_country']"
   ]
  },
  {
   "cell_type": "code",
   "execution_count": 20,
   "metadata": {
    "collapsed": true
   },
   "outputs": [],
   "source": [
    "\n",
    "# Function to dummy all the categorical variables used for modeling# Functi \n",
    "def dummy_df(df, todummy_list):\n",
    "    for x in todummy_list:\n",
    "        dummies = pd.get_dummies(df[x], prefix=x, dummy_na=False)\n",
    "        df = df.drop(x, 1)\n",
    "        df = pd.concat([df, dummies], axis=1)\n",
    "    return df"
   ]
  },
  {
   "cell_type": "code",
   "execution_count": 21,
   "metadata": {},
   "outputs": [
    {
     "name": "stdout",
     "output_type": "stream",
     "text": [
      "    age    fnlwgt  education_num  capital_gain  capital_loss  hours_per_week  \\\n",
      "0  39.0   77516.0           13.0          2174             0              40   \n",
      "1  50.0   83311.0           13.0             0             0              13   \n",
      "2  38.0  215646.0            9.0             0             0              40   \n",
      "3  53.0  234721.0            7.0             0             0              40   \n",
      "4  28.0  338409.0           13.0             0             0              40   \n",
      "\n",
      "   workclass_?  workclass_Federal-gov  workclass_Local-gov  workclass_Private  \\\n",
      "0            0                      0                    0                  0   \n",
      "1            0                      0                    0                  0   \n",
      "2            0                      0                    0                  1   \n",
      "3            0                      0                    0                  1   \n",
      "4            0                      0                    0                  1   \n",
      "\n",
      "               ...                relationship_Wife  race_Amer-Indian-Eskimo  \\\n",
      "0              ...                                0                        0   \n",
      "1              ...                                0                        0   \n",
      "2              ...                                0                        0   \n",
      "3              ...                                0                        0   \n",
      "4              ...                                1                        0   \n",
      "\n",
      "   race_Asian-Pac-Islander  race_Black  race_Other  race_White  sex_Female  \\\n",
      "0                        0           0           0           1           0   \n",
      "1                        0           0           0           1           0   \n",
      "2                        0           0           0           1           0   \n",
      "3                        0           1           0           0           0   \n",
      "4                        0           1           0           0           1   \n",
      "\n",
      "   sex_Male  native_country_Other  native_country_United-States   \n",
      "0         1                     0                              1  \n",
      "1         1                     0                              1  \n",
      "2         1                     0                              1  \n",
      "3         0                     0                              1  \n",
      "4         0                     1                              0  \n",
      "\n",
      "[5 rows x 68 columns]\n"
     ]
    }
   ],
   "source": [
    "X = dummy_df(X, todummy_list)\n",
    "print(X.head(5))"
   ]
  },
  {
   "cell_type": "markdown",
   "metadata": {},
   "source": [
    "###  B. Handling missing data\n",
    "## Models can not handle missing data\n",
    "\n",
    "Simplest solution\n",
    "\n",
    "Remove observations/features that have missing data\n",
    "\n",
    "But, removing missing data can introduce a lot of issues\n",
    "\n",
    "Data is randomly missing: potentially lose a lot of your data\n",
    "\n",
    "Data is non-randomly missing: in addition to losing data, you are also introducing potential biases\n",
    "\n",
    "Usually, this is a poor solution\n",
    "\n",
    "An alternative solution is to use imputation\n",
    "\n",
    "Replace missing value with another value\n",
    "\n",
    "Strategies: mean, median, highest frequency value of given feature\n"
   ]
  },
  {
   "cell_type": "code",
   "execution_count": 22,
   "metadata": {},
   "outputs": [
    {
     "data": {
      "text/plain": [
       "fnlwgt                 107\n",
       "education_num           57\n",
       "age                     48\n",
       "education_Doctorate      0\n",
       "education_7th-8th        0\n",
       "dtype: int64"
      ]
     },
     "execution_count": 22,
     "metadata": {},
     "output_type": "execute_result"
    }
   ],
   "source": [
    "# How much of your data is missing?\n",
    "X.isnull().sum().sort_values(ascending=False).head()"
   ]
  },
  {
   "cell_type": "code",
   "execution_count": 23,
   "metadata": {
    "collapsed": true
   },
   "outputs": [],
   "source": [
    "\n",
    "# Impute missing values using Imputer in sklearn.preprocessing# Impute \n",
    "from sklearn.preprocessing import Imputer\n",
    "\n",
    "imp = Imputer(missing_values='NaN', strategy='median', axis=0)\n",
    "imp.fit(X)\n",
    "X = pd.DataFrame(data=imp.transform(X) , columns=X.columns)"
   ]
  },
  {
   "cell_type": "code",
   "execution_count": 24,
   "metadata": {},
   "outputs": [
    {
     "data": {
      "text/plain": [
       "native_country_United-States     0\n",
       "education_Bachelors              0\n",
       "education_5th-6th                0\n",
       "education_7th-8th                0\n",
       "education_9th                    0\n",
       "dtype: int64"
      ]
     },
     "execution_count": 24,
     "metadata": {},
     "output_type": "execute_result"
    }
   ],
   "source": [
    "\n",
    "# Now check again to see if you still have missing data# Now ch \n",
    "X.isnull().sum().sort_values(ascending=False).head()"
   ]
  },
  {
   "cell_type": "markdown",
   "metadata": {},
   "source": [
    "\n",
    "## Part 4: More Data Exploration\n",
    "A large portion of the pre-modeling and modeling workflow can be generalized and automated\n",
    "\n",
    "But understanding the problem, domain, and data is extremely important for building high performing models\n",
    "\n",
    "This section covers some tools used for exploring your data to make smarter decisions\n",
    "\n",
    "A. Outlier detection\n",
    "\n",
    "An outlier is an observation that deviates drastically from other observations in a dataset\n",
    "\n",
    "Occurrence:\n",
    "\n",
    "Natural, e.g. Mark Zuckerberg's income\n",
    "\n",
    "Error, e.g. human weight of 2,000 lb. due to mistyping extra 0\n",
    "\n",
    "Why are they problematic?\n",
    "\n",
    "Naturally occuring:\n",
    "\n",
    "Not necessarily problematic\n",
    "\n",
    "But can skew your model by affecting the slope (see image below)\n",
    "\n",
    "Error\n",
    "\n",
    "Indicative of data quality issues\n",
    "\n",
    "Treat in the same way as a missing value, i.e. use imputation\n",
    "\n",
    "Many, many approaches for detecting outliers; we will discuss two of these:\n",
    "\n",
    "Tukey IQR\n",
    "\n",
    "Kernel density estimatation"
   ]
  },
  {
   "cell_type": "markdown",
   "metadata": {},
   "source": [
    "Outlier detection - Tukey IQR\n",
    "\n",
    "Identifies extreme values in data\n",
    "\n",
    "Outliers are defined as:\n",
    "\n",
    "Values below Q1-1.5(Q3-Q1) or above Q3+1.5(Q3-Q1)\n",
    "\n",
    "Standard deviation from the mean is another common method to detect extreme values\n",
    "\n",
    "But it can be problematic:\n",
    "\n",
    "Assumes normality\n",
    "\n",
    "Sensitive to very extreme values"
   ]
  },
  {
   "cell_type": "code",
   "execution_count": 25,
   "metadata": {
    "collapsed": true
   },
   "outputs": [],
   "source": [
    "def find_outliers_tukey(x):\n",
    "    q1 = np.percentile(x, 25)\n",
    "    q3 = np.percentile(x, 75)\n",
    "    iqr = q3-q1 \n",
    "    floor = q1 - 1.5*iqr\n",
    "    ceiling = q3 + 1.5*iqr\n",
    "    outlier_indices = list(x.index[(x < floor)|(x > ceiling)])\n",
    "    outlier_values = list(x[outlier_indices])\n",
    "\n",
    "    return outlier_indices, outlier_values"
   ]
  },
  {
   "cell_type": "code",
   "execution_count": 26,
   "metadata": {},
   "outputs": [
    {
     "name": "stdout",
     "output_type": "stream",
     "text": [
      "[ 76.  76.  76.  76.  76.  76.  76.  76.  76.  77.  77.  77.  77.  77.  78.\n",
      "  78.  79.  79.  79.  80.  80.  80.  81.  81.  81.  81.  82.  88.  90.  90.\n",
      "  90.  90.  90.  90.  90.]\n"
     ]
    }
   ],
   "source": [
    "\n",
    "tukey_indicestukey_in , tukey_values = find_outliers_tukey(X['age'])\n",
    "print(np.sort(tukey_values))"
   ]
  },
  {
   "cell_type": "markdown",
   "metadata": {},
   "source": [
    "### Outlier detection - Kernel Density Estimation\n",
    "Non-parametric way to estimate the probability density function of a given feature\n",
    "\n",
    "Can be advantageous compared to extreme value detection (e.g. Tukey IQR)\n",
    "\n",
    "Capures outliers in bimodal distributions"
   ]
  },
  {
   "cell_type": "code",
   "execution_count": 27,
   "metadata": {
    "collapsed": true
   },
   "outputs": [],
   "source": [
    "from sklearn.preprocessing import scale\n",
    "from statsmodels.nonparametric.kde import KDEUnivariate\n",
    "\n",
    "def find_outliers_kde(x):\n",
    "    x_scaled = scale(list(map(float, x)))\n",
    "    kde = KDEUnivariate(x_scaled)\n",
    "    kde.fit(bw=\"scott\", fft=True)\n",
    "    pred = kde.evaluate(x_scaled)\n",
    "    \n",
    "    n = sum(pred < 0.05)\n",
    "    outlier_ind = np.asarray(pred).argsort()[:n]\n",
    "    outlier_value = np.asarray(x)[outlier_ind]\n",
    "\n",
    "    return outlier_ind, outlier_value"
   ]
  },
  {
   "cell_type": "code",
   "execution_count": 28,
   "metadata": {},
   "outputs": [
    {
     "name": "stdout",
     "output_type": "stream",
     "text": [
      "[ 68.  68.  68.  68.  68.  68.  68.  68.  68.  68.  68.  68.  68.  68.  68.\n",
      "  68.  68.  68.  69.  69.  69.  69.  69.  69.  69.  69.  69.  69.  69.  69.\n",
      "  70.  70.  70.  70.  70.  70.  70.  70.  70.  70.  71.  71.  71.  71.  71.\n",
      "  71.  71.  71.  71.  71.  72.  72.  72.  72.  72.  72.  72.  72.  72.  72.\n",
      "  72.  72.  73.  73.  73.  73.  73.  73.  73.  74.  74.  74.  74.  74.  74.\n",
      "  74.  74.  74.  74.  75.  75.  75.  75.  75.  75.  75.  75.  75.  75.  75.\n",
      "  75.  76.  76.  76.  76.  76.  76.  76.  76.  76.  77.  77.  77.  77.  77.\n",
      "  78.  78.  79.  79.  79.  80.  80.  80.  81.  81.  81.  81.  82.  88.  90.\n",
      "  90.  90.  90.  90.  90.  90.]\n"
     ]
    }
   ],
   "source": [
    "kde_indices, kde_values = find_outliers_kde(X['age'])\n",
    "print(np.sort(kde_values))"
   ]
  },
  {
   "cell_type": "markdown",
   "metadata": {},
   "source": [
    "### B. Distribution of Features\n",
    "A histogram is a simple representation of the distribution of values for a given feature\n",
    "X-axis represents value bins and y-axis represents the frequency of an observation falling into that bin\n",
    "It is also interesting to look at distributions broken up by outcome categories"
   ]
  },
  {
   "cell_type": "code",
   "execution_count": 29,
   "metadata": {
    "collapsed": true
   },
   "outputs": [],
   "source": [
    "# Use pyplot in matplotlib to plot histograms\n",
    "%matplotlib inline\n",
    "import matplotlib.pyplot as plt\n",
    "\n",
    "def plot_histogram(x):\n",
    "    plt.hist(x, color='gray', alpha=0.5)\n",
    "    plt.title(\"Histogram of '{var_name}'\".format(var_name=x.name))\n",
    "    plt.xlabel(\"Value\")\n",
    "    plt.ylabel(\"Frequency\")\n",
    "    plt.show()"
   ]
  },
  {
   "cell_type": "code",
   "execution_count": 30,
   "metadata": {},
   "outputs": [
    {
     "data": {
      "image/png": "[encoded data removed]",
      "text/plain": [
       "<matplotlib.figure.Figure at 0x21b25faf780>"
      ]
     },
     "metadata": {},
     "output_type": "display_data"
    }
   ],
   "source": [
    "plot_histogram(X['age'])"
   ]
  },
  {
   "cell_type": "code",
   "execution_count": 31,
   "metadata": {
    "collapsed": true
   },
   "outputs": [],
   "source": [
    "# Plot histograms to show distribution of features by outcome categories\n",
    "def plot_histogram_dv(x,y):\n",
    "    plt.hist(list(x[y==0]), alpha=0.5, label='Outcome=0')\n",
    "    plt.hist(list(x[y==1]), alpha=0.5, label='Outcome=1')\n",
    "    plt.title(\"Histogram of '{var_name}' by Outcome Category\".format(var_name=x.name))\n",
    "    plt.xlabel(\"Value\")\n",
    "    plt.ylabel(\"Frequency\")\n",
    "    plt.legend(loc='upper right')\n",
    "    plt.show()"
   ]
  },
  {
   "cell_type": "code",
   "execution_count": 32,
   "metadata": {},
   "outputs": [
    {
     "data": {
      "image/png": "[encoded data removed]",
      "text/plain": [
       "<matplotlib.figure.Figure at 0x21b281c2588>"
      ]
     },
     "metadata": {},
     "output_type": "display_data"
    }
   ],
   "source": [
    "plot_histogram_dv(X['age'], y)"
   ]
  },
  {
   "cell_type": "markdown",
   "metadata": {},
   "source": [
    "\n",
    "### Part 5: Feature Engineering\n",
    "A. Interactions amongst features\n",
    "A simple two-way interaction is represented by:\n",
    "X3 = X1 * X2, where X3 is the interaction between X1 and X2\n",
    "Can add interaction terms as additional new features to your model; useful for model if the impact of two or more features on the outcome is non-additive\n",
    "Example:\n",
    "Interaction: education and political ideology; outcome: concerns about climate change\n",
    "While an increase in education amongst liberals or moderates increases concerns about climate change, an increase in education amongst conservatives has the opposite effect\n",
    "The education-political ideology interaction captures more than the two features alone\n",
    "Note that the interactions amongst dummy variables belonging to the same categorical feature are always zero\n",
    "Although it is very easy to calculate two-way interactions amongst all features, it is very computationally expensive\n",
    "10 features = 45 two-way interaction terms\n",
    "50 features = 1,225 two-way interaction terms\n",
    "100 features = 4,950 two-way interaction terms\n",
    "500 features = 124,750 two-way interation terms\n",
    "Recommend understanding your data and domain if possible and selectively choosing interaction terms"
   ]
  },
  {
   "cell_type": "code",
   "execution_count": 33,
   "metadata": {
    "collapsed": true
   },
   "outputs": [],
   "source": [
    "# Use PolynomialFeatures in sklearn.preprocessing to create two-way interactions for all features\n",
    "from itertools import combinations\n",
    "from sklearn.preprocessing import PolynomialFeatures\n",
    "\n",
    "def add_interactions(df):\n",
    "    # Get feature names\n",
    "    combos = list(combinations(list(df.columns), 2))\n",
    "    colnames = list(df.columns) + ['_'.join(x) for x in combos]\n",
    "    \n",
    "    # Find interactions\n",
    "    poly = PolynomialFeatures(interaction_only=True, include_bias=False)\n",
    "    df = poly.fit_transform(df)\n",
    "    df = pd.DataFrame(df)\n",
    "    df.columns = colnames\n",
    "    \n",
    "    # Remove interaction terms with all 0 values            \n",
    "    noint_indicies = [i for i, x in enumerate(list((df == 0).all())) if x]\n",
    "    df = df.drop(df.columns[noint_indicies], axis=1)\n",
    "    \n",
    "    return df"
   ]
  },
  {
   "cell_type": "code",
   "execution_count": 34,
   "metadata": {},
   "outputs": [
    {
     "name": "stdout",
     "output_type": "stream",
     "text": [
      "    age    fnlwgt  education_num  capital_gain  capital_loss  hours_per_week  \\\n",
      "0  39.0   77516.0           13.0        2174.0           0.0            40.0   \n",
      "1  50.0   83311.0           13.0           0.0           0.0            13.0   \n",
      "2  38.0  215646.0            9.0           0.0           0.0            40.0   \n",
      "3  53.0  234721.0            7.0           0.0           0.0            40.0   \n",
      "4  28.0  338409.0           13.0           0.0           0.0            40.0   \n",
      "\n",
      "   workclass_?  workclass_Federal-gov  workclass_Local-gov  workclass_Private  \\\n",
      "0          0.0                    0.0                  0.0                0.0   \n",
      "1          0.0                    0.0                  0.0                0.0   \n",
      "2          0.0                    0.0                  0.0                1.0   \n",
      "3          0.0                    0.0                  0.0                1.0   \n",
      "4          0.0                    0.0                  0.0                1.0   \n",
      "\n",
      "                    ...                    race_Other_native_country_Other  \\\n",
      "0                   ...                                                0.0   \n",
      "1                   ...                                                0.0   \n",
      "2                   ...                                                0.0   \n",
      "3                   ...                                                0.0   \n",
      "4                   ...                                                0.0   \n",
      "\n",
      "   race_Other_native_country_United-States   race_White_sex_Female  \\\n",
      "0                                       0.0                    0.0   \n",
      "1                                       0.0                    0.0   \n",
      "2                                       0.0                    0.0   \n",
      "3                                       0.0                    0.0   \n",
      "4                                       0.0                    0.0   \n",
      "\n",
      "   race_White_sex_Male  race_White_native_country_Other  \\\n",
      "0                  1.0                              0.0   \n",
      "1                  1.0                              0.0   \n",
      "2                  1.0                              0.0   \n",
      "3                  0.0                              0.0   \n",
      "4                  0.0                              0.0   \n",
      "\n",
      "   race_White_native_country_United-States   sex_Female_native_country_Other  \\\n",
      "0                                       1.0                              0.0   \n",
      "1                                       1.0                              0.0   \n",
      "2                                       1.0                              0.0   \n",
      "3                                       0.0                              0.0   \n",
      "4                                       0.0                              1.0   \n",
      "\n",
      "   sex_Female_native_country_United-States   sex_Male_native_country_Other  \\\n",
      "0                                       0.0                            0.0   \n",
      "1                                       0.0                            0.0   \n",
      "2                                       0.0                            0.0   \n",
      "3                                       0.0                            0.0   \n",
      "4                                       0.0                            0.0   \n",
      "\n",
      "   sex_Male_native_country_United-States   \n",
      "0                                     1.0  \n",
      "1                                     1.0  \n",
      "2                                     1.0  \n",
      "3                                     0.0  \n",
      "4                                     0.0  \n",
      "\n",
      "[5 rows x 1737 columns]\n"
     ]
    }
   ],
   "source": [
    "X = add_interactions(X)\n",
    "print(X.head(5))"
   ]
  },
  {
   "cell_type": "markdown",
   "metadata": {},
   "source": [
    "B. Dimensionality reduction using PCA\n",
    "Principal component analysis (PCA) is a technique that transforms a dataset of many features into principal components that \"summarize\" the variance that underlies the data\n",
    "Each principal component is calculated by finding the linear combination of features that maximizes variance, while also ensuring zero correlation with the previously calculated principal components\n",
    "Use cases for modeling:\n",
    "One of the most common dimensionality reduction techniques\n",
    "Use if there are too many features or if observation/feature ratio is poor\n",
    "Also, potentially good option if there are a lot of highly correlated variables in your dataset\n",
    "Unfortunately, PCA makes models a lot harder to interpret"
   ]
  },
  {
   "cell_type": "code",
   "execution_count": 35,
   "metadata": {
    "collapsed": true
   },
   "outputs": [],
   "source": [
    "# Use PCA from sklearn.decompostion to find principal components\n",
    "from sklearn.decomposition import PCA\n",
    "\n",
    "pca = PCA(n_components=10)\n",
    "X_pca = pd.DataFrame(pca.fit_transform(X))"
   ]
  },
  {
   "cell_type": "code",
   "execution_count": 36,
   "metadata": {},
   "outputs": [
    {
     "name": "stdout",
     "output_type": "stream",
     "text": [
      "              0             1             2             3             4  \\\n",
      "0 -2.849607e+07 -1.778542e+07 -6.151562e+06  4.267630e+04 -6.416500e+04   \n",
      "1 -1.970160e+08 -1.805201e+07 -6.763008e+06  2.240802e+06 -3.338928e+05   \n",
      "2 -1.970126e+08 -1.797630e+07  1.546966e+06  8.187336e+04  1.487265e+05   \n",
      "3 -1.970113e+08 -1.794623e+07  4.905983e+06  2.710393e+06  8.618040e+05   \n",
      "4 -1.970106e+08 -1.793149e+07  6.335358e+06 -2.382846e+06 -1.512602e+06   \n",
      "\n",
      "              5              6              7              8              9  \n",
      "0  50038.207928   -1746.476799  -23293.665897   98979.203313   -9815.661908  \n",
      "1 -20805.393331 -146910.199903  -37856.962934   38971.391676   -4295.378848  \n",
      "2 -17880.123870   93217.421820  113019.629202    3755.554084  -52313.496259  \n",
      "3 -14121.194993  -55097.962158  -46072.231655  -55354.908867 -155844.217899  \n",
      "4  45442.440109  -23203.280029 -463356.770823 -193047.711201    1688.217900  \n"
     ]
    }
   ],
   "source": [
    "print(X_pca.head(5))"
   ]
  },
  {
   "cell_type": "markdown",
   "metadata": {},
   "source": [
    "\n",
    "### Part 6: Feature selection and model building\n",
    "Build model using processed data"
   ]
  },
  {
   "cell_type": "code",
   "execution_count": 37,
   "metadata": {},
   "outputs": [
    {
     "name": "stderr",
     "output_type": "stream",
     "text": [
      "C:\\Users\\Sharique Ahmed\\Anaconda3\\lib\\site-packages\\sklearn\\cross_validation.py:41: DeprecationWarning: This module was deprecated in version 0.18 in favor of the model_selection module into which all the refactored classes and functions are moved. Also note that the interface of the new CV iterators are different from that of this module. This module will be removed in 0.20.\n",
      "  \"This module will be removed in 0.20.\", DeprecationWarning)\n"
     ]
    }
   ],
   "source": [
    "# Use train_test_split in sklearn.cross_validation to split data into train and test sets\n",
    "from sklearn.cross_validation import train_test_split\n",
    "\n",
    "X_train, X_test, y_train, y_test = train_test_split(X, y, train_size=0.70, random_state=1)"
   ]
  },
  {
   "cell_type": "code",
   "execution_count": 38,
   "metadata": {},
   "outputs": [
    {
     "name": "stdout",
     "output_type": "stream",
     "text": [
      "(5000, 15)\n",
      "(5000, 1737)\n"
     ]
    }
   ],
   "source": [
    "\n",
    "# The total number of features have grown substantially after dummying and adding interaction terms# The to \n",
    "print(df.shape)\n",
    "print(X.shape)"
   ]
  },
  {
   "cell_type": "code",
   "execution_count": 39,
   "metadata": {},
   "outputs": [
    {
     "name": "stderr",
     "output_type": "stream",
     "text": [
      "C:\\Users\\Sharique Ahmed\\Anaconda3\\lib\\site-packages\\sklearn\\feature_selection\\univariate_selection.py:113: UserWarning: Features [ 350  361  367  458  482  494  535  538  552  625  626  654  663  673  718\n",
      "  750  753  782  812  815  835  857  866  875  879  893  903  985  998 1001\n",
      " 1004 1012 1014 1071 1074 1118 1128 1209 1210 1212 1248 1263 1311 1313 1314\n",
      " 1316 1318 1329 1353 1362 1370 1408 1444 1526 1527 1542 1581 1609 1612 1704] are constant.\n",
      "  UserWarning)\n",
      "C:\\Users\\Sharique Ahmed\\Anaconda3\\lib\\site-packages\\sklearn\\feature_selection\\univariate_selection.py:114: RuntimeWarning: invalid value encountered in true_divide\n",
      "  f = msb / msw\n"
     ]
    }
   ],
   "source": [
    "# Such a large set of features can cause overfitting and also slow computing\n",
    "# Use feature selection to select the most important features\n",
    "import sklearn.feature_selection\n",
    "\n",
    "select = sklearn.feature_selection.SelectKBest(k=20)\n",
    "selected_features = select.fit(X_train, y_train)\n",
    "indices_selected = selected_features.get_support(indices=True)\n",
    "colnames_selected = [X.columns[i] for i in indices_selected]\n",
    "\n",
    "X_train_selected = X_train[colnames_selected]\n",
    "X_test_selected = X_test[colnames_selected]"
   ]
  },
  {
   "cell_type": "code",
   "execution_count": 40,
   "metadata": {},
   "outputs": [
    {
     "name": "stdout",
     "output_type": "stream",
     "text": [
      "['marital_status_Married-civ-spouse', 'marital_status_Never-married', 'relationship_Husband', 'age_education_num', 'age_hours_per_week', 'age_marital_status_Married-civ-spouse', 'age_relationship_Husband', 'fnlwgt_marital_status_Married-civ-spouse', 'education_num_hours_per_week', 'education_num_marital_status_Married-civ-spouse', 'education_num_relationship_Husband', 'hours_per_week_marital_status_Married-civ-spouse', 'hours_per_week_relationship_Husband', 'marital_status_Married-civ-spouse_relationship_Husband', 'marital_status_Married-civ-spouse_race_White', 'marital_status_Married-civ-spouse_sex_Male', 'marital_status_Married-civ-spouse_native_country_United-States ', 'relationship_Husband_race_White', 'relationship_Husband_sex_Male', 'relationship_Husband_native_country_United-States ']\n"
     ]
    }
   ],
   "source": [
    "print(colnames_selected)"
   ]
  },
  {
   "cell_type": "code",
   "execution_count": 41,
   "metadata": {
    "collapsed": true
   },
   "outputs": [],
   "source": [
    "# Function to build model and find model performance\n",
    "from sklearn.linear_model import LogisticRegression\n",
    "from sklearn.metrics import roc_auc_score\n",
    "\n",
    "def find_model_perf(X_train, y_train, X_test, y_test):\n",
    "    model = LogisticRegression()\n",
    "    model.fit(X_train, y_train)\n",
    "    y_hat = [x[1] for x in model.predict_proba(X_test)]\n",
    "    auc = roc_auc_score(y_test, y_hat)\n",
    "    \n",
    "    return auc"
   ]
  },
  {
   "cell_type": "code",
   "execution_count": 42,
   "metadata": {},
   "outputs": [
    {
     "name": "stdout",
     "output_type": "stream",
     "text": [
      "0.879593056268\n"
     ]
    }
   ],
   "source": [
    "# Find performance of model using preprocessed data\n",
    "auc_processed = find_model_perf(X_train_selected, y_train, X_test_selected, y_test)\n",
    "print(auc_processed)"
   ]
  },
  {
   "cell_type": "code",
   "execution_count": 43,
   "metadata": {},
   "outputs": [
    {
     "name": "stdout",
     "output_type": "stream",
     "text": [
      "(5000, 15)\n",
      "(4496, 15)\n"
     ]
    }
   ],
   "source": [
    "# Drop missing values so model does not throw any error\n",
    "df_unprocessed = df\n",
    "df_unprocessed = df_unprocessed.dropna(axis=0, how='any')\n",
    "print(df.shape)\n",
    "print(df_unprocessed.shape)"
   ]
  },
  {
   "cell_type": "code",
   "execution_count": 44,
   "metadata": {
    "collapsed": true
   },
   "outputs": [],
   "source": [
    "# Remove non-numeric columns so model does not throw an error\n",
    "for col_name in df_unprocessed.columns:\n",
    "    if df_unprocessed[col_name].dtypes not in ['int32','int64','float32','float64']:\n",
    "        df_unprocessed = df_unprocessed.drop(col_name, 1)"
   ]
  },
  {
   "cell_type": "code",
   "execution_count": 45,
   "metadata": {
    "collapsed": true
   },
   "outputs": [],
   "source": [
    "# Split into features and outcomes\n",
    "X_unprocessed = df_unprocessed.drop('income', 1)\n",
    "y_unprocessed = df_unprocessed.income"
   ]
  },
  {
   "cell_type": "code",
   "execution_count": 46,
   "metadata": {},
   "outputs": [
    {
     "name": "stdout",
     "output_type": "stream",
     "text": [
      "    age    fnlwgt  education_num  capital_gain  capital_loss  hours_per_week\n",
      "0  39.0   77516.0           13.0          2174             0              40\n",
      "1  50.0   83311.0           13.0             0             0              13\n",
      "2  38.0  215646.0            9.0             0             0              40\n",
      "4  28.0  338409.0           13.0             0             0              40\n",
      "5  37.0  284582.0           14.0             0             0              40\n"
     ]
    }
   ],
   "source": [
    "\n",
    "# Take a look again at what the unprocessed feature set looks like# Take a \n",
    "print(X_unprocessed.head(5))"
   ]
  },
  {
   "cell_type": "code",
   "execution_count": 47,
   "metadata": {},
   "outputs": [
    {
     "name": "stdout",
     "output_type": "stream",
     "text": [
      "0.612049559744\n"
     ]
    }
   ],
   "source": [
    "# Split unprocessed data into train and test set\n",
    "# Build model and assess performance\n",
    "X_train_unprocessed, X_test_unprocessed, y_train, y_test = train_test_split(\n",
    "    X_unprocessed, y_unprocessed, train_size=0.70, random_state=1)\n",
    "\n",
    "auc_unprocessed = find_model_perf(X_train_unprocessed, y_train, X_test_unprocessed, y_test)\n",
    "print(auc_unprocessed)"
   ]
  },
  {
   "cell_type": "code",
   "execution_count": 49,
   "metadata": {},
   "outputs": [
    {
     "name": "stdout",
     "output_type": "stream",
     "text": [
      "AUC of model with data preprocessing: 0.8795930562684261\n",
      "AUC of model with data without preprocessing: 0.612049559743873\n",
      "Model improvement of preprocessing: 43.71271774731987%\n"
     ]
    }
   ],
   "source": [
    "# Compare model performance\n",
    "print('AUC of model with data preprocessing: {auc}'.format(auc=auc_processed))\n",
    "print('AUC of model with data without preprocessing: {auc}'.format(auc=auc_unprocessed))\n",
    "per_improve = ((auc_processed-auc_unprocessed)/auc_unprocessed)*100\n",
    "print('Model improvement of preprocessing: {per_improve}%'.format(per_improve = per_improve))"
   ]
  }
 ],
 "metadata": {
  "kernelspec": {
   "display_name": "Python 3",
   "language": "python",
   "name": "python3"
  },
  "language_info": {
   "codemirror_mode": {
    "name": "ipython",
    "version": 3
   },
   "file_extension": ".py",
   "mimetype": "text/x-python",
   "name": "python",
   "nbconvert_exporter": "python",
   "pygments_lexer": "ipython3",
   "version": "3.6.3"
  }
 },
 "nbformat": 4,
 "nbformat_minor": 2
}

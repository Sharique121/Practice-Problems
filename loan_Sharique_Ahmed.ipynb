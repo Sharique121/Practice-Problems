{
 "cells": [
  {
   "cell_type": "code",
   "execution_count": 1,
   "metadata": {},
   "outputs": [],
   "source": [
    "import pandas as pd\n",
    "import numpy as np\n",
    "import matplotlib.pyplot as plt\n",
    "%matplotlib inline\n",
    "from sklearn.preprocessing import LabelEncoder\n",
    "import seaborn as sns"
   ]
  },
  {
   "cell_type": "code",
   "execution_count": 2,
   "metadata": {},
   "outputs": [
    {
     "name": "stdout",
     "output_type": "stream",
     "text": [
      "(500, 11)\n"
     ]
    },
    {
     "data": {
      "text/html": [
       "<div>\n",
       "<style>\n",
       "    .dataframe thead tr:only-child th {\n",
       "        text-align: right;\n",
       "    }\n",
       "\n",
       "    .dataframe thead th {\n",
       "        text-align: left;\n",
       "    }\n",
       "\n",
       "    .dataframe tbody tr th {\n",
       "        vertical-align: top;\n",
       "    }\n",
       "</style>\n",
       "<table border=\"1\" class=\"dataframe\">\n",
       "  <thead>\n",
       "    <tr style=\"text-align: right;\">\n",
       "      <th></th>\n",
       "      <th>Loan_ID</th>\n",
       "      <th>loan_status</th>\n",
       "      <th>Principal</th>\n",
       "      <th>terms</th>\n",
       "      <th>effective_date</th>\n",
       "      <th>due_date</th>\n",
       "      <th>paid_off_time</th>\n",
       "      <th>past_due_days</th>\n",
       "      <th>age</th>\n",
       "      <th>education</th>\n",
       "      <th>Gender</th>\n",
       "    </tr>\n",
       "  </thead>\n",
       "  <tbody>\n",
       "    <tr>\n",
       "      <th>0</th>\n",
       "      <td>xqd20166231</td>\n",
       "      <td>PAIDOFF</td>\n",
       "      <td>1000</td>\n",
       "      <td>30</td>\n",
       "      <td>9/8/2016</td>\n",
       "      <td>10/7/2016</td>\n",
       "      <td>9/14/2016 19:31</td>\n",
       "      <td>NaN</td>\n",
       "      <td>45</td>\n",
       "      <td>High School or Below</td>\n",
       "      <td>male</td>\n",
       "    </tr>\n",
       "    <tr>\n",
       "      <th>1</th>\n",
       "      <td>xqd20168902</td>\n",
       "      <td>PAIDOFF</td>\n",
       "      <td>1000</td>\n",
       "      <td>30</td>\n",
       "      <td>9/8/2016</td>\n",
       "      <td>10/7/2016</td>\n",
       "      <td>10/7/2016 9:00</td>\n",
       "      <td>NaN</td>\n",
       "      <td>50</td>\n",
       "      <td>Bechalor</td>\n",
       "      <td>female</td>\n",
       "    </tr>\n",
       "    <tr>\n",
       "      <th>2</th>\n",
       "      <td>xqd20160003</td>\n",
       "      <td>PAIDOFF</td>\n",
       "      <td>1000</td>\n",
       "      <td>30</td>\n",
       "      <td>9/8/2016</td>\n",
       "      <td>10/7/2016</td>\n",
       "      <td>9/25/2016 16:58</td>\n",
       "      <td>NaN</td>\n",
       "      <td>33</td>\n",
       "      <td>Bechalor</td>\n",
       "      <td>female</td>\n",
       "    </tr>\n",
       "    <tr>\n",
       "      <th>3</th>\n",
       "      <td>xqd20160004</td>\n",
       "      <td>PAIDOFF</td>\n",
       "      <td>1000</td>\n",
       "      <td>15</td>\n",
       "      <td>9/8/2016</td>\n",
       "      <td>9/22/2016</td>\n",
       "      <td>9/22/2016 20:00</td>\n",
       "      <td>NaN</td>\n",
       "      <td>27</td>\n",
       "      <td>college</td>\n",
       "      <td>male</td>\n",
       "    </tr>\n",
       "    <tr>\n",
       "      <th>4</th>\n",
       "      <td>xqd20160005</td>\n",
       "      <td>PAIDOFF</td>\n",
       "      <td>1000</td>\n",
       "      <td>30</td>\n",
       "      <td>9/9/2016</td>\n",
       "      <td>10/8/2016</td>\n",
       "      <td>9/23/2016 21:36</td>\n",
       "      <td>NaN</td>\n",
       "      <td>28</td>\n",
       "      <td>college</td>\n",
       "      <td>female</td>\n",
       "    </tr>\n",
       "  </tbody>\n",
       "</table>\n",
       "</div>"
      ],
      "text/plain": [
       "       Loan_ID loan_status  Principal  terms effective_date   due_date  \\\n",
       "0  xqd20166231     PAIDOFF       1000     30       9/8/2016  10/7/2016   \n",
       "1  xqd20168902     PAIDOFF       1000     30       9/8/2016  10/7/2016   \n",
       "2  xqd20160003     PAIDOFF       1000     30       9/8/2016  10/7/2016   \n",
       "3  xqd20160004     PAIDOFF       1000     15       9/8/2016  9/22/2016   \n",
       "4  xqd20160005     PAIDOFF       1000     30       9/9/2016  10/8/2016   \n",
       "\n",
       "     paid_off_time  past_due_days  age             education  Gender  \n",
       "0  9/14/2016 19:31            NaN   45  High School or Below    male  \n",
       "1   10/7/2016 9:00            NaN   50              Bechalor  female  \n",
       "2  9/25/2016 16:58            NaN   33              Bechalor  female  \n",
       "3  9/22/2016 20:00            NaN   27               college    male  \n",
       "4  9/23/2016 21:36            NaN   28               college  female  "
      ]
     },
     "execution_count": 2,
     "metadata": {},
     "output_type": "execute_result"
    }
   ],
   "source": [
    "data=pd.read_csv(\"Loan payments data.csv\")\n",
    "print(data.shape)\n",
    "data.head()"
   ]
  },
  {
   "cell_type": "code",
   "execution_count": 3,
   "metadata": {},
   "outputs": [
    {
     "data": {
      "text/plain": [
       "Loan_ID             0\n",
       "loan_status         0\n",
       "Principal           0\n",
       "terms               0\n",
       "effective_date      0\n",
       "due_date            0\n",
       "paid_off_time     100\n",
       "past_due_days     300\n",
       "age                 0\n",
       "education           0\n",
       "Gender              0\n",
       "dtype: int64"
      ]
     },
     "execution_count": 3,
     "metadata": {},
     "output_type": "execute_result"
    }
   ],
   "source": [
    "#Lets start by cleaning the data first\n",
    "data.isnull().sum() #so there are null values"
   ]
  },
  {
   "cell_type": "code",
   "execution_count": 4,
   "metadata": {},
   "outputs": [],
   "source": [
    "#Education field has to be hierarchical, i.e. higher education should weigh more than the education level that\n",
    "#of the high school or below\n",
    "data['education'].value_counts()\n",
    "# we can better encode the values instead of dummifying it\n",
    "list_edu=[]\n",
    "for i in data['education']:\n",
    "    list_edu.append(i)\n",
    "l=LabelEncoder()\n",
    "l.fit(list_edu)\n",
    "l1=l.transform(list_edu)\n",
    "#l1\n",
    "\n",
    "#Similarly for gender we need to encode \n",
    "list_gen=[]\n",
    "for i in data['Gender']:\n",
    "    list_gen.append(i)\n",
    "l.fit(list_gen)\n",
    "l2=l.transform(list_gen)\n",
    "\n",
    "list_loan_stat=[]\n",
    "for i in data['loan_status']:\n",
    "    list_loan_stat.append(i)\n",
    "l.fit(list_loan_stat)\n",
    "l3=l.transform(list_loan_stat)\n"
   ]
  },
  {
   "cell_type": "code",
   "execution_count": 5,
   "metadata": {},
   "outputs": [],
   "source": [
    "#Transforming it into a new dataframe\n",
    "new_data=pd.DataFrame({'loan_status':l3,'Principal':data['Principal'],'terms':data['terms'],'age':data['age'],'education':l1,'Gender':l2,'loan_status':data['loan_status'],'past_due_days':data['past_due_days']})"
   ]
  },
  {
   "cell_type": "code",
   "execution_count": 6,
   "metadata": {},
   "outputs": [
    {
     "data": {
      "text/html": [
       "<div>\n",
       "<style>\n",
       "    .dataframe thead tr:only-child th {\n",
       "        text-align: right;\n",
       "    }\n",
       "\n",
       "    .dataframe thead th {\n",
       "        text-align: left;\n",
       "    }\n",
       "\n",
       "    .dataframe tbody tr th {\n",
       "        vertical-align: top;\n",
       "    }\n",
       "</style>\n",
       "<table border=\"1\" class=\"dataframe\">\n",
       "  <thead>\n",
       "    <tr style=\"text-align: right;\">\n",
       "      <th></th>\n",
       "      <th>Gender</th>\n",
       "      <th>Principal</th>\n",
       "      <th>age</th>\n",
       "      <th>education</th>\n",
       "      <th>loan_status</th>\n",
       "      <th>past_due_days</th>\n",
       "      <th>terms</th>\n",
       "    </tr>\n",
       "  </thead>\n",
       "  <tbody>\n",
       "    <tr>\n",
       "      <th>0</th>\n",
       "      <td>1</td>\n",
       "      <td>1000</td>\n",
       "      <td>45</td>\n",
       "      <td>1</td>\n",
       "      <td>PAIDOFF</td>\n",
       "      <td>NaN</td>\n",
       "      <td>30</td>\n",
       "    </tr>\n",
       "    <tr>\n",
       "      <th>1</th>\n",
       "      <td>0</td>\n",
       "      <td>1000</td>\n",
       "      <td>50</td>\n",
       "      <td>0</td>\n",
       "      <td>PAIDOFF</td>\n",
       "      <td>NaN</td>\n",
       "      <td>30</td>\n",
       "    </tr>\n",
       "    <tr>\n",
       "      <th>2</th>\n",
       "      <td>0</td>\n",
       "      <td>1000</td>\n",
       "      <td>33</td>\n",
       "      <td>0</td>\n",
       "      <td>PAIDOFF</td>\n",
       "      <td>NaN</td>\n",
       "      <td>30</td>\n",
       "    </tr>\n",
       "    <tr>\n",
       "      <th>3</th>\n",
       "      <td>1</td>\n",
       "      <td>1000</td>\n",
       "      <td>27</td>\n",
       "      <td>3</td>\n",
       "      <td>PAIDOFF</td>\n",
       "      <td>NaN</td>\n",
       "      <td>15</td>\n",
       "    </tr>\n",
       "    <tr>\n",
       "      <th>4</th>\n",
       "      <td>0</td>\n",
       "      <td>1000</td>\n",
       "      <td>28</td>\n",
       "      <td>3</td>\n",
       "      <td>PAIDOFF</td>\n",
       "      <td>NaN</td>\n",
       "      <td>30</td>\n",
       "    </tr>\n",
       "  </tbody>\n",
       "</table>\n",
       "</div>"
      ],
      "text/plain": [
       "   Gender  Principal  age  education loan_status  past_due_days  terms\n",
       "0       1       1000   45          1     PAIDOFF            NaN     30\n",
       "1       0       1000   50          0     PAIDOFF            NaN     30\n",
       "2       0       1000   33          0     PAIDOFF            NaN     30\n",
       "3       1       1000   27          3     PAIDOFF            NaN     15\n",
       "4       0       1000   28          3     PAIDOFF            NaN     30"
      ]
     },
     "execution_count": 6,
     "metadata": {},
     "output_type": "execute_result"
    }
   ],
   "source": [
    "new_data.head()"
   ]
  },
  {
   "cell_type": "code",
   "execution_count": 7,
   "metadata": {},
   "outputs": [
    {
     "data": {
      "text/html": [
       "<div>\n",
       "<style>\n",
       "    .dataframe thead tr:only-child th {\n",
       "        text-align: right;\n",
       "    }\n",
       "\n",
       "    .dataframe thead th {\n",
       "        text-align: left;\n",
       "    }\n",
       "\n",
       "    .dataframe tbody tr th {\n",
       "        vertical-align: top;\n",
       "    }\n",
       "</style>\n",
       "<table border=\"1\" class=\"dataframe\">\n",
       "  <thead>\n",
       "    <tr style=\"text-align: right;\">\n",
       "      <th></th>\n",
       "      <th>Gender</th>\n",
       "      <th>Principal</th>\n",
       "      <th>age</th>\n",
       "      <th>education</th>\n",
       "      <th>loan_status</th>\n",
       "      <th>past_due_days</th>\n",
       "      <th>terms</th>\n",
       "    </tr>\n",
       "  </thead>\n",
       "  <tbody>\n",
       "    <tr>\n",
       "      <th>0</th>\n",
       "      <td>1</td>\n",
       "      <td>1000</td>\n",
       "      <td>45</td>\n",
       "      <td>1</td>\n",
       "      <td>PAIDOFF</td>\n",
       "      <td>0.0</td>\n",
       "      <td>30</td>\n",
       "    </tr>\n",
       "    <tr>\n",
       "      <th>1</th>\n",
       "      <td>0</td>\n",
       "      <td>1000</td>\n",
       "      <td>50</td>\n",
       "      <td>0</td>\n",
       "      <td>PAIDOFF</td>\n",
       "      <td>0.0</td>\n",
       "      <td>30</td>\n",
       "    </tr>\n",
       "    <tr>\n",
       "      <th>2</th>\n",
       "      <td>0</td>\n",
       "      <td>1000</td>\n",
       "      <td>33</td>\n",
       "      <td>0</td>\n",
       "      <td>PAIDOFF</td>\n",
       "      <td>0.0</td>\n",
       "      <td>30</td>\n",
       "    </tr>\n",
       "    <tr>\n",
       "      <th>3</th>\n",
       "      <td>1</td>\n",
       "      <td>1000</td>\n",
       "      <td>27</td>\n",
       "      <td>3</td>\n",
       "      <td>PAIDOFF</td>\n",
       "      <td>0.0</td>\n",
       "      <td>15</td>\n",
       "    </tr>\n",
       "    <tr>\n",
       "      <th>4</th>\n",
       "      <td>0</td>\n",
       "      <td>1000</td>\n",
       "      <td>28</td>\n",
       "      <td>3</td>\n",
       "      <td>PAIDOFF</td>\n",
       "      <td>0.0</td>\n",
       "      <td>30</td>\n",
       "    </tr>\n",
       "  </tbody>\n",
       "</table>\n",
       "</div>"
      ],
      "text/plain": [
       "   Gender  Principal  age  education loan_status  past_due_days  terms\n",
       "0       1       1000   45          1     PAIDOFF            0.0     30\n",
       "1       0       1000   50          0     PAIDOFF            0.0     30\n",
       "2       0       1000   33          0     PAIDOFF            0.0     30\n",
       "3       1       1000   27          3     PAIDOFF            0.0     15\n",
       "4       0       1000   28          3     PAIDOFF            0.0     30"
      ]
     },
     "execution_count": 7,
     "metadata": {},
     "output_type": "execute_result"
    }
   ],
   "source": [
    "new_data['past_due_days']=new_data['past_due_days'].fillna(0)\n",
    "new_data.head()"
   ]
  },
  {
   "cell_type": "markdown",
   "metadata": {},
   "source": [
    "**For Gender**\n",
    "- 0 --- Female\n",
    "\n",
    "- 1 --- Male\n",
    "\n",
    "**For education**\n",
    "- 0 --- Bachelor\n",
    "\n",
    "- 1 --- High School or below\n",
    "- 2 --- Master or Above\n",
    "- 3 --- college"
   ]
  },
  {
   "cell_type": "code",
   "execution_count": 8,
   "metadata": {},
   "outputs": [
    {
     "data": {
      "text/plain": [
       "<matplotlib.axes._subplots.AxesSubplot at 0x22855b44518>"
      ]
     },
     "execution_count": 8,
     "metadata": {},
     "output_type": "execute_result"
    },
    {
     "data": {
      "image/png": "[encoded data removed]",
      "text/plain": [
       "<matplotlib.figure.Figure at 0x22855b3ccc0>"
      ]
     },
     "metadata": {},
     "output_type": "display_data"
    }
   ],
   "source": [
    "sns.set_style('darkgrid')\n",
    "sns.countplot(new_data['loan_status'], palette='Spectral')\n",
    "#Here as per the given distribution, we can see that maximum loan has been paid off by the customers\n",
    "#about equal no of defaulters i.e. collection and collection paid off is there\n",
    "# We can see that there is an approximate 3:1:1 ratio between paidoff, collection, and collection_paidoff"
   ]
  },
  {
   "cell_type": "code",
   "execution_count": 9,
   "metadata": {},
   "outputs": [
    {
     "data": {
      "text/html": [
       "<div>\n",
       "<style>\n",
       "    .dataframe thead tr:only-child th {\n",
       "        text-align: right;\n",
       "    }\n",
       "\n",
       "    .dataframe thead th {\n",
       "        text-align: left;\n",
       "    }\n",
       "\n",
       "    .dataframe tbody tr th {\n",
       "        vertical-align: top;\n",
       "    }\n",
       "</style>\n",
       "<table border=\"1\" class=\"dataframe\">\n",
       "  <thead>\n",
       "    <tr>\n",
       "      <th></th>\n",
       "      <th></th>\n",
       "      <th>Loan_ID</th>\n",
       "    </tr>\n",
       "    <tr>\n",
       "      <th></th>\n",
       "      <th></th>\n",
       "      <th>count</th>\n",
       "    </tr>\n",
       "    <tr>\n",
       "      <th>loan_status</th>\n",
       "      <th>Principal</th>\n",
       "      <th></th>\n",
       "    </tr>\n",
       "  </thead>\n",
       "  <tbody>\n",
       "    <tr>\n",
       "      <th rowspan=\"2\" valign=\"top\">COLLECTION</th>\n",
       "      <th>800</th>\n",
       "      <td>23</td>\n",
       "    </tr>\n",
       "    <tr>\n",
       "      <th>1000</th>\n",
       "      <td>77</td>\n",
       "    </tr>\n",
       "    <tr>\n",
       "      <th rowspan=\"3\" valign=\"top\">COLLECTION_PAIDOFF</th>\n",
       "      <th>500</th>\n",
       "      <td>1</td>\n",
       "    </tr>\n",
       "    <tr>\n",
       "      <th>800</th>\n",
       "      <td>19</td>\n",
       "    </tr>\n",
       "    <tr>\n",
       "      <th>1000</th>\n",
       "      <td>80</td>\n",
       "    </tr>\n",
       "    <tr>\n",
       "      <th rowspan=\"6\" valign=\"top\">PAIDOFF</th>\n",
       "      <th>300</th>\n",
       "      <td>6</td>\n",
       "    </tr>\n",
       "    <tr>\n",
       "      <th>500</th>\n",
       "      <td>2</td>\n",
       "    </tr>\n",
       "    <tr>\n",
       "      <th>700</th>\n",
       "      <td>1</td>\n",
       "    </tr>\n",
       "    <tr>\n",
       "      <th>800</th>\n",
       "      <td>69</td>\n",
       "    </tr>\n",
       "    <tr>\n",
       "      <th>900</th>\n",
       "      <td>2</td>\n",
       "    </tr>\n",
       "    <tr>\n",
       "      <th>1000</th>\n",
       "      <td>220</td>\n",
       "    </tr>\n",
       "  </tbody>\n",
       "</table>\n",
       "</div>"
      ],
      "text/plain": [
       "                             Loan_ID\n",
       "                               count\n",
       "loan_status        Principal        \n",
       "COLLECTION         800            23\n",
       "                   1000           77\n",
       "COLLECTION_PAIDOFF 500             1\n",
       "                   800            19\n",
       "                   1000           80\n",
       "PAIDOFF            300             6\n",
       "                   500             2\n",
       "                   700             1\n",
       "                   800            69\n",
       "                   900             2\n",
       "                   1000          220"
      ]
     },
     "execution_count": 9,
     "metadata": {},
     "output_type": "execute_result"
    }
   ],
   "source": [
    "data[['loan_status','Principal','Loan_ID']].groupby(['loan_status','Principal']).agg(['count'])"
   ]
  },
  {
   "cell_type": "code",
   "execution_count": 10,
   "metadata": {},
   "outputs": [
    {
     "data": {
      "text/plain": [
       "<matplotlib.axes._subplots.AxesSubplot at 0x22855b7c6a0>"
      ]
     },
     "execution_count": 10,
     "metadata": {},
     "output_type": "execute_result"
    },
    {
     "data": {
      "image/png": "[encoded data removed]",
      "text/plain": [
       "<matplotlib.figure.Figure at 0x22855b83ac8>"
      ]
     },
     "metadata": {},
     "output_type": "display_data"
    }
   ],
   "source": [
    "fig=plt.figure(figsize=(12,6))\n",
    "sns.distplot(data['Principal'], bins=40)\n",
    "\n",
    "#we can see that most of the principal amount is at 1000"
   ]
  },
  {
   "cell_type": "code",
   "execution_count": 11,
   "metadata": {},
   "outputs": [
    {
     "data": {
      "text/plain": [
       "Text(0.5,1,'Term Counts')"
      ]
     },
     "execution_count": 11,
     "metadata": {},
     "output_type": "execute_result"
    },
    {
     "data": {
      "image/png": "[encoded data removed]",
      "text/plain": [
       "<matplotlib.figure.Figure at 0x22849170fd0>"
      ]
     },
     "metadata": {},
     "output_type": "display_data"
    }
   ],
   "source": [
    "data['terms'].value_counts()\n",
    "#lets visualize this figure\n",
    "ax= sns.countplot(data['terms'], palette='Spectral')\n",
    "ax.set_title('Term Counts')\n",
    "#there are more number of loan terms of 30 days than those of 15 and 7 respectively"
   ]
  },
  {
   "cell_type": "code",
   "execution_count": 12,
   "metadata": {
    "scrolled": true
   },
   "outputs": [
    {
     "data": {
      "text/plain": [
       "<matplotlib.legend.Legend at 0x228563065f8>"
      ]
     },
     "execution_count": 12,
     "metadata": {},
     "output_type": "execute_result"
    },
    {
     "data": {
      "image/png": "[encoded data removed]",
      "text/plain": [
       "<matplotlib.figure.Figure at 0x228563066d8>"
      ]
     },
     "metadata": {},
     "output_type": "display_data"
    }
   ],
   "source": [
    "fig, ax=plt.subplots(figsize=(12,4))\n",
    "sns.countplot(x='terms', hue='loan_status', data=data, palette='Spectral')\n",
    "ax.set_title('Term counts by Loan Status')\n",
    "ax.legend(loc='upper left')\n",
    "#We can see here that most of the loan defaulters are having term 30 and 15, with no of defaulters in\n",
    "#term 30 being the most"
   ]
  },
  {
   "cell_type": "code",
   "execution_count": 13,
   "metadata": {},
   "outputs": [],
   "source": [
    "data['Days to pay']= (pd.DatetimeIndex(data['paid_off_time']).normalize()\n",
    "                        -pd.DatetimeIndex(data['effective_date']).normalize())/np.timedelta64(1,'D')\n",
    "#Computing the days to pay by subtracting effective data from paid off time"
   ]
  },
  {
   "cell_type": "code",
   "execution_count": 14,
   "metadata": {},
   "outputs": [
    {
     "data": {
      "text/html": [
       "<div>\n",
       "<style>\n",
       "    .dataframe thead tr:only-child th {\n",
       "        text-align: right;\n",
       "    }\n",
       "\n",
       "    .dataframe thead th {\n",
       "        text-align: left;\n",
       "    }\n",
       "\n",
       "    .dataframe tbody tr th {\n",
       "        vertical-align: top;\n",
       "    }\n",
       "</style>\n",
       "<table border=\"1\" class=\"dataframe\">\n",
       "  <thead>\n",
       "    <tr style=\"text-align: right;\">\n",
       "      <th></th>\n",
       "      <th>Loan_ID</th>\n",
       "      <th>loan_status</th>\n",
       "      <th>Principal</th>\n",
       "      <th>terms</th>\n",
       "      <th>effective_date</th>\n",
       "      <th>due_date</th>\n",
       "      <th>paid_off_time</th>\n",
       "      <th>past_due_days</th>\n",
       "      <th>age</th>\n",
       "      <th>education</th>\n",
       "      <th>Gender</th>\n",
       "      <th>Days to pay</th>\n",
       "    </tr>\n",
       "  </thead>\n",
       "  <tbody>\n",
       "    <tr>\n",
       "      <th>0</th>\n",
       "      <td>xqd20166231</td>\n",
       "      <td>PAIDOFF</td>\n",
       "      <td>1000</td>\n",
       "      <td>30</td>\n",
       "      <td>9/8/2016</td>\n",
       "      <td>10/7/2016</td>\n",
       "      <td>9/14/2016 19:31</td>\n",
       "      <td>NaN</td>\n",
       "      <td>45</td>\n",
       "      <td>High School or Below</td>\n",
       "      <td>male</td>\n",
       "      <td>6.0</td>\n",
       "    </tr>\n",
       "    <tr>\n",
       "      <th>1</th>\n",
       "      <td>xqd20168902</td>\n",
       "      <td>PAIDOFF</td>\n",
       "      <td>1000</td>\n",
       "      <td>30</td>\n",
       "      <td>9/8/2016</td>\n",
       "      <td>10/7/2016</td>\n",
       "      <td>10/7/2016 9:00</td>\n",
       "      <td>NaN</td>\n",
       "      <td>50</td>\n",
       "      <td>Bechalor</td>\n",
       "      <td>female</td>\n",
       "      <td>29.0</td>\n",
       "    </tr>\n",
       "    <tr>\n",
       "      <th>2</th>\n",
       "      <td>xqd20160003</td>\n",
       "      <td>PAIDOFF</td>\n",
       "      <td>1000</td>\n",
       "      <td>30</td>\n",
       "      <td>9/8/2016</td>\n",
       "      <td>10/7/2016</td>\n",
       "      <td>9/25/2016 16:58</td>\n",
       "      <td>NaN</td>\n",
       "      <td>33</td>\n",
       "      <td>Bechalor</td>\n",
       "      <td>female</td>\n",
       "      <td>17.0</td>\n",
       "    </tr>\n",
       "    <tr>\n",
       "      <th>3</th>\n",
       "      <td>xqd20160004</td>\n",
       "      <td>PAIDOFF</td>\n",
       "      <td>1000</td>\n",
       "      <td>15</td>\n",
       "      <td>9/8/2016</td>\n",
       "      <td>9/22/2016</td>\n",
       "      <td>9/22/2016 20:00</td>\n",
       "      <td>NaN</td>\n",
       "      <td>27</td>\n",
       "      <td>college</td>\n",
       "      <td>male</td>\n",
       "      <td>14.0</td>\n",
       "    </tr>\n",
       "    <tr>\n",
       "      <th>4</th>\n",
       "      <td>xqd20160005</td>\n",
       "      <td>PAIDOFF</td>\n",
       "      <td>1000</td>\n",
       "      <td>30</td>\n",
       "      <td>9/9/2016</td>\n",
       "      <td>10/8/2016</td>\n",
       "      <td>9/23/2016 21:36</td>\n",
       "      <td>NaN</td>\n",
       "      <td>28</td>\n",
       "      <td>college</td>\n",
       "      <td>female</td>\n",
       "      <td>14.0</td>\n",
       "    </tr>\n",
       "  </tbody>\n",
       "</table>\n",
       "</div>"
      ],
      "text/plain": [
       "       Loan_ID loan_status  Principal  terms effective_date   due_date  \\\n",
       "0  xqd20166231     PAIDOFF       1000     30       9/8/2016  10/7/2016   \n",
       "1  xqd20168902     PAIDOFF       1000     30       9/8/2016  10/7/2016   \n",
       "2  xqd20160003     PAIDOFF       1000     30       9/8/2016  10/7/2016   \n",
       "3  xqd20160004     PAIDOFF       1000     15       9/8/2016  9/22/2016   \n",
       "4  xqd20160005     PAIDOFF       1000     30       9/9/2016  10/8/2016   \n",
       "\n",
       "     paid_off_time  past_due_days  age             education  Gender  \\\n",
       "0  9/14/2016 19:31            NaN   45  High School or Below    male   \n",
       "1   10/7/2016 9:00            NaN   50              Bechalor  female   \n",
       "2  9/25/2016 16:58            NaN   33              Bechalor  female   \n",
       "3  9/22/2016 20:00            NaN   27               college    male   \n",
       "4  9/23/2016 21:36            NaN   28               college  female   \n",
       "\n",
       "   Days to pay  \n",
       "0          6.0  \n",
       "1         29.0  \n",
       "2         17.0  \n",
       "3         14.0  \n",
       "4         14.0  "
      ]
     },
     "execution_count": 14,
     "metadata": {},
     "output_type": "execute_result"
    }
   ],
   "source": [
    "data.head()"
   ]
  },
  {
   "cell_type": "code",
   "execution_count": 15,
   "metadata": {},
   "outputs": [
    {
     "data": {
      "text/html": [
       "<div>\n",
       "<style>\n",
       "    .dataframe thead tr:only-child th {\n",
       "        text-align: right;\n",
       "    }\n",
       "\n",
       "    .dataframe thead th {\n",
       "        text-align: left;\n",
       "    }\n",
       "\n",
       "    .dataframe tbody tr th {\n",
       "        vertical-align: top;\n",
       "    }\n",
       "</style>\n",
       "<table border=\"1\" class=\"dataframe\">\n",
       "  <thead>\n",
       "    <tr style=\"text-align: right;\">\n",
       "      <th></th>\n",
       "      <th>Loan_ID</th>\n",
       "      <th>loan_status</th>\n",
       "      <th>Principal</th>\n",
       "      <th>terms</th>\n",
       "      <th>effective_date</th>\n",
       "      <th>due_date</th>\n",
       "      <th>paid_off_time</th>\n",
       "      <th>past_due_days</th>\n",
       "      <th>age</th>\n",
       "      <th>education</th>\n",
       "      <th>Gender</th>\n",
       "      <th>Days to pay</th>\n",
       "      <th>paid_off_date</th>\n",
       "    </tr>\n",
       "  </thead>\n",
       "  <tbody>\n",
       "    <tr>\n",
       "      <th>0</th>\n",
       "      <td>xqd20166231</td>\n",
       "      <td>PAIDOFF</td>\n",
       "      <td>1000</td>\n",
       "      <td>30</td>\n",
       "      <td>9/8/2016</td>\n",
       "      <td>10/7/2016</td>\n",
       "      <td>9/14/2016 19:31</td>\n",
       "      <td>NaN</td>\n",
       "      <td>45</td>\n",
       "      <td>High School or Below</td>\n",
       "      <td>male</td>\n",
       "      <td>6.0</td>\n",
       "      <td>2016-09-14</td>\n",
       "    </tr>\n",
       "    <tr>\n",
       "      <th>1</th>\n",
       "      <td>xqd20168902</td>\n",
       "      <td>PAIDOFF</td>\n",
       "      <td>1000</td>\n",
       "      <td>30</td>\n",
       "      <td>9/8/2016</td>\n",
       "      <td>10/7/2016</td>\n",
       "      <td>10/7/2016 9:00</td>\n",
       "      <td>NaN</td>\n",
       "      <td>50</td>\n",
       "      <td>Bechalor</td>\n",
       "      <td>female</td>\n",
       "      <td>29.0</td>\n",
       "      <td>2016-10-07</td>\n",
       "    </tr>\n",
       "    <tr>\n",
       "      <th>2</th>\n",
       "      <td>xqd20160003</td>\n",
       "      <td>PAIDOFF</td>\n",
       "      <td>1000</td>\n",
       "      <td>30</td>\n",
       "      <td>9/8/2016</td>\n",
       "      <td>10/7/2016</td>\n",
       "      <td>9/25/2016 16:58</td>\n",
       "      <td>NaN</td>\n",
       "      <td>33</td>\n",
       "      <td>Bechalor</td>\n",
       "      <td>female</td>\n",
       "      <td>17.0</td>\n",
       "      <td>2016-09-25</td>\n",
       "    </tr>\n",
       "    <tr>\n",
       "      <th>3</th>\n",
       "      <td>xqd20160004</td>\n",
       "      <td>PAIDOFF</td>\n",
       "      <td>1000</td>\n",
       "      <td>15</td>\n",
       "      <td>9/8/2016</td>\n",
       "      <td>9/22/2016</td>\n",
       "      <td>9/22/2016 20:00</td>\n",
       "      <td>NaN</td>\n",
       "      <td>27</td>\n",
       "      <td>college</td>\n",
       "      <td>male</td>\n",
       "      <td>14.0</td>\n",
       "      <td>2016-09-22</td>\n",
       "    </tr>\n",
       "    <tr>\n",
       "      <th>4</th>\n",
       "      <td>xqd20160005</td>\n",
       "      <td>PAIDOFF</td>\n",
       "      <td>1000</td>\n",
       "      <td>30</td>\n",
       "      <td>9/9/2016</td>\n",
       "      <td>10/8/2016</td>\n",
       "      <td>9/23/2016 21:36</td>\n",
       "      <td>NaN</td>\n",
       "      <td>28</td>\n",
       "      <td>college</td>\n",
       "      <td>female</td>\n",
       "      <td>14.0</td>\n",
       "      <td>2016-09-23</td>\n",
       "    </tr>\n",
       "  </tbody>\n",
       "</table>\n",
       "</div>"
      ],
      "text/plain": [
       "       Loan_ID loan_status  Principal  terms effective_date   due_date  \\\n",
       "0  xqd20166231     PAIDOFF       1000     30       9/8/2016  10/7/2016   \n",
       "1  xqd20168902     PAIDOFF       1000     30       9/8/2016  10/7/2016   \n",
       "2  xqd20160003     PAIDOFF       1000     30       9/8/2016  10/7/2016   \n",
       "3  xqd20160004     PAIDOFF       1000     15       9/8/2016  9/22/2016   \n",
       "4  xqd20160005     PAIDOFF       1000     30       9/9/2016  10/8/2016   \n",
       "\n",
       "     paid_off_time  past_due_days  age             education  Gender  \\\n",
       "0  9/14/2016 19:31            NaN   45  High School or Below    male   \n",
       "1   10/7/2016 9:00            NaN   50              Bechalor  female   \n",
       "2  9/25/2016 16:58            NaN   33              Bechalor  female   \n",
       "3  9/22/2016 20:00            NaN   27               college    male   \n",
       "4  9/23/2016 21:36            NaN   28               college  female   \n",
       "\n",
       "   Days to pay paid_off_date  \n",
       "0          6.0    2016-09-14  \n",
       "1         29.0    2016-10-07  \n",
       "2         17.0    2016-09-25  \n",
       "3         14.0    2016-09-22  \n",
       "4         14.0    2016-09-23  "
      ]
     },
     "execution_count": 15,
     "metadata": {},
     "output_type": "execute_result"
    }
   ],
   "source": [
    "data['paid_off_date'] = pd.DatetimeIndex(data['paid_off_time']).normalize()\n",
    "data.head()"
   ]
  },
  {
   "cell_type": "code",
   "execution_count": 16,
   "metadata": {
    "scrolled": true
   },
   "outputs": [
    {
     "data": {
      "text/plain": [
       "[Text(0,0,'0.0'),\n",
       " Text(0,0,'1.0'),\n",
       " Text(0,0,'2.0'),\n",
       " Text(0,0,'3.0'),\n",
       " Text(0,0,'4.0'),\n",
       " Text(0,0,'5.0'),\n",
       " Text(0,0,'6.0'),\n",
       " Text(0,0,'7.0'),\n",
       " Text(0,0,'8.0'),\n",
       " Text(0,0,'9.0'),\n",
       " Text(0,0,'10.0'),\n",
       " Text(0,0,'11.0'),\n",
       " Text(0,0,'12.0'),\n",
       " Text(0,0,'13.0'),\n",
       " Text(0,0,'14.0'),\n",
       " Text(0,0,'15.0'),\n",
       " Text(0,0,'16.0'),\n",
       " Text(0,0,'17.0'),\n",
       " Text(0,0,'18.0'),\n",
       " Text(0,0,'19.0'),\n",
       " Text(0,0,'20.0'),\n",
       " Text(0,0,'21.0'),\n",
       " Text(0,0,'22.0'),\n",
       " Text(0,0,'23.0'),\n",
       " Text(0,0,'24.0'),\n",
       " Text(0,0,'25.0'),\n",
       " Text(0,0,'26.0'),\n",
       " Text(0,0,'27.0'),\n",
       " Text(0,0,'28.0'),\n",
       " Text(0,0,'29.0'),\n",
       " Text(0,0,'30.0'),\n",
       " Text(0,0,'31.0'),\n",
       " Text(0,0,'32.0'),\n",
       " Text(0,0,'33.0'),\n",
       " Text(0,0,'35.0'),\n",
       " Text(0,0,'36.0'),\n",
       " Text(0,0,'37.0'),\n",
       " Text(0,0,'38.0'),\n",
       " Text(0,0,'41.0'),\n",
       " Text(0,0,'43.0'),\n",
       " Text(0,0,'44.0'),\n",
       " Text(0,0,'45.0'),\n",
       " Text(0,0,'48.0'),\n",
       " Text(0,0,'49.0'),\n",
       " Text(0,0,'52.0'),\n",
       " Text(0,0,'53.0'),\n",
       " Text(0,0,'54.0'),\n",
       " Text(0,0,'56.0'),\n",
       " Text(0,0,'57.0'),\n",
       " Text(0,0,'58.0'),\n",
       " Text(0,0,'59.0'),\n",
       " Text(0,0,'60.0'),\n",
       " Text(0,0,'64.0'),\n",
       " Text(0,0,'65.0'),\n",
       " Text(0,0,'66.0'),\n",
       " Text(0,0,'67.0'),\n",
       " Text(0,0,'70.0'),\n",
       " Text(0,0,'72.0'),\n",
       " Text(0,0,'73.0'),\n",
       " Text(0,0,'81.0')]"
      ]
     },
     "execution_count": 16,
     "metadata": {},
     "output_type": "execute_result"
    },
    {
     "data": {
      "image/png": "[encoded data removed]",
      "text/plain": [
       "<matplotlib.figure.Figure at 0x22856192668>"
      ]
     },
     "metadata": {},
     "output_type": "display_data"
    }
   ],
   "source": [
    "\n",
    "\n",
    "fig, ax=plt.subplots(figsize=(15,6))\n",
    "ax=sns.countplot(x='Days to pay',hue='terms',data=data)\n",
    "ax.set_xticklabels(ax.get_xticklabels(),rotation=90)\n",
    "#This is a collection of records of payment in days for different terms, we see that maximum number of people\n",
    "#pay their loans on 29th day for a term day of 30 days and we see similar reports for 15 day terms\n",
    "#but interestingly the most people with 7 day term pay much before their schedule\n",
    "#but this does not give the clear picture we need to see the people who have paid off within the stipulated time"
   ]
  },
  {
   "cell_type": "code",
   "execution_count": 17,
   "metadata": {
    "scrolled": true
   },
   "outputs": [
    {
     "data": {
      "text/plain": [
       "[Text(0,0,'0.0'),\n",
       " Text(0,0,'1.0'),\n",
       " Text(0,0,'2.0'),\n",
       " Text(0,0,'3.0'),\n",
       " Text(0,0,'4.0'),\n",
       " Text(0,0,'5.0'),\n",
       " Text(0,0,'6.0'),\n",
       " Text(0,0,'7.0'),\n",
       " Text(0,0,'8.0'),\n",
       " Text(0,0,'9.0'),\n",
       " Text(0,0,'10.0'),\n",
       " Text(0,0,'11.0'),\n",
       " Text(0,0,'12.0'),\n",
       " Text(0,0,'13.0'),\n",
       " Text(0,0,'14.0'),\n",
       " Text(0,0,'15.0'),\n",
       " Text(0,0,'16.0'),\n",
       " Text(0,0,'17.0'),\n",
       " Text(0,0,'18.0'),\n",
       " Text(0,0,'19.0'),\n",
       " Text(0,0,'20.0'),\n",
       " Text(0,0,'21.0'),\n",
       " Text(0,0,'22.0'),\n",
       " Text(0,0,'23.0'),\n",
       " Text(0,0,'24.0'),\n",
       " Text(0,0,'25.0'),\n",
       " Text(0,0,'26.0'),\n",
       " Text(0,0,'27.0'),\n",
       " Text(0,0,'28.0'),\n",
       " Text(0,0,'29.0'),\n",
       " Text(0,0,'30.0'),\n",
       " Text(0,0,'44.0'),\n",
       " Text(0,0,'59.0')]"
      ]
     },
     "execution_count": 17,
     "metadata": {},
     "output_type": "execute_result"
    },
    {
     "data": {
      "image/png": "[encoded data removed]",
      "text/plain": [
       "<matplotlib.figure.Figure at 0x22856184ac8>"
      ]
     },
     "metadata": {},
     "output_type": "display_data"
    }
   ],
   "source": [
    "fig, ax=plt.subplots(figsize=(15,6))\n",
    "ax=sns.countplot(x='Days to pay', hue='terms', data=data[data['loan_status']== 'PAIDOFF'])\n",
    "ax.set_xticklabels(ax.get_xticklabels(),rotation=90)\n",
    "#as we are looking at the results of those people who are non defaulters. We can clearly see that\n",
    "#there are some records which are incorrect people who fall under the category of paidoff they have\n",
    "#made their payments in 32 and 59 days for 30 day payment term\n",
    "#where as indivudual with payment term of 15 days has paid in 44 and 29 days\n",
    "#these people have incorrect records"
   ]
  },
  {
   "cell_type": "code",
   "execution_count": 18,
   "metadata": {},
   "outputs": [
    {
     "name": "stdout",
     "output_type": "stream",
     "text": [
      "{}: Incorrect status: {} observations\n",
      "    loan_status  terms effective_date    due_date     paid_off_time\n",
      "85      PAIDOFF     30      9/11/2016   11/9/2016    11/9/2016 9:00\n",
      "111     PAIDOFF     30      9/11/2016   11/9/2016    11/9/2016 9:00\n",
      "122     PAIDOFF     15      9/11/2016  10/25/2016   10/25/2016 9:00\n",
      "137     PAIDOFF     15      9/11/2016  10/25/2016   10/25/2016 9:00\n",
      "146     PAIDOFF     30      9/11/2016   11/9/2016   11/9/2016 23:00\n",
      "150     PAIDOFF     15      9/12/2016  10/26/2016   10/26/2016 9:00\n",
      "165     PAIDOFF     30      9/12/2016  11/10/2016  11/10/2016 16:00\n",
      "196     PAIDOFF     30      9/12/2016  11/10/2016  11/10/2016 13:00\n",
      "206     PAIDOFF     30      9/12/2016  11/10/2016  11/10/2016 13:00\n",
      "215     PAIDOFF     30      9/12/2016  11/10/2016  11/10/2016 16:00\n",
      "222     PAIDOFF     30      9/12/2016  11/10/2016  11/10/2016 13:00\n",
      "230     PAIDOFF     15      9/12/2016  10/26/2016   10/26/2016 9:00\n",
      "272     PAIDOFF     30      9/14/2016  11/12/2016   11/12/2016 9:00\n",
      "285     PAIDOFF     30      9/14/2016  11/12/2016   11/12/2016 9:00\n"
     ]
    }
   ],
   "source": [
    "tmp = data.loc[(data['Days to pay'] > 30) & (data['loan_status'] == 'PAIDOFF')]\n",
    "print(\"{}: Incorrect status: {} observations\")\n",
    "print(tmp[['loan_status', 'terms', 'effective_date', 'due_date', 'paid_off_time']]) #the difference for first observation\n",
    "#is 59 days so we can see that these records are incorrect"
   ]
  },
  {
   "cell_type": "code",
   "execution_count": 19,
   "metadata": {},
   "outputs": [
    {
     "data": {
      "text/plain": [
       "Text(0.5,1,'Education of the gender')"
      ]
     },
     "execution_count": 19,
     "metadata": {},
     "output_type": "execute_result"
    },
    {
     "data": {
      "image/png": "[encoded data removed]",
      "text/plain": [
       "<matplotlib.figure.Figure at 0x22856568978>"
      ]
     },
     "metadata": {},
     "output_type": "display_data"
    }
   ],
   "source": [
    "## exploring demographic\n",
    "fig, axs=plt.subplots(3,2, figsize=(20,15))\n",
    "\n",
    "sns.distplot(data['age'], ax=axs[0][0])\n",
    "axs[0][0].set_title(\"Total age distribution across dataset\")\n",
    "\n",
    "sns.boxplot(x='loan_status', y='age', data=data, ax=axs[0][1])\n",
    "axs[0][1].set_title(\"Age distribution by loan status\")\n",
    "\n",
    "sns.countplot(x='education', data=data, ax=axs[1][0])\n",
    "axs[1][0].set_title(\"Education count\")\n",
    "\n",
    "\n",
    "sns.countplot(x='education', data=data, hue='loan_status', ax=axs[1][1])\n",
    "axs[1][1].set_title(\"Education by loan status\")\n",
    "axs[1][1].legend(loc='upper right')\n",
    "\n",
    "\n",
    "sns.countplot(x='Gender', data=data, ax=axs[2][0])\n",
    "axs[2][0].set_title(\" Gender\")\n",
    "\n",
    "sns.countplot(x='Gender', data=data, hue='education', ax=axs[2][1])\n",
    "axs[2][1].set_title(\"Education of the gender\")"
   ]
  },
  {
   "cell_type": "code",
   "execution_count": 20,
   "metadata": {},
   "outputs": [
    {
     "data": {
      "text/html": [
       "<div>\n",
       "<style>\n",
       "    .dataframe thead tr:only-child th {\n",
       "        text-align: right;\n",
       "    }\n",
       "\n",
       "    .dataframe thead th {\n",
       "        text-align: left;\n",
       "    }\n",
       "\n",
       "    .dataframe tbody tr th {\n",
       "        vertical-align: top;\n",
       "    }\n",
       "</style>\n",
       "<table border=\"1\" class=\"dataframe\">\n",
       "  <thead>\n",
       "    <tr style=\"text-align: right;\">\n",
       "      <th>col_0</th>\n",
       "      <th>female_Bechalor</th>\n",
       "      <th>female_High School or Below</th>\n",
       "      <th>female_college</th>\n",
       "      <th>male_Bechalor</th>\n",
       "      <th>male_High School or Below</th>\n",
       "      <th>male_Master or Above</th>\n",
       "      <th>male_college</th>\n",
       "      <th>All</th>\n",
       "    </tr>\n",
       "    <tr>\n",
       "      <th>loan_status</th>\n",
       "      <th></th>\n",
       "      <th></th>\n",
       "      <th></th>\n",
       "      <th></th>\n",
       "      <th></th>\n",
       "      <th></th>\n",
       "      <th></th>\n",
       "      <th></th>\n",
       "    </tr>\n",
       "  </thead>\n",
       "  <tbody>\n",
       "    <tr>\n",
       "      <th>COLLECTION</th>\n",
       "      <td>0</td>\n",
       "      <td>7</td>\n",
       "      <td>3</td>\n",
       "      <td>11</td>\n",
       "      <td>42</td>\n",
       "      <td>1</td>\n",
       "      <td>36</td>\n",
       "      <td>100</td>\n",
       "    </tr>\n",
       "    <tr>\n",
       "      <th>COLLECTION_PAIDOFF</th>\n",
       "      <td>1</td>\n",
       "      <td>5</td>\n",
       "      <td>8</td>\n",
       "      <td>14</td>\n",
       "      <td>32</td>\n",
       "      <td>0</td>\n",
       "      <td>40</td>\n",
       "      <td>100</td>\n",
       "    </tr>\n",
       "    <tr>\n",
       "      <th>PAIDOFF</th>\n",
       "      <td>12</td>\n",
       "      <td>19</td>\n",
       "      <td>22</td>\n",
       "      <td>29</td>\n",
       "      <td>104</td>\n",
       "      <td>3</td>\n",
       "      <td>111</td>\n",
       "      <td>300</td>\n",
       "    </tr>\n",
       "    <tr>\n",
       "      <th>All</th>\n",
       "      <td>13</td>\n",
       "      <td>31</td>\n",
       "      <td>33</td>\n",
       "      <td>54</td>\n",
       "      <td>178</td>\n",
       "      <td>4</td>\n",
       "      <td>187</td>\n",
       "      <td>500</td>\n",
       "    </tr>\n",
       "  </tbody>\n",
       "</table>\n",
       "</div>"
      ],
      "text/plain": [
       "col_0               female_Bechalor  female_High School or Below  \\\n",
       "loan_status                                                        \n",
       "COLLECTION                        0                            7   \n",
       "COLLECTION_PAIDOFF                1                            5   \n",
       "PAIDOFF                          12                           19   \n",
       "All                              13                           31   \n",
       "\n",
       "col_0               female_college  male_Bechalor  male_High School or Below  \\\n",
       "loan_status                                                                    \n",
       "COLLECTION                       3             11                         42   \n",
       "COLLECTION_PAIDOFF               8             14                         32   \n",
       "PAIDOFF                         22             29                        104   \n",
       "All                             33             54                        178   \n",
       "\n",
       "col_0               male_Master or Above  male_college  All  \n",
       "loan_status                                                  \n",
       "COLLECTION                             1            36  100  \n",
       "COLLECTION_PAIDOFF                     0            40  100  \n",
       "PAIDOFF                                3           111  300  \n",
       "All                                    4           187  500  "
      ]
     },
     "execution_count": 20,
     "metadata": {},
     "output_type": "execute_result"
    }
   ],
   "source": [
    "## exploring gender +education \n",
    "pd.crosstab(data['loan_status'], data['Gender'] + \"_\" + data['education'], margins=True)\n",
    "#There are less number of students who are graduated and defaulted\n",
    "#Mostly college students have defaulted but their collection has been completed\n",
    "#Mostly male high school students are defaulted and their payment is in the process of being collected"
   ]
  },
  {
   "cell_type": "code",
   "execution_count": 21,
   "metadata": {},
   "outputs": [
    {
     "data": {
      "text/html": [
       "<div>\n",
       "<style>\n",
       "    .dataframe thead tr:only-child th {\n",
       "        text-align: right;\n",
       "    }\n",
       "\n",
       "    .dataframe thead th {\n",
       "        text-align: left;\n",
       "    }\n",
       "\n",
       "    .dataframe tbody tr th {\n",
       "        vertical-align: top;\n",
       "    }\n",
       "</style>\n",
       "<table border=\"1\" class=\"dataframe\">\n",
       "  <thead>\n",
       "    <tr style=\"text-align: right;\">\n",
       "      <th>col_0</th>\n",
       "      <th>female_Bechalor</th>\n",
       "      <th>female_High School or Below</th>\n",
       "      <th>female_college</th>\n",
       "      <th>male_Bechalor</th>\n",
       "      <th>male_High School or Below</th>\n",
       "      <th>male_Master or Above</th>\n",
       "      <th>male_college</th>\n",
       "      <th>All</th>\n",
       "    </tr>\n",
       "    <tr>\n",
       "      <th>loan_status</th>\n",
       "      <th></th>\n",
       "      <th></th>\n",
       "      <th></th>\n",
       "      <th></th>\n",
       "      <th></th>\n",
       "      <th></th>\n",
       "      <th></th>\n",
       "      <th></th>\n",
       "    </tr>\n",
       "  </thead>\n",
       "  <tbody>\n",
       "    <tr>\n",
       "      <th>COLLECTION</th>\n",
       "      <td>0.000</td>\n",
       "      <td>0.014</td>\n",
       "      <td>0.006</td>\n",
       "      <td>0.022</td>\n",
       "      <td>0.084</td>\n",
       "      <td>0.002</td>\n",
       "      <td>0.072</td>\n",
       "      <td>0.2</td>\n",
       "    </tr>\n",
       "    <tr>\n",
       "      <th>COLLECTION_PAIDOFF</th>\n",
       "      <td>0.002</td>\n",
       "      <td>0.010</td>\n",
       "      <td>0.016</td>\n",
       "      <td>0.028</td>\n",
       "      <td>0.064</td>\n",
       "      <td>0.000</td>\n",
       "      <td>0.080</td>\n",
       "      <td>0.2</td>\n",
       "    </tr>\n",
       "    <tr>\n",
       "      <th>PAIDOFF</th>\n",
       "      <td>0.024</td>\n",
       "      <td>0.038</td>\n",
       "      <td>0.044</td>\n",
       "      <td>0.058</td>\n",
       "      <td>0.208</td>\n",
       "      <td>0.006</td>\n",
       "      <td>0.222</td>\n",
       "      <td>0.6</td>\n",
       "    </tr>\n",
       "    <tr>\n",
       "      <th>All</th>\n",
       "      <td>0.026</td>\n",
       "      <td>0.062</td>\n",
       "      <td>0.066</td>\n",
       "      <td>0.108</td>\n",
       "      <td>0.356</td>\n",
       "      <td>0.008</td>\n",
       "      <td>0.374</td>\n",
       "      <td>1.0</td>\n",
       "    </tr>\n",
       "  </tbody>\n",
       "</table>\n",
       "</div>"
      ],
      "text/plain": [
       "col_0               female_Bechalor  female_High School or Below  \\\n",
       "loan_status                                                        \n",
       "COLLECTION                    0.000                        0.014   \n",
       "COLLECTION_PAIDOFF            0.002                        0.010   \n",
       "PAIDOFF                       0.024                        0.038   \n",
       "All                           0.026                        0.062   \n",
       "\n",
       "col_0               female_college  male_Bechalor  male_High School or Below  \\\n",
       "loan_status                                                                    \n",
       "COLLECTION                   0.006          0.022                      0.084   \n",
       "COLLECTION_PAIDOFF           0.016          0.028                      0.064   \n",
       "PAIDOFF                      0.044          0.058                      0.208   \n",
       "All                          0.066          0.108                      0.356   \n",
       "\n",
       "col_0               male_Master or Above  male_college  All  \n",
       "loan_status                                                  \n",
       "COLLECTION                         0.002         0.072  0.2  \n",
       "COLLECTION_PAIDOFF                 0.000         0.080  0.2  \n",
       "PAIDOFF                            0.006         0.222  0.6  \n",
       "All                                0.008         0.374  1.0  "
      ]
     },
     "execution_count": 21,
     "metadata": {},
     "output_type": "execute_result"
    }
   ],
   "source": [
    "pd.crosstab(data['loan_status'],data['Gender']+\"_\"+data['education'],margins=True,normalize='all')"
   ]
  },
  {
   "cell_type": "code",
   "execution_count": 22,
   "metadata": {},
   "outputs": [
    {
     "data": {
      "text/html": [
       "<div>\n",
       "<style>\n",
       "    .dataframe thead tr:only-child th {\n",
       "        text-align: right;\n",
       "    }\n",
       "\n",
       "    .dataframe thead th {\n",
       "        text-align: left;\n",
       "    }\n",
       "\n",
       "    .dataframe tbody tr th {\n",
       "        vertical-align: top;\n",
       "    }\n",
       "</style>\n",
       "<table border=\"1\" class=\"dataframe\">\n",
       "  <thead>\n",
       "    <tr style=\"text-align: right;\">\n",
       "      <th>col_0</th>\n",
       "      <th>female_Bechalor</th>\n",
       "      <th>female_High School or Below</th>\n",
       "      <th>female_college</th>\n",
       "      <th>male_Bechalor</th>\n",
       "      <th>male_High School or Below</th>\n",
       "      <th>male_Master or Above</th>\n",
       "      <th>male_college</th>\n",
       "    </tr>\n",
       "    <tr>\n",
       "      <th>loan_status</th>\n",
       "      <th></th>\n",
       "      <th></th>\n",
       "      <th></th>\n",
       "      <th></th>\n",
       "      <th></th>\n",
       "      <th></th>\n",
       "      <th></th>\n",
       "    </tr>\n",
       "  </thead>\n",
       "  <tbody>\n",
       "    <tr>\n",
       "      <th>COLLECTION</th>\n",
       "      <td>0.000</td>\n",
       "      <td>0.070000</td>\n",
       "      <td>0.030000</td>\n",
       "      <td>0.110000</td>\n",
       "      <td>0.420000</td>\n",
       "      <td>0.010</td>\n",
       "      <td>0.360</td>\n",
       "    </tr>\n",
       "    <tr>\n",
       "      <th>COLLECTION_PAIDOFF</th>\n",
       "      <td>0.010</td>\n",
       "      <td>0.050000</td>\n",
       "      <td>0.080000</td>\n",
       "      <td>0.140000</td>\n",
       "      <td>0.320000</td>\n",
       "      <td>0.000</td>\n",
       "      <td>0.400</td>\n",
       "    </tr>\n",
       "    <tr>\n",
       "      <th>PAIDOFF</th>\n",
       "      <td>0.040</td>\n",
       "      <td>0.063333</td>\n",
       "      <td>0.073333</td>\n",
       "      <td>0.096667</td>\n",
       "      <td>0.346667</td>\n",
       "      <td>0.010</td>\n",
       "      <td>0.370</td>\n",
       "    </tr>\n",
       "    <tr>\n",
       "      <th>All</th>\n",
       "      <td>0.026</td>\n",
       "      <td>0.062000</td>\n",
       "      <td>0.066000</td>\n",
       "      <td>0.108000</td>\n",
       "      <td>0.356000</td>\n",
       "      <td>0.008</td>\n",
       "      <td>0.374</td>\n",
       "    </tr>\n",
       "  </tbody>\n",
       "</table>\n",
       "</div>"
      ],
      "text/plain": [
       "col_0               female_Bechalor  female_High School or Below  \\\n",
       "loan_status                                                        \n",
       "COLLECTION                    0.000                     0.070000   \n",
       "COLLECTION_PAIDOFF            0.010                     0.050000   \n",
       "PAIDOFF                       0.040                     0.063333   \n",
       "All                           0.026                     0.062000   \n",
       "\n",
       "col_0               female_college  male_Bechalor  male_High School or Below  \\\n",
       "loan_status                                                                    \n",
       "COLLECTION                0.030000       0.110000                   0.420000   \n",
       "COLLECTION_PAIDOFF        0.080000       0.140000                   0.320000   \n",
       "PAIDOFF                   0.073333       0.096667                   0.346667   \n",
       "All                       0.066000       0.108000                   0.356000   \n",
       "\n",
       "col_0               male_Master or Above  male_college  \n",
       "loan_status                                             \n",
       "COLLECTION                         0.010         0.360  \n",
       "COLLECTION_PAIDOFF                 0.000         0.400  \n",
       "PAIDOFF                            0.010         0.370  \n",
       "All                                0.008         0.374  "
      ]
     },
     "execution_count": 22,
     "metadata": {},
     "output_type": "execute_result"
    }
   ],
   "source": [
    "pd.crosstab(data['loan_status'],data['Gender']+\"_\"+data['education'],margins=True,normalize='index')"
   ]
  },
  {
   "cell_type": "code",
   "execution_count": 23,
   "metadata": {},
   "outputs": [
    {
     "data": {
      "text/html": [
       "<div>\n",
       "<style>\n",
       "    .dataframe thead tr:only-child th {\n",
       "        text-align: right;\n",
       "    }\n",
       "\n",
       "    .dataframe thead th {\n",
       "        text-align: left;\n",
       "    }\n",
       "\n",
       "    .dataframe tbody tr th {\n",
       "        vertical-align: top;\n",
       "    }\n",
       "</style>\n",
       "<table border=\"1\" class=\"dataframe\">\n",
       "  <thead>\n",
       "    <tr style=\"text-align: right;\">\n",
       "      <th>col_0</th>\n",
       "      <th>female_Bechalor</th>\n",
       "      <th>female_High School or Below</th>\n",
       "      <th>female_college</th>\n",
       "      <th>male_Bechalor</th>\n",
       "      <th>male_High School or Below</th>\n",
       "      <th>male_Master or Above</th>\n",
       "      <th>male_college</th>\n",
       "      <th>All</th>\n",
       "    </tr>\n",
       "    <tr>\n",
       "      <th>loan_status</th>\n",
       "      <th></th>\n",
       "      <th></th>\n",
       "      <th></th>\n",
       "      <th></th>\n",
       "      <th></th>\n",
       "      <th></th>\n",
       "      <th></th>\n",
       "      <th></th>\n",
       "    </tr>\n",
       "  </thead>\n",
       "  <tbody>\n",
       "    <tr>\n",
       "      <th>COLLECTION</th>\n",
       "      <td>0.000000</td>\n",
       "      <td>0.225806</td>\n",
       "      <td>0.090909</td>\n",
       "      <td>0.203704</td>\n",
       "      <td>0.235955</td>\n",
       "      <td>0.25</td>\n",
       "      <td>0.192513</td>\n",
       "      <td>0.2</td>\n",
       "    </tr>\n",
       "    <tr>\n",
       "      <th>COLLECTION_PAIDOFF</th>\n",
       "      <td>0.076923</td>\n",
       "      <td>0.161290</td>\n",
       "      <td>0.242424</td>\n",
       "      <td>0.259259</td>\n",
       "      <td>0.179775</td>\n",
       "      <td>0.00</td>\n",
       "      <td>0.213904</td>\n",
       "      <td>0.2</td>\n",
       "    </tr>\n",
       "    <tr>\n",
       "      <th>PAIDOFF</th>\n",
       "      <td>0.923077</td>\n",
       "      <td>0.612903</td>\n",
       "      <td>0.666667</td>\n",
       "      <td>0.537037</td>\n",
       "      <td>0.584270</td>\n",
       "      <td>0.75</td>\n",
       "      <td>0.593583</td>\n",
       "      <td>0.6</td>\n",
       "    </tr>\n",
       "  </tbody>\n",
       "</table>\n",
       "</div>"
      ],
      "text/plain": [
       "col_0               female_Bechalor  female_High School or Below  \\\n",
       "loan_status                                                        \n",
       "COLLECTION                 0.000000                     0.225806   \n",
       "COLLECTION_PAIDOFF         0.076923                     0.161290   \n",
       "PAIDOFF                    0.923077                     0.612903   \n",
       "\n",
       "col_0               female_college  male_Bechalor  male_High School or Below  \\\n",
       "loan_status                                                                    \n",
       "COLLECTION                0.090909       0.203704                   0.235955   \n",
       "COLLECTION_PAIDOFF        0.242424       0.259259                   0.179775   \n",
       "PAIDOFF                   0.666667       0.537037                   0.584270   \n",
       "\n",
       "col_0               male_Master or Above  male_college  All  \n",
       "loan_status                                                  \n",
       "COLLECTION                          0.25      0.192513  0.2  \n",
       "COLLECTION_PAIDOFF                  0.00      0.213904  0.2  \n",
       "PAIDOFF                             0.75      0.593583  0.6  "
      ]
     },
     "execution_count": 23,
     "metadata": {},
     "output_type": "execute_result"
    }
   ],
   "source": [
    "pd.crosstab(data['loan_status'],data['Gender']+\"_\"+data['education'],margins=True,normalize='columns')"
   ]
  },
  {
   "cell_type": "markdown",
   "metadata": {},
   "source": [
    "# Feature Engineering"
   ]
  },
  {
   "cell_type": "code",
   "execution_count": 24,
   "metadata": {},
   "outputs": [],
   "source": [
    "data.loc[(data['loan_status'] =='PAIDOFF' ) &(data['Days to pay']>30),'loan_status']='COLLECTION_PAIDOFF'"
   ]
  },
  {
   "cell_type": "code",
   "execution_count": 25,
   "metadata": {},
   "outputs": [
    {
     "data": {
      "text/html": [
       "<div>\n",
       "<style>\n",
       "    .dataframe thead tr:only-child th {\n",
       "        text-align: right;\n",
       "    }\n",
       "\n",
       "    .dataframe thead th {\n",
       "        text-align: left;\n",
       "    }\n",
       "\n",
       "    .dataframe tbody tr th {\n",
       "        vertical-align: top;\n",
       "    }\n",
       "</style>\n",
       "<table border=\"1\" class=\"dataframe\">\n",
       "  <thead>\n",
       "    <tr style=\"text-align: right;\">\n",
       "      <th></th>\n",
       "      <th>Loan_ID</th>\n",
       "      <th>loan_status</th>\n",
       "      <th>Principal</th>\n",
       "      <th>terms</th>\n",
       "      <th>effective_date</th>\n",
       "      <th>due_date</th>\n",
       "      <th>paid_off_time</th>\n",
       "      <th>past_due_days</th>\n",
       "      <th>age</th>\n",
       "      <th>education</th>\n",
       "      <th>Gender</th>\n",
       "      <th>Days to pay</th>\n",
       "      <th>paid_off_date</th>\n",
       "      <th>loan_status_trgt</th>\n",
       "    </tr>\n",
       "  </thead>\n",
       "  <tbody>\n",
       "    <tr>\n",
       "      <th>0</th>\n",
       "      <td>xqd20166231</td>\n",
       "      <td>PAIDOFF</td>\n",
       "      <td>1000</td>\n",
       "      <td>30</td>\n",
       "      <td>9/8/2016</td>\n",
       "      <td>10/7/2016</td>\n",
       "      <td>9/14/2016 19:31</td>\n",
       "      <td>NaN</td>\n",
       "      <td>45</td>\n",
       "      <td>High School or Below</td>\n",
       "      <td>male</td>\n",
       "      <td>6.0</td>\n",
       "      <td>2016-09-14</td>\n",
       "      <td>0</td>\n",
       "    </tr>\n",
       "    <tr>\n",
       "      <th>1</th>\n",
       "      <td>xqd20168902</td>\n",
       "      <td>PAIDOFF</td>\n",
       "      <td>1000</td>\n",
       "      <td>30</td>\n",
       "      <td>9/8/2016</td>\n",
       "      <td>10/7/2016</td>\n",
       "      <td>10/7/2016 9:00</td>\n",
       "      <td>NaN</td>\n",
       "      <td>50</td>\n",
       "      <td>Bechalor</td>\n",
       "      <td>female</td>\n",
       "      <td>29.0</td>\n",
       "      <td>2016-10-07</td>\n",
       "      <td>0</td>\n",
       "    </tr>\n",
       "    <tr>\n",
       "      <th>2</th>\n",
       "      <td>xqd20160003</td>\n",
       "      <td>PAIDOFF</td>\n",
       "      <td>1000</td>\n",
       "      <td>30</td>\n",
       "      <td>9/8/2016</td>\n",
       "      <td>10/7/2016</td>\n",
       "      <td>9/25/2016 16:58</td>\n",
       "      <td>NaN</td>\n",
       "      <td>33</td>\n",
       "      <td>Bechalor</td>\n",
       "      <td>female</td>\n",
       "      <td>17.0</td>\n",
       "      <td>2016-09-25</td>\n",
       "      <td>0</td>\n",
       "    </tr>\n",
       "    <tr>\n",
       "      <th>3</th>\n",
       "      <td>xqd20160004</td>\n",
       "      <td>PAIDOFF</td>\n",
       "      <td>1000</td>\n",
       "      <td>15</td>\n",
       "      <td>9/8/2016</td>\n",
       "      <td>9/22/2016</td>\n",
       "      <td>9/22/2016 20:00</td>\n",
       "      <td>NaN</td>\n",
       "      <td>27</td>\n",
       "      <td>college</td>\n",
       "      <td>male</td>\n",
       "      <td>14.0</td>\n",
       "      <td>2016-09-22</td>\n",
       "      <td>0</td>\n",
       "    </tr>\n",
       "    <tr>\n",
       "      <th>4</th>\n",
       "      <td>xqd20160005</td>\n",
       "      <td>PAIDOFF</td>\n",
       "      <td>1000</td>\n",
       "      <td>30</td>\n",
       "      <td>9/9/2016</td>\n",
       "      <td>10/8/2016</td>\n",
       "      <td>9/23/2016 21:36</td>\n",
       "      <td>NaN</td>\n",
       "      <td>28</td>\n",
       "      <td>college</td>\n",
       "      <td>female</td>\n",
       "      <td>14.0</td>\n",
       "      <td>2016-09-23</td>\n",
       "      <td>0</td>\n",
       "    </tr>\n",
       "  </tbody>\n",
       "</table>\n",
       "</div>"
      ],
      "text/plain": [
       "       Loan_ID loan_status  Principal  terms effective_date   due_date  \\\n",
       "0  xqd20166231     PAIDOFF       1000     30       9/8/2016  10/7/2016   \n",
       "1  xqd20168902     PAIDOFF       1000     30       9/8/2016  10/7/2016   \n",
       "2  xqd20160003     PAIDOFF       1000     30       9/8/2016  10/7/2016   \n",
       "3  xqd20160004     PAIDOFF       1000     15       9/8/2016  9/22/2016   \n",
       "4  xqd20160005     PAIDOFF       1000     30       9/9/2016  10/8/2016   \n",
       "\n",
       "     paid_off_time  past_due_days  age             education  Gender  \\\n",
       "0  9/14/2016 19:31            NaN   45  High School or Below    male   \n",
       "1   10/7/2016 9:00            NaN   50              Bechalor  female   \n",
       "2  9/25/2016 16:58            NaN   33              Bechalor  female   \n",
       "3  9/22/2016 20:00            NaN   27               college    male   \n",
       "4  9/23/2016 21:36            NaN   28               college  female   \n",
       "\n",
       "   Days to pay paid_off_date  loan_status_trgt  \n",
       "0          6.0    2016-09-14                 0  \n",
       "1         29.0    2016-10-07                 0  \n",
       "2         17.0    2016-09-25                 0  \n",
       "3         14.0    2016-09-22                 0  \n",
       "4         14.0    2016-09-23                 0  "
      ]
     },
     "execution_count": 25,
     "metadata": {},
     "output_type": "execute_result"
    }
   ],
   "source": [
    "#correcting the data.ie. those data that showed paidoff but had payment completed in 44 days and above\n",
    "smap= {\"PAIDOFF\": 0, \"COLLECTION\": 1, \"COLLECTION_PAIDOFF\": 1 }\n",
    "data['loan_status_trgt'] = data['loan_status'].map(smap)\n",
    "data.head()\n"
   ]
  },
  {
   "cell_type": "markdown",
   "metadata": {},
   "source": [
    "## we have assigned 0 for indiviuals who we have paid their loans, since individuals who have\n",
    "## paid their loans are in majority, hence when we apply models like logistic regression\n",
    "## we are effectively looking for probability of failure to pay loans"
   ]
  },
  {
   "cell_type": "code",
   "execution_count": 26,
   "metadata": {},
   "outputs": [
    {
     "data": {
      "text/plain": [
       "Text(0.5,1,'Count with new targets')"
      ]
     },
     "execution_count": 26,
     "metadata": {},
     "output_type": "execute_result"
    },
    {
     "data": {
      "image/png": "[encoded data removed]",
      "text/plain": [
       "<matplotlib.figure.Figure at 0x228561620f0>"
      ]
     },
     "metadata": {},
     "output_type": "display_data"
    }
   ],
   "source": [
    "fig, axs=plt.subplots(1,2,figsize=(12,5))\n",
    "\n",
    "sns.countplot(x='loan_status',data=data,ax=axs[0])\n",
    "axs[0].set_title('Count with original targets')\n",
    "\n",
    "sns.countplot(x='loan_status_trgt', data=data, ax=axs[1])\n",
    "axs[1].set_title('Count with new targets')"
   ]
  },
  {
   "cell_type": "code",
   "execution_count": 27,
   "metadata": {},
   "outputs": [],
   "source": [
    "# dummies=pd.get_dummies(data['education']).rename(columns=lambda x:'is_' +str(x))\n",
    "# data=pd.concat([data,dummies],axis=1)\n",
    "# data.drop(['education'],axis=1,inplace=True)"
   ]
  },
  {
   "cell_type": "code",
   "execution_count": 28,
   "metadata": {},
   "outputs": [],
   "source": [
    "dummies=pd.get_dummies(data['Gender']).rename(columns=lambda x:'is_' +str(x))\n",
    "data=pd.concat([data,dummies],axis=1)\n",
    "data.drop(['Gender'],axis=1,inplace=True)"
   ]
  },
  {
   "cell_type": "code",
   "execution_count": 29,
   "metadata": {},
   "outputs": [
    {
     "data": {
      "text/html": [
       "<div>\n",
       "<style>\n",
       "    .dataframe thead tr:only-child th {\n",
       "        text-align: right;\n",
       "    }\n",
       "\n",
       "    .dataframe thead th {\n",
       "        text-align: left;\n",
       "    }\n",
       "\n",
       "    .dataframe tbody tr th {\n",
       "        vertical-align: top;\n",
       "    }\n",
       "</style>\n",
       "<table border=\"1\" class=\"dataframe\">\n",
       "  <thead>\n",
       "    <tr style=\"text-align: right;\">\n",
       "      <th></th>\n",
       "      <th>Loan_ID</th>\n",
       "      <th>loan_status</th>\n",
       "      <th>Principal</th>\n",
       "      <th>terms</th>\n",
       "      <th>effective_date</th>\n",
       "      <th>due_date</th>\n",
       "      <th>paid_off_time</th>\n",
       "      <th>past_due_days</th>\n",
       "      <th>age</th>\n",
       "      <th>education</th>\n",
       "      <th>Days to pay</th>\n",
       "      <th>paid_off_date</th>\n",
       "      <th>loan_status_trgt</th>\n",
       "      <th>is_female</th>\n",
       "      <th>is_male</th>\n",
       "    </tr>\n",
       "  </thead>\n",
       "  <tbody>\n",
       "    <tr>\n",
       "      <th>0</th>\n",
       "      <td>xqd20166231</td>\n",
       "      <td>PAIDOFF</td>\n",
       "      <td>1000</td>\n",
       "      <td>30</td>\n",
       "      <td>9/8/2016</td>\n",
       "      <td>10/7/2016</td>\n",
       "      <td>9/14/2016 19:31</td>\n",
       "      <td>NaN</td>\n",
       "      <td>45</td>\n",
       "      <td>High School or Below</td>\n",
       "      <td>6.0</td>\n",
       "      <td>2016-09-14</td>\n",
       "      <td>0</td>\n",
       "      <td>0</td>\n",
       "      <td>1</td>\n",
       "    </tr>\n",
       "    <tr>\n",
       "      <th>1</th>\n",
       "      <td>xqd20168902</td>\n",
       "      <td>PAIDOFF</td>\n",
       "      <td>1000</td>\n",
       "      <td>30</td>\n",
       "      <td>9/8/2016</td>\n",
       "      <td>10/7/2016</td>\n",
       "      <td>10/7/2016 9:00</td>\n",
       "      <td>NaN</td>\n",
       "      <td>50</td>\n",
       "      <td>Bechalor</td>\n",
       "      <td>29.0</td>\n",
       "      <td>2016-10-07</td>\n",
       "      <td>0</td>\n",
       "      <td>1</td>\n",
       "      <td>0</td>\n",
       "    </tr>\n",
       "    <tr>\n",
       "      <th>2</th>\n",
       "      <td>xqd20160003</td>\n",
       "      <td>PAIDOFF</td>\n",
       "      <td>1000</td>\n",
       "      <td>30</td>\n",
       "      <td>9/8/2016</td>\n",
       "      <td>10/7/2016</td>\n",
       "      <td>9/25/2016 16:58</td>\n",
       "      <td>NaN</td>\n",
       "      <td>33</td>\n",
       "      <td>Bechalor</td>\n",
       "      <td>17.0</td>\n",
       "      <td>2016-09-25</td>\n",
       "      <td>0</td>\n",
       "      <td>1</td>\n",
       "      <td>0</td>\n",
       "    </tr>\n",
       "    <tr>\n",
       "      <th>3</th>\n",
       "      <td>xqd20160004</td>\n",
       "      <td>PAIDOFF</td>\n",
       "      <td>1000</td>\n",
       "      <td>15</td>\n",
       "      <td>9/8/2016</td>\n",
       "      <td>9/22/2016</td>\n",
       "      <td>9/22/2016 20:00</td>\n",
       "      <td>NaN</td>\n",
       "      <td>27</td>\n",
       "      <td>college</td>\n",
       "      <td>14.0</td>\n",
       "      <td>2016-09-22</td>\n",
       "      <td>0</td>\n",
       "      <td>0</td>\n",
       "      <td>1</td>\n",
       "    </tr>\n",
       "    <tr>\n",
       "      <th>4</th>\n",
       "      <td>xqd20160005</td>\n",
       "      <td>PAIDOFF</td>\n",
       "      <td>1000</td>\n",
       "      <td>30</td>\n",
       "      <td>9/9/2016</td>\n",
       "      <td>10/8/2016</td>\n",
       "      <td>9/23/2016 21:36</td>\n",
       "      <td>NaN</td>\n",
       "      <td>28</td>\n",
       "      <td>college</td>\n",
       "      <td>14.0</td>\n",
       "      <td>2016-09-23</td>\n",
       "      <td>0</td>\n",
       "      <td>1</td>\n",
       "      <td>0</td>\n",
       "    </tr>\n",
       "  </tbody>\n",
       "</table>\n",
       "</div>"
      ],
      "text/plain": [
       "       Loan_ID loan_status  Principal  terms effective_date   due_date  \\\n",
       "0  xqd20166231     PAIDOFF       1000     30       9/8/2016  10/7/2016   \n",
       "1  xqd20168902     PAIDOFF       1000     30       9/8/2016  10/7/2016   \n",
       "2  xqd20160003     PAIDOFF       1000     30       9/8/2016  10/7/2016   \n",
       "3  xqd20160004     PAIDOFF       1000     15       9/8/2016  9/22/2016   \n",
       "4  xqd20160005     PAIDOFF       1000     30       9/9/2016  10/8/2016   \n",
       "\n",
       "     paid_off_time  past_due_days  age             education  Days to pay  \\\n",
       "0  9/14/2016 19:31            NaN   45  High School or Below          6.0   \n",
       "1   10/7/2016 9:00            NaN   50              Bechalor         29.0   \n",
       "2  9/25/2016 16:58            NaN   33              Bechalor         17.0   \n",
       "3  9/22/2016 20:00            NaN   27               college         14.0   \n",
       "4  9/23/2016 21:36            NaN   28               college         14.0   \n",
       "\n",
       "  paid_off_date  loan_status_trgt  is_female  is_male  \n",
       "0    2016-09-14                 0          0        1  \n",
       "1    2016-10-07                 0          1        0  \n",
       "2    2016-09-25                 0          1        0  \n",
       "3    2016-09-22                 0          0        1  \n",
       "4    2016-09-23                 0          1        0  "
      ]
     },
     "execution_count": 29,
     "metadata": {},
     "output_type": "execute_result"
    }
   ],
   "source": [
    "data.head()"
   ]
  },
  {
   "cell_type": "code",
   "execution_count": 30,
   "metadata": {},
   "outputs": [],
   "source": [
    "#new=data['past_due_days']\n",
    "# cols_with_missing = (col for col in data.past_due_days \n",
    "#                                  if data[col].isnull().any():\n",
    "#                     )\n",
    "# for col in cols_with_missing:\n",
    "#     data[col + '_was_missing'] = data[col].isnull()\n",
    "data.drop(['Loan_ID', 'loan_status', 'effective_date', 'due_date',\n",
    "             'paid_off_time','paid_off_date', 'Days to pay'], axis=1,inplace=True)\n",
    "# new['past_due_days']=data['']\n",
    "# new.isnull().sum()"
   ]
  },
  {
   "cell_type": "code",
   "execution_count": 31,
   "metadata": {},
   "outputs": [],
   "source": [
    "data['education']=new_data['education']\n",
    "data['past_due_days']=data['past_due_days'].fillna(0)\n",
    "#we have observed here that past due days have been assigned as NAN for those individuals who had already PAID OFF\n",
    "#Their loans so it is only appropriate if we assign 0 to those columns"
   ]
  },
  {
   "cell_type": "code",
   "execution_count": 32,
   "metadata": {},
   "outputs": [
    {
     "data": {
      "text/html": [
       "<div>\n",
       "<style>\n",
       "    .dataframe thead tr:only-child th {\n",
       "        text-align: right;\n",
       "    }\n",
       "\n",
       "    .dataframe thead th {\n",
       "        text-align: left;\n",
       "    }\n",
       "\n",
       "    .dataframe tbody tr th {\n",
       "        vertical-align: top;\n",
       "    }\n",
       "</style>\n",
       "<table border=\"1\" class=\"dataframe\">\n",
       "  <thead>\n",
       "    <tr style=\"text-align: right;\">\n",
       "      <th></th>\n",
       "      <th>Principal</th>\n",
       "      <th>terms</th>\n",
       "      <th>past_due_days</th>\n",
       "      <th>age</th>\n",
       "      <th>education</th>\n",
       "      <th>loan_status_trgt</th>\n",
       "      <th>is_female</th>\n",
       "      <th>is_male</th>\n",
       "    </tr>\n",
       "  </thead>\n",
       "  <tbody>\n",
       "    <tr>\n",
       "      <th>0</th>\n",
       "      <td>1000</td>\n",
       "      <td>30</td>\n",
       "      <td>0.0</td>\n",
       "      <td>45</td>\n",
       "      <td>1</td>\n",
       "      <td>0</td>\n",
       "      <td>0</td>\n",
       "      <td>1</td>\n",
       "    </tr>\n",
       "    <tr>\n",
       "      <th>1</th>\n",
       "      <td>1000</td>\n",
       "      <td>30</td>\n",
       "      <td>0.0</td>\n",
       "      <td>50</td>\n",
       "      <td>0</td>\n",
       "      <td>0</td>\n",
       "      <td>1</td>\n",
       "      <td>0</td>\n",
       "    </tr>\n",
       "    <tr>\n",
       "      <th>2</th>\n",
       "      <td>1000</td>\n",
       "      <td>30</td>\n",
       "      <td>0.0</td>\n",
       "      <td>33</td>\n",
       "      <td>0</td>\n",
       "      <td>0</td>\n",
       "      <td>1</td>\n",
       "      <td>0</td>\n",
       "    </tr>\n",
       "    <tr>\n",
       "      <th>3</th>\n",
       "      <td>1000</td>\n",
       "      <td>15</td>\n",
       "      <td>0.0</td>\n",
       "      <td>27</td>\n",
       "      <td>3</td>\n",
       "      <td>0</td>\n",
       "      <td>0</td>\n",
       "      <td>1</td>\n",
       "    </tr>\n",
       "    <tr>\n",
       "      <th>4</th>\n",
       "      <td>1000</td>\n",
       "      <td>30</td>\n",
       "      <td>0.0</td>\n",
       "      <td>28</td>\n",
       "      <td>3</td>\n",
       "      <td>0</td>\n",
       "      <td>1</td>\n",
       "      <td>0</td>\n",
       "    </tr>\n",
       "  </tbody>\n",
       "</table>\n",
       "</div>"
      ],
      "text/plain": [
       "   Principal  terms  past_due_days  age  education  loan_status_trgt  \\\n",
       "0       1000     30            0.0   45          1                 0   \n",
       "1       1000     30            0.0   50          0                 0   \n",
       "2       1000     30            0.0   33          0                 0   \n",
       "3       1000     15            0.0   27          3                 0   \n",
       "4       1000     30            0.0   28          3                 0   \n",
       "\n",
       "   is_female  is_male  \n",
       "0          0        1  \n",
       "1          1        0  \n",
       "2          1        0  \n",
       "3          0        1  \n",
       "4          1        0  "
      ]
     },
     "execution_count": 32,
     "metadata": {},
     "output_type": "execute_result"
    }
   ],
   "source": [
    "data.head()"
   ]
  },
  {
   "cell_type": "markdown",
   "metadata": {
    "scrolled": true
   },
   "source": [
    "# Modeling\n",
    "# Logistic Regression"
   ]
  },
  {
   "cell_type": "code",
   "execution_count": 56,
   "metadata": {},
   "outputs": [],
   "source": [
    "y=data['loan_status_trgt']\n",
    "X=data.drop(['loan_status_trgt'], axis=1).values"
   ]
  },
  {
   "cell_type": "code",
   "execution_count": 57,
   "metadata": {},
   "outputs": [],
   "source": [
    "# from sklearn.preprocessing import StandardScaler\n",
    "# scaler=StandardScaler()\n",
    "# X=scaler.fit_transform(X)\n",
    "# X"
   ]
  },
  {
   "cell_type": "code",
   "execution_count": 58,
   "metadata": {},
   "outputs": [],
   "source": [
    "from sklearn.model_selection import train_test_split\n",
    "X_train, X_test, y_train, y_test=train_test_split(X, y, test_size=0.3, random_state=21)"
   ]
  },
  {
   "cell_type": "code",
   "execution_count": 59,
   "metadata": {},
   "outputs": [],
   "source": [
    "from sklearn.linear_model import LogisticRegression\n",
    "logreg=LogisticRegression()\n",
    "logreg.fit(X_train, y_train)\n",
    "pred=logreg.predict(X_test)"
   ]
  },
  {
   "cell_type": "code",
   "execution_count": 60,
   "metadata": {},
   "outputs": [],
   "source": [
    "from sklearn.metrics import roc_curve, auc\n",
    "from sklearn import metrics\n",
    "from sklearn.model_selection import cross_val_score"
   ]
  },
  {
   "cell_type": "code",
   "execution_count": 61,
   "metadata": {},
   "outputs": [
    {
     "name": "stdout",
     "output_type": "stream",
     "text": [
      "[[91  0]\n",
      " [ 6 53]]\n"
     ]
    }
   ],
   "source": [
    "conf=metrics.confusion_matrix(y_test, pred)\n",
    "print(metrics.confusion_matrix(y_test, pred))"
   ]
  },
  {
   "cell_type": "code",
   "execution_count": 62,
   "metadata": {},
   "outputs": [
    {
     "data": {
      "text/plain": [
       "0.95999999999999996"
      ]
     },
     "execution_count": 62,
     "metadata": {},
     "output_type": "execute_result"
    }
   ],
   "source": [
    "logreg.score(X_test, y_test)"
   ]
  },
  {
   "cell_type": "code",
   "execution_count": 63,
   "metadata": {},
   "outputs": [
    {
     "data": {
      "image/png": "[encoded data removed]",
      "text/plain": [
       "<matplotlib.figure.Figure at 0x22858592eb8>"
      ]
     },
     "metadata": {},
     "output_type": "display_data"
    }
   ],
   "source": [
    "# ROC curve on Predicted probabilities\n",
    "predict_probabilities = logreg.predict_proba(X_test)\n",
    "fpr, tpr, thresholds = metrics.roc_curve(y_test, predict_probabilities[:,1])\n",
    "roc_auc = metrics.auc(fpr, tpr)\n",
    "plt.title('Receiver Operating Characteristic')\n",
    "plt.plot(fpr, tpr, 'b',\n",
    "label='AUC = %0.2f'% roc_auc)\n",
    "plt.legend(loc='lower right')\n",
    "plt.plot([0,1],[0,1],'r--')\n",
    "plt.xlim([-0.1,1.2])\n",
    "plt.ylim([-0.1,1.2])\n",
    "plt.ylabel('True Positive Rate')\n",
    "plt.xlabel('False Positive Rate')\n",
    "plt.show()"
   ]
  },
  {
   "cell_type": "code",
   "execution_count": 64,
   "metadata": {},
   "outputs": [
    {
     "name": "stdout",
     "output_type": "stream",
     "text": [
      "Area under the ROC curve : 0.986217\n"
     ]
    }
   ],
   "source": [
    "roc_auc = metrics.auc(fpr, tpr)\n",
    "print(\"Area under the ROC curve : %f\" % roc_auc)"
   ]
  },
  {
   "cell_type": "markdown",
   "metadata": {},
   "source": [
    "# Random Forest Classifier"
   ]
  },
  {
   "cell_type": "code",
   "execution_count": 40,
   "metadata": {},
   "outputs": [],
   "source": [
    "from sklearn.ensemble import RandomForestClassifier\n",
    "rf=RandomForestClassifier(n_estimators=100)\n",
    "rf.fit(X_train, y_train)\n",
    "pred=rf.predict(X_test)"
   ]
  },
  {
   "cell_type": "code",
   "execution_count": 41,
   "metadata": {},
   "outputs": [
    {
     "name": "stdout",
     "output_type": "stream",
     "text": [
      "[[90  1]\n",
      " [ 5 54]]\n"
     ]
    }
   ],
   "source": [
    "conf=metrics.confusion_matrix(y_test, pred)\n",
    "print(metrics.confusion_matrix(y_test, pred))"
   ]
  },
  {
   "cell_type": "code",
   "execution_count": 42,
   "metadata": {},
   "outputs": [
    {
     "data": {
      "text/plain": [
       "0.95999999999999996"
      ]
     },
     "execution_count": 42,
     "metadata": {},
     "output_type": "execute_result"
    }
   ],
   "source": [
    "rf.score(X_test, y_test)"
   ]
  },
  {
   "cell_type": "code",
   "execution_count": 43,
   "metadata": {},
   "outputs": [
    {
     "data": {
      "text/plain": [
       "array([ 0.83333333,  0.98809524,  0.98809524,  1.        ,  1.        ,\n",
       "        0.97560976])"
      ]
     },
     "execution_count": 43,
     "metadata": {},
     "output_type": "execute_result"
    }
   ],
   "source": [
    "cross_val_score(rf,X,y,cv=6)"
   ]
  },
  {
   "cell_type": "code",
   "execution_count": 47,
   "metadata": {},
   "outputs": [
    {
     "data": {
      "image/png": "[encoded data removed]",
      "text/plain": [
       "<matplotlib.figure.Figure at 0x2285708fcf8>"
      ]
     },
     "metadata": {},
     "output_type": "display_data"
    }
   ],
   "source": [
    "# ROC curve on Predicted probabilities\n",
    "predict_probabilities = rf.predict_proba(X_test)\n",
    "fpr, tpr, thresholds = metrics.roc_curve(y_test, predict_probabilities[:,1])\n",
    "roc_auc = metrics.auc(fpr, tpr)\n",
    "plt.title('Receiver Operating Characteristic')\n",
    "plt.plot(fpr, tpr, 'b',\n",
    "label='AUC = %0.2f'% roc_auc)\n",
    "plt.legend(loc='lower right')\n",
    "plt.plot([0,1],[0,1],'r--')\n",
    "plt.xlim([-0.1,1.2])\n",
    "plt.ylim([-0.1,1.2])\n",
    "plt.ylabel('True Positive Rate')\n",
    "plt.xlabel('False Positive Rate')\n",
    "plt.show()"
   ]
  },
  {
   "cell_type": "code",
   "execution_count": 50,
   "metadata": {},
   "outputs": [
    {
     "name": "stdout",
     "output_type": "stream",
     "text": [
      "Area under the ROC curve : 0.954833\n"
     ]
    }
   ],
   "source": [
    "roc_auc = metrics.auc(fpr, tpr)\n",
    "print(\"Area under the ROC curve : %f\" % roc_auc)"
   ]
  },
  {
   "cell_type": "markdown",
   "metadata": {},
   "source": [
    "# Support Vector Classifier"
   ]
  },
  {
   "cell_type": "code",
   "execution_count": 48,
   "metadata": {},
   "outputs": [],
   "source": [
    "from sklearn.svm import SVC"
   ]
  },
  {
   "cell_type": "code",
   "execution_count": 52,
   "metadata": {},
   "outputs": [
    {
     "name": "stdout",
     "output_type": "stream",
     "text": [
      "[[84  7]\n",
      " [ 9 50]]\n"
     ]
    }
   ],
   "source": [
    "\n",
    "\n",
    "clf=SVC(C=100, probability=True)\n",
    "clf.fit(X_train,y_train)\n",
    "pred=clf.predict(X_test)\n",
    "conf=metrics.confusion_matrix(y_test, pred)\n",
    "print(metrics.confusion_matrix(y_test, pred))\n",
    "\n"
   ]
  },
  {
   "cell_type": "code",
   "execution_count": 53,
   "metadata": {
    "scrolled": true
   },
   "outputs": [
    {
     "data": {
      "image/png": "[encoded data removed]",
      "text/plain": [
       "<matplotlib.figure.Figure at 0x2285712c160>"
      ]
     },
     "metadata": {},
     "output_type": "display_data"
    }
   ],
   "source": [
    "# ROC curve on Predicted probabilities\n",
    "predict_probabilities = clf.predict_proba(X_test)\n",
    "fpr, tpr, thresholds = metrics.roc_curve(y_test, predict_probabilities[:,1])\n",
    "roc_auc = metrics.auc(fpr, tpr)\n",
    "plt.title('Receiver Operating Characteristic')\n",
    "plt.plot(fpr, tpr, 'b',\n",
    "label='AUC = %0.2f'% roc_auc)\n",
    "plt.legend(loc='lower right')\n",
    "plt.plot([0,1],[0,1],'r--')\n",
    "plt.xlim([-0.1,1.2])\n",
    "plt.ylim([-0.1,1.2])\n",
    "plt.ylabel('True Positive Rate')\n",
    "plt.xlabel('False Positive Rate')\n",
    "plt.show()"
   ]
  },
  {
   "cell_type": "code",
   "execution_count": 54,
   "metadata": {
    "scrolled": true
   },
   "outputs": [
    {
     "name": "stdout",
     "output_type": "stream",
     "text": [
      "Area under the ROC curve : 0.935835\n"
     ]
    }
   ],
   "source": [
    "roc_auc = metrics.auc(fpr, tpr)\n",
    "print(\"Area under the ROC curve : %f\" % roc_auc)"
   ]
  },
  {
   "cell_type": "code",
   "execution_count": 87,
   "metadata": {},
   "outputs": [
    {
     "data": {
      "image/png": "[encoded data removed]",
      "text/plain": [
       "<matplotlib.figure.Figure at 0x22858f23cc0>"
      ]
     },
     "metadata": {},
     "output_type": "display_data"
    }
   ],
   "source": [
    "x=[1.5,2.5,3.5]\n",
    "y=[logreg.score(X_test, y_test), clf.score(X_test, y_test), rf.score(X_test, y_test)]\n",
    "plt.style.use('ggplot')\n",
    "plt.figure(figsize=(12,8))\n",
    "plt.bar(x,y,color='blue')\n",
    "plt.xticks(range(12,8),['Logistic Regression','SupportVector','Random Forest'])\n",
    "\n",
    "plt.xlabel('Classifiers')\n",
    "plt.ylabel('Score')\n",
    "plt.show()"
   ]
  }
 ],
 "metadata": {
  "kernelspec": {
   "display_name": "Python 3",
   "language": "python",
   "name": "python3"
  },
  "language_info": {
   "codemirror_mode": {
    "name": "ipython",
    "version": 3
   },
   "file_extension": ".py",
   "mimetype": "text/x-python",
   "name": "python",
   "nbconvert_exporter": "python",
   "pygments_lexer": "ipython3",
   "version": "3.6.3"
  }
 },
 "nbformat": 4,
 "nbformat_minor": 2
}

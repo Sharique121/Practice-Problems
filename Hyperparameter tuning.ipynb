{
 "cells": [
  {
   "cell_type": "code",
   "execution_count": 33,
   "metadata": {},
   "outputs": [],
   "source": [
    "import pandas as pd\n",
    "import numpy as np\n",
    "import matplotlib.pyplot as plt\n",
    "%matplotlib inline\n",
    "from sklearn.model_selection import train_test_split\n",
    "from sklearn.ensemble import RandomForestRegressor\n",
    "from sklearn.model_selection import RandomizedSearchCV\n",
    "from sklearn.model_selection import GridSearchCV"
   ]
  },
  {
   "cell_type": "code",
   "execution_count": 2,
   "metadata": {},
   "outputs": [],
   "source": [
    "features=pd.read_csv(\"https://raw.githubusercontent.com/WillKoehrsen/Machine-Learning-Projects/master/random_forest_explained/data/temps_extended.csv\", sep=',')"
   ]
  },
  {
   "cell_type": "code",
   "execution_count": 4,
   "metadata": {},
   "outputs": [
    {
     "data": {
      "text/html": [
       "<div>\n",
       "<style>\n",
       "    .dataframe thead tr:only-child th {\n",
       "        text-align: right;\n",
       "    }\n",
       "\n",
       "    .dataframe thead th {\n",
       "        text-align: left;\n",
       "    }\n",
       "\n",
       "    .dataframe tbody tr th {\n",
       "        vertical-align: top;\n",
       "    }\n",
       "</style>\n",
       "<table border=\"1\" class=\"dataframe\">\n",
       "  <thead>\n",
       "    <tr style=\"text-align: right;\">\n",
       "      <th></th>\n",
       "      <th>year</th>\n",
       "      <th>month</th>\n",
       "      <th>day</th>\n",
       "      <th>weekday</th>\n",
       "      <th>ws_1</th>\n",
       "      <th>prcp_1</th>\n",
       "      <th>snwd_1</th>\n",
       "      <th>temp_2</th>\n",
       "      <th>temp_1</th>\n",
       "      <th>average</th>\n",
       "      <th>actual</th>\n",
       "      <th>friend</th>\n",
       "    </tr>\n",
       "  </thead>\n",
       "  <tbody>\n",
       "    <tr>\n",
       "      <th>0</th>\n",
       "      <td>2011</td>\n",
       "      <td>1</td>\n",
       "      <td>1</td>\n",
       "      <td>Sat</td>\n",
       "      <td>4.92</td>\n",
       "      <td>0.00</td>\n",
       "      <td>0</td>\n",
       "      <td>36</td>\n",
       "      <td>37</td>\n",
       "      <td>45.6</td>\n",
       "      <td>40</td>\n",
       "      <td>40</td>\n",
       "    </tr>\n",
       "    <tr>\n",
       "      <th>1</th>\n",
       "      <td>2011</td>\n",
       "      <td>1</td>\n",
       "      <td>2</td>\n",
       "      <td>Sun</td>\n",
       "      <td>5.37</td>\n",
       "      <td>0.00</td>\n",
       "      <td>0</td>\n",
       "      <td>37</td>\n",
       "      <td>40</td>\n",
       "      <td>45.7</td>\n",
       "      <td>39</td>\n",
       "      <td>50</td>\n",
       "    </tr>\n",
       "    <tr>\n",
       "      <th>2</th>\n",
       "      <td>2011</td>\n",
       "      <td>1</td>\n",
       "      <td>3</td>\n",
       "      <td>Mon</td>\n",
       "      <td>6.26</td>\n",
       "      <td>0.00</td>\n",
       "      <td>0</td>\n",
       "      <td>40</td>\n",
       "      <td>39</td>\n",
       "      <td>45.8</td>\n",
       "      <td>42</td>\n",
       "      <td>42</td>\n",
       "    </tr>\n",
       "    <tr>\n",
       "      <th>3</th>\n",
       "      <td>2011</td>\n",
       "      <td>1</td>\n",
       "      <td>4</td>\n",
       "      <td>Tues</td>\n",
       "      <td>5.59</td>\n",
       "      <td>0.00</td>\n",
       "      <td>0</td>\n",
       "      <td>39</td>\n",
       "      <td>42</td>\n",
       "      <td>45.9</td>\n",
       "      <td>38</td>\n",
       "      <td>59</td>\n",
       "    </tr>\n",
       "    <tr>\n",
       "      <th>4</th>\n",
       "      <td>2011</td>\n",
       "      <td>1</td>\n",
       "      <td>5</td>\n",
       "      <td>Wed</td>\n",
       "      <td>3.80</td>\n",
       "      <td>0.03</td>\n",
       "      <td>0</td>\n",
       "      <td>42</td>\n",
       "      <td>38</td>\n",
       "      <td>46.0</td>\n",
       "      <td>45</td>\n",
       "      <td>39</td>\n",
       "    </tr>\n",
       "  </tbody>\n",
       "</table>\n",
       "</div>"
      ],
      "text/plain": [
       "   year  month  day weekday  ws_1  prcp_1  snwd_1  temp_2  temp_1  average  \\\n",
       "0  2011      1    1     Sat  4.92    0.00       0      36      37     45.6   \n",
       "1  2011      1    2     Sun  5.37    0.00       0      37      40     45.7   \n",
       "2  2011      1    3     Mon  6.26    0.00       0      40      39     45.8   \n",
       "3  2011      1    4    Tues  5.59    0.00       0      39      42     45.9   \n",
       "4  2011      1    5     Wed  3.80    0.03       0      42      38     46.0   \n",
       "\n",
       "   actual  friend  \n",
       "0      40      40  \n",
       "1      39      50  \n",
       "2      42      42  \n",
       "3      38      59  \n",
       "4      45      39  "
      ]
     },
     "execution_count": 4,
     "metadata": {},
     "output_type": "execute_result"
    }
   ],
   "source": [
    "features.head()"
   ]
  },
  {
   "cell_type": "markdown",
   "metadata": {},
   "source": [
    "We are trying to predict the temperature tomorrow in our city (Seattle, WA) using past historical weather data. We have 4.5 years of training data, 1.5 years of test data, and are using 6 different features (variables) to make our predictions. This is a regression problem"
   ]
  },
  {
   "cell_type": "code",
   "execution_count": 6,
   "metadata": {},
   "outputs": [
    {
     "data": {
      "text/plain": [
       "year       0\n",
       "month      0\n",
       "day        0\n",
       "weekday    0\n",
       "ws_1       0\n",
       "prcp_1     0\n",
       "snwd_1     0\n",
       "temp_2     0\n",
       "temp_1     0\n",
       "average    0\n",
       "actual     0\n",
       "friend     0\n",
       "dtype: int64"
      ]
     },
     "execution_count": 6,
     "metadata": {},
     "output_type": "execute_result"
    }
   ],
   "source": [
    "features.isnull().sum() #there are no null values"
   ]
  },
  {
   "cell_type": "code",
   "execution_count": 7,
   "metadata": {},
   "outputs": [],
   "source": [
    "#One hot encoding\n",
    "features=pd.get_dummies(features)\n",
    "\n",
    "#Extract Features and labels\n",
    "labels=features['actual']\n",
    "features.drop(['actual'], axis=1, inplace=True)"
   ]
  },
  {
   "cell_type": "markdown",
   "metadata": {},
   "source": [
    "# Restrict to most imortant features \n",
    "Names of six features accounting for 95% of total importance from other notebook. here we are only concentrating on hyperparameter tuning"
   ]
  },
  {
   "cell_type": "code",
   "execution_count": 9,
   "metadata": {},
   "outputs": [
    {
     "data": {
      "text/html": [
       "<div>\n",
       "<style>\n",
       "    .dataframe thead tr:only-child th {\n",
       "        text-align: right;\n",
       "    }\n",
       "\n",
       "    .dataframe thead th {\n",
       "        text-align: left;\n",
       "    }\n",
       "\n",
       "    .dataframe tbody tr th {\n",
       "        vertical-align: top;\n",
       "    }\n",
       "</style>\n",
       "<table border=\"1\" class=\"dataframe\">\n",
       "  <thead>\n",
       "    <tr style=\"text-align: right;\">\n",
       "      <th></th>\n",
       "      <th>temp_1</th>\n",
       "      <th>average</th>\n",
       "      <th>ws_1</th>\n",
       "      <th>temp_2</th>\n",
       "      <th>friend</th>\n",
       "      <th>year</th>\n",
       "    </tr>\n",
       "  </thead>\n",
       "  <tbody>\n",
       "    <tr>\n",
       "      <th>0</th>\n",
       "      <td>37</td>\n",
       "      <td>45.6</td>\n",
       "      <td>4.92</td>\n",
       "      <td>36</td>\n",
       "      <td>40</td>\n",
       "      <td>2011</td>\n",
       "    </tr>\n",
       "    <tr>\n",
       "      <th>1</th>\n",
       "      <td>40</td>\n",
       "      <td>45.7</td>\n",
       "      <td>5.37</td>\n",
       "      <td>37</td>\n",
       "      <td>50</td>\n",
       "      <td>2011</td>\n",
       "    </tr>\n",
       "    <tr>\n",
       "      <th>2</th>\n",
       "      <td>39</td>\n",
       "      <td>45.8</td>\n",
       "      <td>6.26</td>\n",
       "      <td>40</td>\n",
       "      <td>42</td>\n",
       "      <td>2011</td>\n",
       "    </tr>\n",
       "    <tr>\n",
       "      <th>3</th>\n",
       "      <td>42</td>\n",
       "      <td>45.9</td>\n",
       "      <td>5.59</td>\n",
       "      <td>39</td>\n",
       "      <td>59</td>\n",
       "      <td>2011</td>\n",
       "    </tr>\n",
       "    <tr>\n",
       "      <th>4</th>\n",
       "      <td>38</td>\n",
       "      <td>46.0</td>\n",
       "      <td>3.80</td>\n",
       "      <td>42</td>\n",
       "      <td>39</td>\n",
       "      <td>2011</td>\n",
       "    </tr>\n",
       "  </tbody>\n",
       "</table>\n",
       "</div>"
      ],
      "text/plain": [
       "   temp_1  average  ws_1  temp_2  friend  year\n",
       "0      37     45.6  4.92      36      40  2011\n",
       "1      40     45.7  5.37      37      50  2011\n",
       "2      39     45.8  6.26      40      42  2011\n",
       "3      42     45.9  5.59      39      59  2011\n",
       "4      38     46.0  3.80      42      39  2011"
      ]
     },
     "execution_count": 9,
     "metadata": {},
     "output_type": "execute_result"
    }
   ],
   "source": [
    "important_feature_names=['temp_1', 'average', 'ws_1', 'temp_2', 'friend', 'year']\n",
    "\n",
    "#Update feature list\n",
    "feature_list=important_feature_names\n",
    "features=features[important_feature_names]\n",
    "features.head()"
   ]
  },
  {
   "cell_type": "code",
   "execution_count": 11,
   "metadata": {},
   "outputs": [
    {
     "data": {
      "text/plain": [
       "0    40\n",
       "1    39\n",
       "2    42\n",
       "3    38\n",
       "4    45\n",
       "Name: actual, dtype: int64"
      ]
     },
     "execution_count": 11,
     "metadata": {},
     "output_type": "execute_result"
    }
   ],
   "source": [
    "labels.head() #Our dependent variable"
   ]
  },
  {
   "cell_type": "code",
   "execution_count": 13,
   "metadata": {},
   "outputs": [],
   "source": [
    "# Convert to numpy arrays\n",
    "features=np.array(features)\n",
    "labels=np.array(labels)\n",
    "\n",
    "#Training and testing sets\n",
    "\n",
    "train_features, test_features, train_labels, test_labels=train_test_split(features, labels, test_size=0.25, random_state=42)"
   ]
  },
  {
   "cell_type": "code",
   "execution_count": 16,
   "metadata": {},
   "outputs": [
    {
     "name": "stdout",
     "output_type": "stream",
     "text": [
      "training Feature Shape (1643, 6)\n",
      "training labels shape (1643,)\n",
      "testing feature shape (548, 6)\n",
      "testing labels shape (548,)\n"
     ]
    }
   ],
   "source": [
    "print(\"training Feature Shape\", train_features.shape)\n",
    "print(\"training labels shape\", train_labels.shape)\n",
    "print(\"testing feature shape\", test_features.shape)\n",
    "print(\"testing labels shape\", test_labels.shape)"
   ]
  },
  {
   "cell_type": "code",
   "execution_count": 19,
   "metadata": {},
   "outputs": [
    {
     "name": "stdout",
     "output_type": "stream",
     "text": [
      "4.5 years of data in the training set\n",
      "1.5 years of data in the test set\n"
     ]
    }
   ],
   "source": [
    "print('{:0.1f} years of data in the training set'.format(train_features.shape[0] / 365.))\n",
    "print('{:0.1f} years of data in the test set'.format(test_features.shape[0] / 365.))"
   ]
  },
  {
   "cell_type": "markdown",
   "metadata": {},
   "source": [
    "# Examine default Random Forest to determine Parameters"
   ]
  },
  {
   "cell_type": "code",
   "execution_count": 22,
   "metadata": {},
   "outputs": [
    {
     "name": "stdout",
     "output_type": "stream",
     "text": [
      "Parameters currently in use:\n",
      "\n",
      "{'bootstrap': True,\n",
      " 'criterion': 'mse',\n",
      " 'max_depth': None,\n",
      " 'max_features': 'auto',\n",
      " 'max_leaf_nodes': None,\n",
      " 'min_impurity_decrease': 0.0,\n",
      " 'min_impurity_split': None,\n",
      " 'min_samples_leaf': 1,\n",
      " 'min_samples_split': 2,\n",
      " 'min_weight_fraction_leaf': 0.0,\n",
      " 'n_estimators': 10,\n",
      " 'n_jobs': 1,\n",
      " 'oob_score': False,\n",
      " 'random_state': None,\n",
      " 'verbose': 0,\n",
      " 'warm_start': False}\n"
     ]
    }
   ],
   "source": [
    "rf=RandomForestRegressor()\n",
    "#Look at the parameters used in current forest\n",
    "#print(rf.get_params())\n",
    "\n",
    "\n",
    "from pprint import pprint\n",
    "\n",
    "# Look at parameters used by our current forest\n",
    "print('Parameters currently in use:\\n')\n",
    "pprint(rf.get_params())"
   ]
  },
  {
   "cell_type": "markdown",
   "metadata": {},
   "source": [
    "# Random Search with Cross Validation"
   ]
  },
  {
   "cell_type": "code",
   "execution_count": 24,
   "metadata": {},
   "outputs": [
    {
     "name": "stdout",
     "output_type": "stream",
     "text": [
      "{'bootstrap': [True, False],\n",
      " 'max_depth': [10, 20, 30, 40, 50, 60, 70, 80, 90, 100, 110, None],\n",
      " 'max_features': ['auto', 'sqrt'],\n",
      " 'min_samples_leaf': [1, 2, 4],\n",
      " 'min_samples_split': [2, 5, 10],\n",
      " 'n_estimators': [200, 400, 600, 800, 1000, 1200, 1400, 1600, 1800, 2000]}\n"
     ]
    }
   ],
   "source": [
    "\n",
    "# Number of trees in random forest\n",
    "n_estimators = [int(x) for x in np.linspace(start = 200, stop = 2000, num = 10)]\n",
    "# Number of features to consider at every split\n",
    "max_features = ['auto', 'sqrt']\n",
    "# Maximum number of levels in tree\n",
    "max_depth = [int(x) for x in np.linspace(10, 110, num = 11)]\n",
    "max_depth.append(None)\n",
    "# Minimum number of samples required to split a node\n",
    "min_samples_split = [2, 5, 10]\n",
    "# Minimum number of samples required at each leaf node\n",
    "min_samples_leaf = [1, 2, 4]\n",
    "# Method of selecting samples for training each tree\n",
    "bootstrap = [True, False]\n",
    "\n",
    "# Create the random grid\n",
    "random_grid = {'n_estimators': n_estimators,\n",
    "               'max_features': max_features,\n",
    "               'max_depth': max_depth,\n",
    "               'min_samples_split': min_samples_split,\n",
    "               'min_samples_leaf': min_samples_leaf,\n",
    "               'bootstrap': bootstrap}\n",
    "pprint(random_grid)"
   ]
  },
  {
   "cell_type": "code",
   "execution_count": 25,
   "metadata": {},
   "outputs": [],
   "source": [
    "# Use the random grid to search for the best hyperparameter\n",
    "# First create a base model to tune\n",
    "rf=RandomForestRegressor(n_estimators=42)\n",
    "# Random Search of parameters using 3 fold cross validation\n",
    "# Search across 100 different combinations and use all the cores\n",
    "rf_random=RandomizedSearchCV(estimator=rf, param_distributions=random_grid, n_iter=100, scoring='neg_mean_absolute_error', cv=3, verbose=2, random_state=42, n_jobs=-1, return_train_score=True)"
   ]
  },
  {
   "cell_type": "code",
   "execution_count": 26,
   "metadata": {},
   "outputs": [
    {
     "name": "stdout",
     "output_type": "stream",
     "text": [
      "Fitting 3 folds for each of 100 candidates, totalling 300 fits\n"
     ]
    },
    {
     "name": "stderr",
     "output_type": "stream",
     "text": [
      "[Parallel(n_jobs=-1)]: Done  33 tasks      | elapsed:  1.3min\n",
      "[Parallel(n_jobs=-1)]: Done 154 tasks      | elapsed:  5.3min\n",
      "[Parallel(n_jobs=-1)]: Done 300 out of 300 | elapsed:  9.8min finished\n"
     ]
    },
    {
     "data": {
      "text/plain": [
       "RandomizedSearchCV(cv=3, error_score='raise',\n",
       "          estimator=RandomForestRegressor(bootstrap=True, criterion='mse', max_depth=None,\n",
       "           max_features='auto', max_leaf_nodes=None,\n",
       "           min_impurity_decrease=0.0, min_impurity_split=None,\n",
       "           min_samples_leaf=1, min_samples_split=2,\n",
       "           min_weight_fraction_leaf=0.0, n_estimators=42, n_jobs=1,\n",
       "           oob_score=False, random_state=None, verbose=0, warm_start=False),\n",
       "          fit_params=None, iid=True, n_iter=100, n_jobs=-1,\n",
       "          param_distributions={'n_estimators': [200, 400, 600, 800, 1000, 1200, 1400, 1600, 1800, 2000], 'max_features': ['auto', 'sqrt'], 'max_depth': [10, 20, 30, 40, 50, 60, 70, 80, 90, 100, 110, None], 'min_samples_split': [2, 5, 10], 'min_samples_leaf': [1, 2, 4], 'bootstrap': [True, False]},\n",
       "          pre_dispatch='2*n_jobs', random_state=42, refit=True,\n",
       "          return_train_score=True, scoring='neg_mean_absolute_error',\n",
       "          verbose=2)"
      ]
     },
     "execution_count": 26,
     "metadata": {},
     "output_type": "execute_result"
    }
   ],
   "source": [
    "# Fit the random search model\n",
    "rf_random.fit(train_features, train_labels)"
   ]
  },
  {
   "cell_type": "code",
   "execution_count": 27,
   "metadata": {},
   "outputs": [
    {
     "data": {
      "text/plain": [
       "{'bootstrap': True,\n",
       " 'max_depth': 70,\n",
       " 'max_features': 'auto',\n",
       " 'min_samples_leaf': 4,\n",
       " 'min_samples_split': 10,\n",
       " 'n_estimators': 400}"
      ]
     },
     "execution_count": 27,
     "metadata": {},
     "output_type": "execute_result"
    }
   ],
   "source": [
    "rf_random.best_params_"
   ]
  },
  {
   "cell_type": "code",
   "execution_count": 28,
   "metadata": {},
   "outputs": [
    {
     "data": {
      "text/plain": [
       "{'mean_fit_time': array([  1.95387952,   8.56593084,   6.90593179,  18.16265909,\n",
       "          7.18538245,   4.49259289,   6.81897958,   4.64868919,\n",
       "         13.47595096,  17.21290143,   2.72993692,   5.59937723,\n",
       "         10.22136362,   8.70080161,   4.47653786,  16.09785668,\n",
       "          6.01080561,   4.81962172,  19.18403109,   5.30677438,\n",
       "          9.13125141,   8.99670966,   5.79358514,  12.32644852,\n",
       "          7.8314352 ,   2.35131868,  19.18495226,   5.12867117,\n",
       "         16.47022502,   5.27131017,   5.3495992 ,   4.05067706,\n",
       "          4.90652013,   3.44702387,   7.29881501,   4.22391097,\n",
       "          5.1933554 ,   6.35535542,   5.9239374 ,   4.82889771,\n",
       "          1.02774398,   2.07147821,   2.9393146 ,   1.46882391,\n",
       "          1.79097303,   6.09717107,  13.25639947,   1.58775584,\n",
       "          5.42921933,   3.758178  ,  21.2284979 ,  17.13117854,\n",
       "          8.25793187,   8.5157845 ,   7.87215281,   2.64548182,\n",
       "         11.12961841,  12.54580712,  11.5923543 ,   5.36792167,\n",
       "          0.98943162,   1.45116822,   7.91046564,  10.3007609 ,\n",
       "          6.52692374,   9.54019642,  14.48569576,   9.55518889,\n",
       "          5.03777862,  16.48521582,   6.52159365,   4.35883387,\n",
       "          7.28115845,   4.32885138,  11.78524351,   1.8585999 ,\n",
       "          7.00798225,   9.25502682,   3.8970991 ,   1.1560022 ,\n",
       "         16.79337366,   3.92941316,   7.1415716 ,   6.94601703,\n",
       "          3.48999921,   3.01860229,   2.03416761,   6.78011266,\n",
       "          3.08289886,   3.68621985,   2.36464413,  10.43701537,\n",
       "          3.85279036,   3.39372158,   2.80472525,   3.99304279,\n",
       "          9.20105807,   1.53545197,   9.44558525,  11.71461821]),\n",
       " 'mean_score_time': array([ 0.09128078,  0.42675559,  0.27517621,  0.48372261,  0.34646718,\n",
       "         0.17889802,  0.34246627,  0.16523933,  0.3721207 ,  0.40576665,\n",
       "         0.0729595 ,  0.26451763,  0.48038975,  0.30432955,  0.17823124,\n",
       "         0.30049427,  0.11326822,  0.3214825 ,  0.38916492,  0.14191802,\n",
       "         0.34572617,  0.39477475,  0.29083371,  0.46106855,  0.42361108,\n",
       "         0.08761724,  0.42342456,  0.20488246,  0.39444002,  0.26118437,\n",
       "         0.20588183,  0.17856415,  0.2138768 ,  0.15291238,  0.41609637,\n",
       "         0.17823235,  0.24652521,  0.20188427,  0.18522716,  0.17956384,\n",
       "         0.0323143 ,  0.10627254,  0.15657727,  0.0849518 ,  0.04064369,\n",
       "         0.23819741,  0.38011607,  0.06729452,  0.26218351,  0.1665717 ,\n",
       "         0.44607719,  0.36079359,  0.18356156,  0.18489393,  0.29483183,\n",
       "         0.11526895,  0.26784682,  0.45474037,  0.32981133,  0.24352733,\n",
       "         0.04664071,  0.06862783,  0.21720839,  0.26384878,  0.30882351,\n",
       "         0.28383772,  0.30282633,  0.31282067,  0.22054005,  0.3877782 ,\n",
       "         0.26951289,  0.16057523,  0.37511834,  0.09894292,  0.33214347,\n",
       "         0.07628965,  0.37978347,  0.40143625,  0.19822001,  0.03731275,\n",
       "         0.46806471,  0.10060954,  0.19821922,  0.14758221,  0.15457797,\n",
       "         0.14924781,  0.10260725,  0.2838374 ,  0.15058033,  0.17656557,\n",
       "         0.12359627,  0.42042661,  0.18023086,  0.10027552,  0.14491653,\n",
       "         0.08695062,  0.20055254,  0.03431392,  0.48105836,  0.35046458]),\n",
       " 'mean_test_score': array([-3.87337604, -3.87253891, -3.90067628, -4.56592499, -3.87086553,\n",
       "        -3.88373854, -3.91889434, -3.9389987 , -5.0053804 , -4.50560755,\n",
       "        -3.83688944, -3.93434932, -3.9024294 , -3.90477519, -3.89809915,\n",
       "        -4.56578865, -4.9611899 , -3.8794893 , -4.61784479, -3.89435794,\n",
       "        -3.91311129, -3.94014918, -3.86530653, -3.87969012, -3.93925322,\n",
       "        -3.96150791, -5.00920529, -3.86158054, -4.50657925, -3.87339946,\n",
       "        -3.88746736, -3.9208728 , -3.93338228, -3.87119405, -3.86845358,\n",
       "        -3.90450342, -3.87412012, -3.90412432, -3.87703966, -3.87521534,\n",
       "        -3.84132973, -3.87254735, -3.86660635, -3.87260741, -4.96428865,\n",
       "        -3.87861016, -3.88030262, -3.87953598, -3.88429772, -3.92597149,\n",
       "        -5.00762984, -4.61783203, -4.50641314, -4.56588625, -3.91379696,\n",
       "        -3.88647726, -3.88199507, -3.87845365, -3.89970916, -3.86497648,\n",
       "        -3.89920572, -3.87188928, -4.50667376, -4.61757217, -3.87146254,\n",
       "        -3.86166306, -4.50552053, -3.87840143, -3.91436237, -4.61774219,\n",
       "        -3.88546961, -3.8839446 , -3.8716162 , -4.93623922, -3.88936065,\n",
       "        -3.90150805, -3.87078771, -3.87219316, -3.87455454, -3.85168258,\n",
       "        -4.56617195, -3.86291341, -3.84827   , -4.61793077, -3.88740778,\n",
       "        -3.91477212, -3.86676445, -3.86442118, -3.86338523, -3.86977886,\n",
       "        -3.87417451, -3.88582156, -3.87535157, -3.84246304, -3.88769999,\n",
       "        -4.61761641, -4.78575419, -4.56559823, -3.86545127, -3.8599053 ]),\n",
       " 'mean_train_score': array([ -1.94995271e+00,  -2.28543201e+00,  -1.72548579e+00,\n",
       "         -2.35791462e+00,  -2.83218966e+00,  -2.15247369e+00,\n",
       "         -1.19486012e+00,  -8.23862192e-01,   0.00000000e+00,\n",
       "         -2.45217041e+00,  -2.57102438e+00,  -8.25076063e-01,\n",
       "         -2.09316924e+00,  -1.72590622e+00,  -1.92411993e+00,\n",
       "         -2.35782508e+00,  -1.43287395e+00,  -1.42997112e+00,\n",
       "         -2.21606691e+00,  -1.73002046e+00,  -1.75114104e+00,\n",
       "         -8.23152560e-01,  -2.78961299e+00,  -1.77966182e+00,\n",
       "         -8.23288509e-01,  -8.96227044e-04,   0.00000000e+00,\n",
       "         -2.19204011e+00,  -2.50095686e+00,  -2.08669180e+00,\n",
       "         -2.27048604e+00,  -1.03280539e+00,  -8.21896639e-01,\n",
       "         -2.86417679e+00,  -2.78867865e+00,  -1.92759450e+00,\n",
       "         -2.19027858e+00,  -1.42904932e+00,  -1.88421581e+00,\n",
       "         -2.08990390e+00,  -2.50974998e+00,  -2.65447672e+00,\n",
       "         -2.78924127e+00,  -2.86561483e+00,  -1.43366927e+00,\n",
       "         -1.42993906e+00,  -1.77847966e+00,  -2.27001604e+00,\n",
       "         -2.15303188e+00,  -1.03609116e+00,  -3.56333502e-04,\n",
       "         -2.21608027e+00,  -2.50106057e+00,  -2.35795665e+00,\n",
       "         -1.19434232e+00,  -2.15457333e+00,  -2.03075214e+00,\n",
       "         -1.78006536e+00,  -1.42725556e+00,  -2.65300208e+00,\n",
       "         -1.44595917e+00,  -2.83003732e+00,  -2.50104993e+00,\n",
       "         -2.21613032e+00,  -2.54622804e+00,  -2.36750113e+00,\n",
       "         -2.45218664e+00,  -1.78000844e+00,  -1.75067383e+00,\n",
       "         -2.21626595e+00,  -2.15521481e+00,  -2.15476667e+00,\n",
       "         -2.19128457e+00,  -1.04466031e+00,  -1.73183344e+00,\n",
       "         -1.92643936e+00,  -2.54634287e+00,  -1.95201232e+00,\n",
       "         -2.39780890e+00,  -2.47472207e+00,  -2.35792299e+00,\n",
       "         -2.37129856e+00,  -2.46163117e+00,  -2.21598483e+00,\n",
       "         -2.15320081e+00,  -1.75315565e+00,  -1.95533214e+00,\n",
       "         -2.79196971e+00,  -2.86465523e+00,  -2.73589402e+00,\n",
       "         -2.54949100e+00,  -2.15286254e+00,  -1.95191126e+00,\n",
       "         -2.46283429e+00,  -2.15187295e+00,  -2.21590553e+00,\n",
       "         -1.35164213e+00,  -2.35782738e+00,  -2.08668725e+00,\n",
       "         -2.36956244e+00]),\n",
       " 'param_bootstrap': masked_array(data = [True True False False True False False False False False True False False\n",
       "  False False False False True False True False False True True False False\n",
       "  False True False True False False False True True False True True True\n",
       "  True True True True True False True True False False False False False\n",
       "  False False False False True True True True True True False False True\n",
       "  True False True False False False False True False True False True True\n",
       "  True True False True True False False False True True True True True False\n",
       "  True True False False False False True True],\n",
       "              mask = [False False False False False False False False False False False False\n",
       "  False False False False False False False False False False False False\n",
       "  False False False False False False False False False False False False\n",
       "  False False False False False False False False False False False False\n",
       "  False False False False False False False False False False False False\n",
       "  False False False False False False False False False False False False\n",
       "  False False False False False False False False False False False False\n",
       "  False False False False False False False False False False False False\n",
       "  False False False False],\n",
       "        fill_value = ?),\n",
       " 'param_max_depth': masked_array(data = [30 10 10 30 10 30 100 60 50 10 70 90 10 10 30 50 70 20 110 80 30 70 80\n",
       "  None 80 None 40 20 100 20 20 50 100 50 90 20 20 100 None 60 10 60 90 90 90\n",
       "  110 90 80 70 110 20 50 50 30 None 60 10 80 100 80 50 10 80 None 20 None 10\n",
       "  70 80 60 80 20 60 90 90 90 None 100 10 80 60 100 100 None 70 40 100 80 100\n",
       "  10 110 None 40 40 30 40 10 100 20 40],\n",
       "              mask = [False False False False False False False False False False False False\n",
       "  False False False False False False False False False False False False\n",
       "  False False False False False False False False False False False False\n",
       "  False False False False False False False False False False False False\n",
       "  False False False False False False False False False False False False\n",
       "  False False False False False False False False False False False False\n",
       "  False False False False False False False False False False False False\n",
       "  False False False False False False False False False False False False\n",
       "  False False False False],\n",
       "        fill_value = ?),\n",
       " 'param_max_features': masked_array(data = ['sqrt' 'sqrt' 'sqrt' 'auto' 'sqrt' 'sqrt' 'sqrt' 'sqrt' 'auto' 'auto'\n",
       "  'auto' 'sqrt' 'sqrt' 'sqrt' 'sqrt' 'auto' 'auto' 'sqrt' 'auto' 'auto'\n",
       "  'sqrt' 'sqrt' 'sqrt' 'auto' 'sqrt' 'sqrt' 'auto' 'sqrt' 'auto' 'sqrt'\n",
       "  'sqrt' 'sqrt' 'sqrt' 'sqrt' 'sqrt' 'sqrt' 'sqrt' 'auto' 'auto' 'sqrt'\n",
       "  'auto' 'sqrt' 'sqrt' 'sqrt' 'auto' 'sqrt' 'auto' 'sqrt' 'sqrt' 'sqrt'\n",
       "  'auto' 'auto' 'auto' 'auto' 'sqrt' 'sqrt' 'auto' 'auto' 'auto' 'sqrt'\n",
       "  'sqrt' 'sqrt' 'auto' 'auto' 'sqrt' 'auto' 'auto' 'auto' 'sqrt' 'auto'\n",
       "  'sqrt' 'sqrt' 'sqrt' 'auto' 'auto' 'sqrt' 'sqrt' 'sqrt' 'sqrt' 'auto'\n",
       "  'auto' 'auto' 'auto' 'auto' 'sqrt' 'sqrt' 'sqrt' 'sqrt' 'sqrt' 'sqrt'\n",
       "  'sqrt' 'sqrt' 'sqrt' 'auto' 'sqrt' 'auto' 'auto' 'auto' 'sqrt' 'auto'],\n",
       "              mask = [False False False False False False False False False False False False\n",
       "  False False False False False False False False False False False False\n",
       "  False False False False False False False False False False False False\n",
       "  False False False False False False False False False False False False\n",
       "  False False False False False False False False False False False False\n",
       "  False False False False False False False False False False False False\n",
       "  False False False False False False False False False False False False\n",
       "  False False False False False False False False False False False False\n",
       "  False False False False],\n",
       "        fill_value = ?),\n",
       " 'param_min_samples_leaf': masked_array(data = [1 1 2 4 4 4 2 1 1 4 4 1 1 2 2 4 2 1 2 1 1 1 4 2 1 1 1 2 4 2 4 2 1 4 4 2 2\n",
       "  1 2 2 4 2 4 4 2 1 2 4 4 2 1 2 4 4 2 4 1 2 1 2 1 4 4 2 1 2 4 2 1 2 4 4 2 1\n",
       "  1 2 1 1 2 4 4 2 4 2 4 1 1 4 4 2 1 4 1 4 4 2 1 4 2 2],\n",
       "              mask = [False False False False False False False False False False False False\n",
       "  False False False False False False False False False False False False\n",
       "  False False False False False False False False False False False False\n",
       "  False False False False False False False False False False False False\n",
       "  False False False False False False False False False False False False\n",
       "  False False False False False False False False False False False False\n",
       "  False False False False False False False False False False False False\n",
       "  False False False False False False False False False False False False\n",
       "  False False False False],\n",
       "        fill_value = ?),\n",
       " 'param_min_samples_split': masked_array(data = [5 5 5 2 2 5 5 5 2 5 10 5 10 5 10 2 5 2 10 5 10 5 5 2 5 2 2 5 10 2 10 2 5\n",
       "  10 2 10 5 2 5 2 5 10 2 10 5 2 2 10 2 2 2 10 10 5 5 2 5 2 2 10 2 2 10 10 10\n",
       "  10 2 2 10 10 2 2 5 5 5 10 10 5 5 5 2 10 5 10 5 10 5 2 10 10 10 5 5 2 2 10\n",
       "  2 5 2 10],\n",
       "              mask = [False False False False False False False False False False False False\n",
       "  False False False False False False False False False False False False\n",
       "  False False False False False False False False False False False False\n",
       "  False False False False False False False False False False False False\n",
       "  False False False False False False False False False False False False\n",
       "  False False False False False False False False False False False False\n",
       "  False False False False False False False False False False False False\n",
       "  False False False False False False False False False False False False\n",
       "  False False False False],\n",
       "        fill_value = ?),\n",
       " 'param_n_estimators': masked_array(data = [400 2000 1200 2000 1600 800 1000 600 1000 1800 400 800 2000 1600 800 1800\n",
       "  600 1000 1800 600 1800 1600 1400 1800 1400 400 1400 1000 2000 1200 1200\n",
       "  800 800 800 1800 800 1200 800 800 1000 200 600 800 400 200 1000 2000 400\n",
       "  1200 600 1800 2000 1000 1000 1400 600 1600 1800 1400 1400 200 400 1000\n",
       "  1200 1600 1600 1800 1400 1000 2000 1400 800 1800 400 1600 400 1600 2000\n",
       "  1000 200 2000 600 1000 800 800 600 400 1600 800 1000 600 2000 800 600 600\n",
       "  400 1000 200 2000 2000],\n",
       "              mask = [False False False False False False False False False False False False\n",
       "  False False False False False False False False False False False False\n",
       "  False False False False False False False False False False False False\n",
       "  False False False False False False False False False False False False\n",
       "  False False False False False False False False False False False False\n",
       "  False False False False False False False False False False False False\n",
       "  False False False False False False False False False False False False\n",
       "  False False False False False False False False False False False False\n",
       "  False False False False],\n",
       "        fill_value = ?),\n",
       " 'params': [{'bootstrap': True,\n",
       "   'max_depth': 30,\n",
       "   'max_features': 'sqrt',\n",
       "   'min_samples_leaf': 1,\n",
       "   'min_samples_split': 5,\n",
       "   'n_estimators': 400},\n",
       "  {'bootstrap': True,\n",
       "   'max_depth': 10,\n",
       "   'max_features': 'sqrt',\n",
       "   'min_samples_leaf': 1,\n",
       "   'min_samples_split': 5,\n",
       "   'n_estimators': 2000},\n",
       "  {'bootstrap': False,\n",
       "   'max_depth': 10,\n",
       "   'max_features': 'sqrt',\n",
       "   'min_samples_leaf': 2,\n",
       "   'min_samples_split': 5,\n",
       "   'n_estimators': 1200},\n",
       "  {'bootstrap': False,\n",
       "   'max_depth': 30,\n",
       "   'max_features': 'auto',\n",
       "   'min_samples_leaf': 4,\n",
       "   'min_samples_split': 2,\n",
       "   'n_estimators': 2000},\n",
       "  {'bootstrap': True,\n",
       "   'max_depth': 10,\n",
       "   'max_features': 'sqrt',\n",
       "   'min_samples_leaf': 4,\n",
       "   'min_samples_split': 2,\n",
       "   'n_estimators': 1600},\n",
       "  {'bootstrap': False,\n",
       "   'max_depth': 30,\n",
       "   'max_features': 'sqrt',\n",
       "   'min_samples_leaf': 4,\n",
       "   'min_samples_split': 5,\n",
       "   'n_estimators': 800},\n",
       "  {'bootstrap': False,\n",
       "   'max_depth': 100,\n",
       "   'max_features': 'sqrt',\n",
       "   'min_samples_leaf': 2,\n",
       "   'min_samples_split': 5,\n",
       "   'n_estimators': 1000},\n",
       "  {'bootstrap': False,\n",
       "   'max_depth': 60,\n",
       "   'max_features': 'sqrt',\n",
       "   'min_samples_leaf': 1,\n",
       "   'min_samples_split': 5,\n",
       "   'n_estimators': 600},\n",
       "  {'bootstrap': False,\n",
       "   'max_depth': 50,\n",
       "   'max_features': 'auto',\n",
       "   'min_samples_leaf': 1,\n",
       "   'min_samples_split': 2,\n",
       "   'n_estimators': 1000},\n",
       "  {'bootstrap': False,\n",
       "   'max_depth': 10,\n",
       "   'max_features': 'auto',\n",
       "   'min_samples_leaf': 4,\n",
       "   'min_samples_split': 5,\n",
       "   'n_estimators': 1800},\n",
       "  {'bootstrap': True,\n",
       "   'max_depth': 70,\n",
       "   'max_features': 'auto',\n",
       "   'min_samples_leaf': 4,\n",
       "   'min_samples_split': 10,\n",
       "   'n_estimators': 400},\n",
       "  {'bootstrap': False,\n",
       "   'max_depth': 90,\n",
       "   'max_features': 'sqrt',\n",
       "   'min_samples_leaf': 1,\n",
       "   'min_samples_split': 5,\n",
       "   'n_estimators': 800},\n",
       "  {'bootstrap': False,\n",
       "   'max_depth': 10,\n",
       "   'max_features': 'sqrt',\n",
       "   'min_samples_leaf': 1,\n",
       "   'min_samples_split': 10,\n",
       "   'n_estimators': 2000},\n",
       "  {'bootstrap': False,\n",
       "   'max_depth': 10,\n",
       "   'max_features': 'sqrt',\n",
       "   'min_samples_leaf': 2,\n",
       "   'min_samples_split': 5,\n",
       "   'n_estimators': 1600},\n",
       "  {'bootstrap': False,\n",
       "   'max_depth': 30,\n",
       "   'max_features': 'sqrt',\n",
       "   'min_samples_leaf': 2,\n",
       "   'min_samples_split': 10,\n",
       "   'n_estimators': 800},\n",
       "  {'bootstrap': False,\n",
       "   'max_depth': 50,\n",
       "   'max_features': 'auto',\n",
       "   'min_samples_leaf': 4,\n",
       "   'min_samples_split': 2,\n",
       "   'n_estimators': 1800},\n",
       "  {'bootstrap': False,\n",
       "   'max_depth': 70,\n",
       "   'max_features': 'auto',\n",
       "   'min_samples_leaf': 2,\n",
       "   'min_samples_split': 5,\n",
       "   'n_estimators': 600},\n",
       "  {'bootstrap': True,\n",
       "   'max_depth': 20,\n",
       "   'max_features': 'sqrt',\n",
       "   'min_samples_leaf': 1,\n",
       "   'min_samples_split': 2,\n",
       "   'n_estimators': 1000},\n",
       "  {'bootstrap': False,\n",
       "   'max_depth': 110,\n",
       "   'max_features': 'auto',\n",
       "   'min_samples_leaf': 2,\n",
       "   'min_samples_split': 10,\n",
       "   'n_estimators': 1800},\n",
       "  {'bootstrap': True,\n",
       "   'max_depth': 80,\n",
       "   'max_features': 'auto',\n",
       "   'min_samples_leaf': 1,\n",
       "   'min_samples_split': 5,\n",
       "   'n_estimators': 600},\n",
       "  {'bootstrap': False,\n",
       "   'max_depth': 30,\n",
       "   'max_features': 'sqrt',\n",
       "   'min_samples_leaf': 1,\n",
       "   'min_samples_split': 10,\n",
       "   'n_estimators': 1800},\n",
       "  {'bootstrap': False,\n",
       "   'max_depth': 70,\n",
       "   'max_features': 'sqrt',\n",
       "   'min_samples_leaf': 1,\n",
       "   'min_samples_split': 5,\n",
       "   'n_estimators': 1600},\n",
       "  {'bootstrap': True,\n",
       "   'max_depth': 80,\n",
       "   'max_features': 'sqrt',\n",
       "   'min_samples_leaf': 4,\n",
       "   'min_samples_split': 5,\n",
       "   'n_estimators': 1400},\n",
       "  {'bootstrap': True,\n",
       "   'max_depth': None,\n",
       "   'max_features': 'auto',\n",
       "   'min_samples_leaf': 2,\n",
       "   'min_samples_split': 2,\n",
       "   'n_estimators': 1800},\n",
       "  {'bootstrap': False,\n",
       "   'max_depth': 80,\n",
       "   'max_features': 'sqrt',\n",
       "   'min_samples_leaf': 1,\n",
       "   'min_samples_split': 5,\n",
       "   'n_estimators': 1400},\n",
       "  {'bootstrap': False,\n",
       "   'max_depth': None,\n",
       "   'max_features': 'sqrt',\n",
       "   'min_samples_leaf': 1,\n",
       "   'min_samples_split': 2,\n",
       "   'n_estimators': 400},\n",
       "  {'bootstrap': False,\n",
       "   'max_depth': 40,\n",
       "   'max_features': 'auto',\n",
       "   'min_samples_leaf': 1,\n",
       "   'min_samples_split': 2,\n",
       "   'n_estimators': 1400},\n",
       "  {'bootstrap': True,\n",
       "   'max_depth': 20,\n",
       "   'max_features': 'sqrt',\n",
       "   'min_samples_leaf': 2,\n",
       "   'min_samples_split': 5,\n",
       "   'n_estimators': 1000},\n",
       "  {'bootstrap': False,\n",
       "   'max_depth': 100,\n",
       "   'max_features': 'auto',\n",
       "   'min_samples_leaf': 4,\n",
       "   'min_samples_split': 10,\n",
       "   'n_estimators': 2000},\n",
       "  {'bootstrap': True,\n",
       "   'max_depth': 20,\n",
       "   'max_features': 'sqrt',\n",
       "   'min_samples_leaf': 2,\n",
       "   'min_samples_split': 2,\n",
       "   'n_estimators': 1200},\n",
       "  {'bootstrap': False,\n",
       "   'max_depth': 20,\n",
       "   'max_features': 'sqrt',\n",
       "   'min_samples_leaf': 4,\n",
       "   'min_samples_split': 10,\n",
       "   'n_estimators': 1200},\n",
       "  {'bootstrap': False,\n",
       "   'max_depth': 50,\n",
       "   'max_features': 'sqrt',\n",
       "   'min_samples_leaf': 2,\n",
       "   'min_samples_split': 2,\n",
       "   'n_estimators': 800},\n",
       "  {'bootstrap': False,\n",
       "   'max_depth': 100,\n",
       "   'max_features': 'sqrt',\n",
       "   'min_samples_leaf': 1,\n",
       "   'min_samples_split': 5,\n",
       "   'n_estimators': 800},\n",
       "  {'bootstrap': True,\n",
       "   'max_depth': 50,\n",
       "   'max_features': 'sqrt',\n",
       "   'min_samples_leaf': 4,\n",
       "   'min_samples_split': 10,\n",
       "   'n_estimators': 800},\n",
       "  {'bootstrap': True,\n",
       "   'max_depth': 90,\n",
       "   'max_features': 'sqrt',\n",
       "   'min_samples_leaf': 4,\n",
       "   'min_samples_split': 2,\n",
       "   'n_estimators': 1800},\n",
       "  {'bootstrap': False,\n",
       "   'max_depth': 20,\n",
       "   'max_features': 'sqrt',\n",
       "   'min_samples_leaf': 2,\n",
       "   'min_samples_split': 10,\n",
       "   'n_estimators': 800},\n",
       "  {'bootstrap': True,\n",
       "   'max_depth': 20,\n",
       "   'max_features': 'sqrt',\n",
       "   'min_samples_leaf': 2,\n",
       "   'min_samples_split': 5,\n",
       "   'n_estimators': 1200},\n",
       "  {'bootstrap': True,\n",
       "   'max_depth': 100,\n",
       "   'max_features': 'auto',\n",
       "   'min_samples_leaf': 1,\n",
       "   'min_samples_split': 2,\n",
       "   'n_estimators': 800},\n",
       "  {'bootstrap': True,\n",
       "   'max_depth': None,\n",
       "   'max_features': 'auto',\n",
       "   'min_samples_leaf': 2,\n",
       "   'min_samples_split': 5,\n",
       "   'n_estimators': 800},\n",
       "  {'bootstrap': True,\n",
       "   'max_depth': 60,\n",
       "   'max_features': 'sqrt',\n",
       "   'min_samples_leaf': 2,\n",
       "   'min_samples_split': 2,\n",
       "   'n_estimators': 1000},\n",
       "  {'bootstrap': True,\n",
       "   'max_depth': 10,\n",
       "   'max_features': 'auto',\n",
       "   'min_samples_leaf': 4,\n",
       "   'min_samples_split': 5,\n",
       "   'n_estimators': 200},\n",
       "  {'bootstrap': True,\n",
       "   'max_depth': 60,\n",
       "   'max_features': 'sqrt',\n",
       "   'min_samples_leaf': 2,\n",
       "   'min_samples_split': 10,\n",
       "   'n_estimators': 600},\n",
       "  {'bootstrap': True,\n",
       "   'max_depth': 90,\n",
       "   'max_features': 'sqrt',\n",
       "   'min_samples_leaf': 4,\n",
       "   'min_samples_split': 2,\n",
       "   'n_estimators': 800},\n",
       "  {'bootstrap': True,\n",
       "   'max_depth': 90,\n",
       "   'max_features': 'sqrt',\n",
       "   'min_samples_leaf': 4,\n",
       "   'min_samples_split': 10,\n",
       "   'n_estimators': 400},\n",
       "  {'bootstrap': False,\n",
       "   'max_depth': 90,\n",
       "   'max_features': 'auto',\n",
       "   'min_samples_leaf': 2,\n",
       "   'min_samples_split': 5,\n",
       "   'n_estimators': 200},\n",
       "  {'bootstrap': True,\n",
       "   'max_depth': 110,\n",
       "   'max_features': 'sqrt',\n",
       "   'min_samples_leaf': 1,\n",
       "   'min_samples_split': 2,\n",
       "   'n_estimators': 1000},\n",
       "  {'bootstrap': True,\n",
       "   'max_depth': 90,\n",
       "   'max_features': 'auto',\n",
       "   'min_samples_leaf': 2,\n",
       "   'min_samples_split': 2,\n",
       "   'n_estimators': 2000},\n",
       "  {'bootstrap': False,\n",
       "   'max_depth': 80,\n",
       "   'max_features': 'sqrt',\n",
       "   'min_samples_leaf': 4,\n",
       "   'min_samples_split': 10,\n",
       "   'n_estimators': 400},\n",
       "  {'bootstrap': False,\n",
       "   'max_depth': 70,\n",
       "   'max_features': 'sqrt',\n",
       "   'min_samples_leaf': 4,\n",
       "   'min_samples_split': 2,\n",
       "   'n_estimators': 1200},\n",
       "  {'bootstrap': False,\n",
       "   'max_depth': 110,\n",
       "   'max_features': 'sqrt',\n",
       "   'min_samples_leaf': 2,\n",
       "   'min_samples_split': 2,\n",
       "   'n_estimators': 600},\n",
       "  {'bootstrap': False,\n",
       "   'max_depth': 20,\n",
       "   'max_features': 'auto',\n",
       "   'min_samples_leaf': 1,\n",
       "   'min_samples_split': 2,\n",
       "   'n_estimators': 1800},\n",
       "  {'bootstrap': False,\n",
       "   'max_depth': 50,\n",
       "   'max_features': 'auto',\n",
       "   'min_samples_leaf': 2,\n",
       "   'min_samples_split': 10,\n",
       "   'n_estimators': 2000},\n",
       "  {'bootstrap': False,\n",
       "   'max_depth': 50,\n",
       "   'max_features': 'auto',\n",
       "   'min_samples_leaf': 4,\n",
       "   'min_samples_split': 10,\n",
       "   'n_estimators': 1000},\n",
       "  {'bootstrap': False,\n",
       "   'max_depth': 30,\n",
       "   'max_features': 'auto',\n",
       "   'min_samples_leaf': 4,\n",
       "   'min_samples_split': 5,\n",
       "   'n_estimators': 1000},\n",
       "  {'bootstrap': False,\n",
       "   'max_depth': None,\n",
       "   'max_features': 'sqrt',\n",
       "   'min_samples_leaf': 2,\n",
       "   'min_samples_split': 5,\n",
       "   'n_estimators': 1400},\n",
       "  {'bootstrap': False,\n",
       "   'max_depth': 60,\n",
       "   'max_features': 'sqrt',\n",
       "   'min_samples_leaf': 4,\n",
       "   'min_samples_split': 2,\n",
       "   'n_estimators': 600},\n",
       "  {'bootstrap': True,\n",
       "   'max_depth': 10,\n",
       "   'max_features': 'auto',\n",
       "   'min_samples_leaf': 1,\n",
       "   'min_samples_split': 5,\n",
       "   'n_estimators': 1600},\n",
       "  {'bootstrap': True,\n",
       "   'max_depth': 80,\n",
       "   'max_features': 'auto',\n",
       "   'min_samples_leaf': 2,\n",
       "   'min_samples_split': 2,\n",
       "   'n_estimators': 1800},\n",
       "  {'bootstrap': True,\n",
       "   'max_depth': 100,\n",
       "   'max_features': 'auto',\n",
       "   'min_samples_leaf': 1,\n",
       "   'min_samples_split': 2,\n",
       "   'n_estimators': 1400},\n",
       "  {'bootstrap': True,\n",
       "   'max_depth': 80,\n",
       "   'max_features': 'sqrt',\n",
       "   'min_samples_leaf': 2,\n",
       "   'min_samples_split': 10,\n",
       "   'n_estimators': 1400},\n",
       "  {'bootstrap': True,\n",
       "   'max_depth': 50,\n",
       "   'max_features': 'sqrt',\n",
       "   'min_samples_leaf': 1,\n",
       "   'min_samples_split': 2,\n",
       "   'n_estimators': 200},\n",
       "  {'bootstrap': True,\n",
       "   'max_depth': 10,\n",
       "   'max_features': 'sqrt',\n",
       "   'min_samples_leaf': 4,\n",
       "   'min_samples_split': 2,\n",
       "   'n_estimators': 400},\n",
       "  {'bootstrap': False,\n",
       "   'max_depth': 80,\n",
       "   'max_features': 'auto',\n",
       "   'min_samples_leaf': 4,\n",
       "   'min_samples_split': 10,\n",
       "   'n_estimators': 1000},\n",
       "  {'bootstrap': False,\n",
       "   'max_depth': None,\n",
       "   'max_features': 'auto',\n",
       "   'min_samples_leaf': 2,\n",
       "   'min_samples_split': 10,\n",
       "   'n_estimators': 1200},\n",
       "  {'bootstrap': True,\n",
       "   'max_depth': 20,\n",
       "   'max_features': 'sqrt',\n",
       "   'min_samples_leaf': 1,\n",
       "   'min_samples_split': 10,\n",
       "   'n_estimators': 1600},\n",
       "  {'bootstrap': True,\n",
       "   'max_depth': None,\n",
       "   'max_features': 'auto',\n",
       "   'min_samples_leaf': 2,\n",
       "   'min_samples_split': 10,\n",
       "   'n_estimators': 1600},\n",
       "  {'bootstrap': False,\n",
       "   'max_depth': 10,\n",
       "   'max_features': 'auto',\n",
       "   'min_samples_leaf': 4,\n",
       "   'min_samples_split': 2,\n",
       "   'n_estimators': 1800},\n",
       "  {'bootstrap': True,\n",
       "   'max_depth': 70,\n",
       "   'max_features': 'auto',\n",
       "   'min_samples_leaf': 2,\n",
       "   'min_samples_split': 2,\n",
       "   'n_estimators': 1400},\n",
       "  {'bootstrap': False,\n",
       "   'max_depth': 80,\n",
       "   'max_features': 'sqrt',\n",
       "   'min_samples_leaf': 1,\n",
       "   'min_samples_split': 10,\n",
       "   'n_estimators': 1000},\n",
       "  {'bootstrap': False,\n",
       "   'max_depth': 60,\n",
       "   'max_features': 'auto',\n",
       "   'min_samples_leaf': 2,\n",
       "   'min_samples_split': 10,\n",
       "   'n_estimators': 2000},\n",
       "  {'bootstrap': False,\n",
       "   'max_depth': 80,\n",
       "   'max_features': 'sqrt',\n",
       "   'min_samples_leaf': 4,\n",
       "   'min_samples_split': 2,\n",
       "   'n_estimators': 1400},\n",
       "  {'bootstrap': False,\n",
       "   'max_depth': 20,\n",
       "   'max_features': 'sqrt',\n",
       "   'min_samples_leaf': 4,\n",
       "   'min_samples_split': 2,\n",
       "   'n_estimators': 800},\n",
       "  {'bootstrap': True,\n",
       "   'max_depth': 60,\n",
       "   'max_features': 'sqrt',\n",
       "   'min_samples_leaf': 2,\n",
       "   'min_samples_split': 5,\n",
       "   'n_estimators': 1800},\n",
       "  {'bootstrap': False,\n",
       "   'max_depth': 90,\n",
       "   'max_features': 'auto',\n",
       "   'min_samples_leaf': 1,\n",
       "   'min_samples_split': 5,\n",
       "   'n_estimators': 400},\n",
       "  {'bootstrap': True,\n",
       "   'max_depth': 90,\n",
       "   'max_features': 'auto',\n",
       "   'min_samples_leaf': 1,\n",
       "   'min_samples_split': 5,\n",
       "   'n_estimators': 1600},\n",
       "  {'bootstrap': False,\n",
       "   'max_depth': 90,\n",
       "   'max_features': 'sqrt',\n",
       "   'min_samples_leaf': 2,\n",
       "   'min_samples_split': 10,\n",
       "   'n_estimators': 400},\n",
       "  {'bootstrap': True,\n",
       "   'max_depth': None,\n",
       "   'max_features': 'sqrt',\n",
       "   'min_samples_leaf': 1,\n",
       "   'min_samples_split': 10,\n",
       "   'n_estimators': 1600},\n",
       "  {'bootstrap': True,\n",
       "   'max_depth': 100,\n",
       "   'max_features': 'sqrt',\n",
       "   'min_samples_leaf': 1,\n",
       "   'min_samples_split': 5,\n",
       "   'n_estimators': 2000},\n",
       "  {'bootstrap': True,\n",
       "   'max_depth': 10,\n",
       "   'max_features': 'sqrt',\n",
       "   'min_samples_leaf': 2,\n",
       "   'min_samples_split': 5,\n",
       "   'n_estimators': 1000},\n",
       "  {'bootstrap': True,\n",
       "   'max_depth': 80,\n",
       "   'max_features': 'auto',\n",
       "   'min_samples_leaf': 4,\n",
       "   'min_samples_split': 5,\n",
       "   'n_estimators': 200},\n",
       "  {'bootstrap': False,\n",
       "   'max_depth': 60,\n",
       "   'max_features': 'auto',\n",
       "   'min_samples_leaf': 4,\n",
       "   'min_samples_split': 2,\n",
       "   'n_estimators': 2000},\n",
       "  {'bootstrap': True,\n",
       "   'max_depth': 100,\n",
       "   'max_features': 'auto',\n",
       "   'min_samples_leaf': 2,\n",
       "   'min_samples_split': 10,\n",
       "   'n_estimators': 600},\n",
       "  {'bootstrap': True,\n",
       "   'max_depth': 100,\n",
       "   'max_features': 'auto',\n",
       "   'min_samples_leaf': 4,\n",
       "   'min_samples_split': 5,\n",
       "   'n_estimators': 1000},\n",
       "  {'bootstrap': False,\n",
       "   'max_depth': None,\n",
       "   'max_features': 'auto',\n",
       "   'min_samples_leaf': 2,\n",
       "   'min_samples_split': 10,\n",
       "   'n_estimators': 800},\n",
       "  {'bootstrap': False,\n",
       "   'max_depth': 70,\n",
       "   'max_features': 'sqrt',\n",
       "   'min_samples_leaf': 4,\n",
       "   'min_samples_split': 5,\n",
       "   'n_estimators': 800},\n",
       "  {'bootstrap': False,\n",
       "   'max_depth': 40,\n",
       "   'max_features': 'sqrt',\n",
       "   'min_samples_leaf': 1,\n",
       "   'min_samples_split': 10,\n",
       "   'n_estimators': 600},\n",
       "  {'bootstrap': True,\n",
       "   'max_depth': 100,\n",
       "   'max_features': 'sqrt',\n",
       "   'min_samples_leaf': 1,\n",
       "   'min_samples_split': 5,\n",
       "   'n_estimators': 400},\n",
       "  {'bootstrap': True,\n",
       "   'max_depth': 80,\n",
       "   'max_features': 'sqrt',\n",
       "   'min_samples_leaf': 4,\n",
       "   'min_samples_split': 2,\n",
       "   'n_estimators': 1600},\n",
       "  {'bootstrap': True,\n",
       "   'max_depth': 100,\n",
       "   'max_features': 'sqrt',\n",
       "   'min_samples_leaf': 4,\n",
       "   'min_samples_split': 10,\n",
       "   'n_estimators': 800},\n",
       "  {'bootstrap': True,\n",
       "   'max_depth': 10,\n",
       "   'max_features': 'sqrt',\n",
       "   'min_samples_leaf': 2,\n",
       "   'min_samples_split': 10,\n",
       "   'n_estimators': 1000},\n",
       "  {'bootstrap': True,\n",
       "   'max_depth': 110,\n",
       "   'max_features': 'sqrt',\n",
       "   'min_samples_leaf': 1,\n",
       "   'min_samples_split': 10,\n",
       "   'n_estimators': 600},\n",
       "  {'bootstrap': False,\n",
       "   'max_depth': None,\n",
       "   'max_features': 'sqrt',\n",
       "   'min_samples_leaf': 4,\n",
       "   'min_samples_split': 5,\n",
       "   'n_estimators': 2000},\n",
       "  {'bootstrap': True,\n",
       "   'max_depth': 40,\n",
       "   'max_features': 'sqrt',\n",
       "   'min_samples_leaf': 1,\n",
       "   'min_samples_split': 5,\n",
       "   'n_estimators': 800},\n",
       "  {'bootstrap': True,\n",
       "   'max_depth': 40,\n",
       "   'max_features': 'auto',\n",
       "   'min_samples_leaf': 4,\n",
       "   'min_samples_split': 2,\n",
       "   'n_estimators': 600},\n",
       "  {'bootstrap': False,\n",
       "   'max_depth': 30,\n",
       "   'max_features': 'sqrt',\n",
       "   'min_samples_leaf': 4,\n",
       "   'min_samples_split': 2,\n",
       "   'n_estimators': 600},\n",
       "  {'bootstrap': False,\n",
       "   'max_depth': 40,\n",
       "   'max_features': 'auto',\n",
       "   'min_samples_leaf': 2,\n",
       "   'min_samples_split': 10,\n",
       "   'n_estimators': 400},\n",
       "  {'bootstrap': False,\n",
       "   'max_depth': 10,\n",
       "   'max_features': 'auto',\n",
       "   'min_samples_leaf': 1,\n",
       "   'min_samples_split': 2,\n",
       "   'n_estimators': 1000},\n",
       "  {'bootstrap': False,\n",
       "   'max_depth': 100,\n",
       "   'max_features': 'auto',\n",
       "   'min_samples_leaf': 4,\n",
       "   'min_samples_split': 5,\n",
       "   'n_estimators': 200},\n",
       "  {'bootstrap': True,\n",
       "   'max_depth': 20,\n",
       "   'max_features': 'sqrt',\n",
       "   'min_samples_leaf': 2,\n",
       "   'min_samples_split': 2,\n",
       "   'n_estimators': 2000},\n",
       "  {'bootstrap': True,\n",
       "   'max_depth': 40,\n",
       "   'max_features': 'auto',\n",
       "   'min_samples_leaf': 2,\n",
       "   'min_samples_split': 10,\n",
       "   'n_estimators': 2000}],\n",
       " 'rank_test_score': array([ 29,  26,  59,  86,  20,  45,  69,  74,  98,  79,   1,  73,  61,\n",
       "         64,  56,  84,  96,  40,  92,  55,  65,  76,  13,  42,  75,  77,\n",
       "        100,   7,  81,  30,  52,  70,  72,  21,  17,  63,  31,  62,  36,\n",
       "         34,   2,  27,  15,  28,  97,  39,  43,  41,  47,  71,  99,  91,\n",
       "         80,  85,  66,  50,  44,  38,  58,  12,  57,  24,  82,  88,  22,\n",
       "          8,  78,  37,  67,  90,  48,  46,  23,  95,  54,  60,  19,  25,\n",
       "         33,   5,  87,   9,   4,  93,  51,  68,  16,  11,  10,  18,  32,\n",
       "         49,  35,   3,  53,  89,  94,  83,  14,   6]),\n",
       " 'split0_test_score': array([-3.88721189, -3.8872098 , -3.91928556, -4.37329484, -3.86455377,\n",
       "        -3.88451344, -3.93153107, -3.94034925, -4.86099088, -4.32673587,\n",
       "        -3.85057303, -3.9478106 , -3.90830579, -3.91884801, -3.91510454,\n",
       "        -4.37260011, -4.84879233, -3.89337178, -4.51738547, -3.88723787,\n",
       "        -3.92038039, -3.9482497 , -3.86973339, -3.89071826, -3.94219   ,\n",
       "        -3.98098996, -4.86511731, -3.86757083, -4.38262154, -3.88250458,\n",
       "        -3.89221076, -3.94542897, -3.94291591, -3.8717366 , -3.86490748,\n",
       "        -3.90870356, -3.87995268, -3.91171077, -3.87739024, -3.87871517,\n",
       "        -3.84297697, -3.87531769, -3.86616024, -3.85885357, -4.85023647,\n",
       "        -3.89884489, -3.88740536, -3.88418871, -3.89432998, -3.94548398,\n",
       "        -4.86365572, -4.51744478, -4.38263573, -4.37246929, -3.9341576 ,\n",
       "        -3.89005136, -3.88962895, -3.89127259, -3.91048488, -3.87147975,\n",
       "        -3.92671533, -3.88196854, -4.3829829 , -4.51727239, -3.87625281,\n",
       "        -3.86737493, -4.32644125, -3.8937517 , -3.91352903, -4.5173191 ,\n",
       "        -3.88985873, -3.88886475, -3.88243977, -4.7778547 , -3.88805011,\n",
       "        -3.91648196, -3.87946587, -3.88791436, -3.87792571, -3.85596162,\n",
       "        -4.37310023, -3.87482034, -3.86397604, -4.5174325 , -3.87878494,\n",
       "        -3.91403385, -3.88392087, -3.8636635 , -3.86058505, -3.87875386,\n",
       "        -3.8818764 , -3.8878972 , -3.88557423, -3.863826  , -3.89213085,\n",
       "        -4.51686624, -4.62445333, -4.37360097, -3.87366548, -3.86660148]),\n",
       " 'split0_train_score': array([ -1.96742573e+00,  -2.29835022e+00,  -1.73267472e+00,\n",
       "         -2.35415442e+00,  -2.83955136e+00,  -2.17110213e+00,\n",
       "         -1.21259437e+00,  -8.36281076e-01,  -0.00000000e+00,\n",
       "         -2.47217923e+00,  -2.58339981e+00,  -8.33763508e-01,\n",
       "         -2.10789740e+00,  -1.73539010e+00,  -1.94914172e+00,\n",
       "         -2.35418045e+00,  -1.42846068e+00,  -1.44060321e+00,\n",
       "         -2.15817352e+00,  -1.74523656e+00,  -1.78113275e+00,\n",
       "         -8.32309361e-01,  -2.79884955e+00,  -1.79352435e+00,\n",
       "         -8.34883670e-01,  -1.06849315e-03,  -0.00000000e+00,\n",
       "         -2.21255857e+00,  -2.53023483e+00,  -2.10309467e+00,\n",
       "         -2.29093028e+00,  -1.04490520e+00,  -8.32203006e-01,\n",
       "         -2.87655856e+00,  -2.79719032e+00,  -1.95531872e+00,\n",
       "         -2.20280362e+00,  -1.44406393e+00,  -1.89992455e+00,\n",
       "         -2.10493164e+00,  -2.52642554e+00,  -2.65925796e+00,\n",
       "         -2.79806272e+00,  -2.88465105e+00,  -1.42907458e+00,\n",
       "         -1.44177534e+00,  -1.79046645e+00,  -2.29115843e+00,\n",
       "         -2.17015710e+00,  -1.04834958e+00,  -0.00000000e+00,\n",
       "         -2.15817352e+00,  -2.53023483e+00,  -2.35421429e+00,\n",
       "         -1.20977645e+00,  -2.17690647e+00,  -2.05345456e+00,\n",
       "         -1.79226538e+00,  -1.43579126e+00,  -2.66608339e+00,\n",
       "         -1.47102283e+00,  -2.84076168e+00,  -2.53023483e+00,\n",
       "         -2.15817352e+00,  -2.55623906e+00,  -2.39348466e+00,\n",
       "         -2.47214539e+00,  -1.79198239e+00,  -1.77514546e+00,\n",
       "         -2.15817352e+00,  -2.17598973e+00,  -2.17229358e+00,\n",
       "         -2.20873844e+00,  -1.07213623e+00,  -1.74906929e+00,\n",
       "         -1.95006390e+00,  -2.55806403e+00,  -1.96164147e+00,\n",
       "         -2.40861621e+00,  -2.48923294e+00,  -2.35415232e+00,\n",
       "         -2.39028456e+00,  -2.47228328e+00,  -2.15817352e+00,\n",
       "         -2.16678004e+00,  -1.78509752e+00,  -1.97646962e+00,\n",
       "         -2.80501332e+00,  -2.87279679e+00,  -2.74402060e+00,\n",
       "         -2.56261081e+00,  -2.17034600e+00,  -1.96437236e+00,\n",
       "         -2.47159372e+00,  -2.17125912e+00,  -2.15817352e+00,\n",
       "         -1.39330892e+00,  -2.35425629e+00,  -2.09969978e+00,\n",
       "         -2.39449319e+00]),\n",
       " 'split1_test_score': array([-3.82263537, -3.81322794, -3.84056202, -4.55558203, -3.82827053,\n",
       "        -3.82821313, -3.86117644, -3.88491788, -5.0337792 , -4.5119437 ,\n",
       "        -3.75356132, -3.87368252, -3.84839219, -3.84450622, -3.84455116,\n",
       "        -4.55537471, -5.10251495, -3.82599539, -4.69658225, -3.82463744,\n",
       "        -3.8645149 , -3.88250057, -3.8194844 , -3.79775572, -3.89321744,\n",
       "        -3.89979471, -5.03517987, -3.81043181, -4.45124322, -3.82591151,\n",
       "        -3.83142581, -3.86312951, -3.88566055, -3.82496226, -3.82619148,\n",
       "        -3.85850945, -3.82729151, -3.82896442, -3.80146157, -3.83193416,\n",
       "        -3.76203105, -3.83406917, -3.82186283, -3.83667503, -5.10586147,\n",
       "        -3.82753558, -3.80225921, -3.81610584, -3.82245808, -3.85843384,\n",
       "        -5.03413676, -4.69647895, -4.45107201, -4.5563443 , -3.85672922,\n",
       "        -3.83096499, -3.80218575, -3.80121764, -3.81802659, -3.81972069,\n",
       "        -3.83686131, -3.82192408, -4.45101566, -4.69626965, -3.82401465,\n",
       "        -3.78787715, -4.51223762, -3.79640731, -3.8649562 , -4.69638624,\n",
       "        -3.83187479, -3.8297139 , -3.82569218, -4.96976467, -3.81844273,\n",
       "        -3.8495101 , -3.82750094, -3.81869189, -3.83224271, -3.76886958,\n",
       "        -4.55586567, -3.79418685, -3.76567648, -4.69671523, -3.8367298 ,\n",
       "        -3.86835199, -3.80978724, -3.81758537, -3.82019758, -3.82343991,\n",
       "        -3.83129995, -3.82921589, -3.82628424, -3.75366678, -3.83620173,\n",
       "        -4.69680584, -4.77220398, -4.55514635, -3.82101828, -3.79051282]),\n",
       " 'split1_train_score': array([ -1.97589147e+00,  -2.32277747e+00,  -1.75826629e+00,\n",
       "         -2.43709856e+00,  -2.86722550e+00,  -2.17400151e+00,\n",
       "         -1.20296524e+00,  -8.30105530e-01,  -0.00000000e+00,\n",
       "         -2.48762313e+00,  -2.61025674e+00,  -8.30915145e-01,\n",
       "         -2.12485696e+00,  -1.75848278e+00,  -1.93827719e+00,\n",
       "         -2.43691386e+00,  -1.42581202e+00,  -1.45367534e+00,\n",
       "         -2.27357721e+00,  -1.74964273e+00,  -1.76432819e+00,\n",
       "         -8.32267884e-01,  -2.82133115e+00,  -1.80410258e+00,\n",
       "         -8.29519352e-01,  -7.26027397e-04,  -0.00000000e+00,\n",
       "         -2.21556089e+00,  -2.58576456e+00,  -2.11178295e+00,\n",
       "         -2.29635643e+00,  -1.03755884e+00,  -8.30405632e-01,\n",
       "         -2.89484411e+00,  -2.82183059e+00,  -1.94596680e+00,\n",
       "         -2.21621726e+00,  -1.44759018e+00,  -1.90528820e+00,\n",
       "         -2.11818247e+00,  -2.54658226e+00,  -2.68682923e+00,\n",
       "         -2.82097497e+00,  -2.89433495e+00,  -1.42798935e+00,\n",
       "         -1.45069239e+00,  -1.80379679e+00,  -2.29814936e+00,\n",
       "         -2.17849758e+00,  -1.04699593e+00,  -1.06900051e-03,\n",
       "         -2.27351069e+00,  -2.58578828e+00,  -2.43718230e+00,\n",
       "         -1.20480017e+00,  -2.17714819e+00,  -2.05254420e+00,\n",
       "         -1.80248425e+00,  -1.44547619e+00,  -2.68548035e+00,\n",
       "         -1.46271233e+00,  -2.86649938e+00,  -2.58579740e+00,\n",
       "         -2.27379552e+00,  -2.57615755e+00,  -2.38984585e+00,\n",
       "         -2.48760986e+00,  -1.80354667e+00,  -1.76686125e+00,\n",
       "         -2.27404052e+00,  -2.17935579e+00,  -2.17852170e+00,\n",
       "         -2.21819479e+00,  -1.08264460e+00,  -1.74790389e+00,\n",
       "         -1.94077825e+00,  -2.57642581e+00,  -1.97858367e+00,\n",
       "         -2.43525500e+00,  -2.50792609e+00,  -2.43720228e+00,\n",
       "         -2.39637591e+00,  -2.49912365e+00,  -2.27322140e+00,\n",
       "         -2.18021546e+00,  -1.76271030e+00,  -1.97158218e+00,\n",
       "         -2.82068961e+00,  -2.89949571e+00,  -2.77025019e+00,\n",
       "         -2.57752116e+00,  -2.17625017e+00,  -1.97685739e+00,\n",
       "         -2.49513789e+00,  -2.18106731e+00,  -2.27304968e+00,\n",
       "         -1.41817694e+00,  -2.43683077e+00,  -2.11385016e+00,\n",
       "         -2.39134201e+00]),\n",
       " 'split2_test_score': array([-3.91034833, -3.9172606 , -3.94225715, -4.76926917, -3.9198617 ,\n",
       "        -3.93858914, -3.96405792, -3.99182536, -5.12158318, -4.67845851,\n",
       "        -3.9066613 , -3.98164115, -3.95067827, -3.9510558 , -3.93470854,\n",
       "        -4.76976336, -4.93220953, -3.91917315, -4.63960637, -3.971339  ,\n",
       "        -3.95451415, -3.98978786, -3.90677748, -3.95072601, -3.98243101,\n",
       "        -4.00381627, -5.1275346 , -3.90682152, -4.68620076, -3.91185244,\n",
       "        -3.93885931, -3.9541206 , -3.9716402 , -3.91696682, -3.91434553,\n",
       "        -3.94637364, -3.91519113, -3.9718213 , -3.9524047 , -3.91506941,\n",
       "        -3.91912313, -3.90832046, -3.91187861, -3.92238447, -4.9367177 ,\n",
       "        -3.9095064 , -3.95137298, -3.93842085, -3.93619982, -3.97408445,\n",
       "        -5.1253118 , -4.63961212, -4.68585913, -4.76921619, -3.95057115,\n",
       "        -3.93851037, -3.95430246, -3.94298849, -3.97074563, -3.90379983,\n",
       "        -3.9341042 , -3.91184814, -4.6863506 , -4.63921396, -3.91419814,\n",
       "        -3.92986154, -4.67819782, -3.94516712, -3.96469374, -4.63956106,\n",
       "        -3.93476527, -3.93334528, -3.90678083, -5.06132655, -3.96172114,\n",
       "        -3.93859976, -3.9054596 , -3.9100423 , -3.91356638, -3.93036012,\n",
       "        -4.76992174, -3.91983692, -3.91527977, -4.63968426, -3.94681701,\n",
       "        -3.96201674, -3.90665804, -3.91210169, -3.90945712, -3.9072111 ,\n",
       "        -3.90941146, -3.94045127, -3.91426726, -3.91001961, -3.93485345,\n",
       "        -4.63921657, -4.96092492, -4.76841747, -3.90173625, -3.92271621]),\n",
       " 'split2_train_score': array([ -1.90654092e+00,  -2.23516835e+00,  -1.68551635e+00,\n",
       "         -2.28249088e+00,  -2.78979213e+00,  -2.11231744e+00,\n",
       "         -1.16902076e+00,  -8.05199970e-01,  -0.00000000e+00,\n",
       "         -2.39670886e+00,  -2.51941661e+00,  -8.10549536e-01,\n",
       "         -2.04675335e+00,  -1.68384580e+00,  -1.88494087e+00,\n",
       "         -2.28238093e+00,  -1.44434915e+00,  -1.39563481e+00,\n",
       "         -2.21644999e+00,  -1.69518209e+00,  -1.70796219e+00,\n",
       "         -8.04880436e-01,  -2.74865826e+00,  -1.74135852e+00,\n",
       "         -8.05462504e-01,  -8.94160584e-04,  -0.00000000e+00,\n",
       "         -2.14800087e+00,  -2.38687120e+00,  -2.04519778e+00,\n",
       "         -2.22417141e+00,  -1.01595214e+00,  -8.03081280e-01,\n",
       "         -2.82112771e+00,  -2.74701503e+00,  -1.88149798e+00,\n",
       "         -2.15181486e+00,  -1.39549384e+00,  -1.84743468e+00,\n",
       "         -2.04659759e+00,  -2.45624215e+00,  -2.61734296e+00,\n",
       "         -2.74868611e+00,  -2.81785848e+00,  -1.44394389e+00,\n",
       "         -1.39734945e+00,  -1.74117573e+00,  -2.22074032e+00,\n",
       "         -2.11044096e+00,  -1.01292797e+00,  -0.00000000e+00,\n",
       "         -2.21655661e+00,  -2.38715861e+00,  -2.28247336e+00,\n",
       "         -1.16845034e+00,  -2.10966531e+00,  -1.98625767e+00,\n",
       "         -1.74544646e+00,  -1.40049922e+00,  -2.60744249e+00,\n",
       "         -1.40414234e+00,  -2.78285090e+00,  -2.38711755e+00,\n",
       "         -2.21642191e+00,  -2.50628751e+00,  -2.31917287e+00,\n",
       "         -2.39680466e+00,  -1.74449626e+00,  -1.71001478e+00,\n",
       "         -2.21658381e+00,  -2.11029892e+00,  -2.11348474e+00,\n",
       "         -2.14692049e+00,  -9.79200122e-01,  -1.69852715e+00,\n",
       "         -1.88847593e+00,  -2.50453877e+00,  -1.91581182e+00,\n",
       "         -2.34955549e+00,  -2.42700719e+00,  -2.28241437e+00,\n",
       "         -2.32723521e+00,  -2.41348657e+00,  -2.21655957e+00,\n",
       "         -2.11260694e+00,  -1.71165913e+00,  -1.91794464e+00,\n",
       "         -2.75020619e+00,  -2.82167318e+00,  -2.69341126e+00,\n",
       "         -2.50834104e+00,  -2.11199145e+00,  -1.91450405e+00,\n",
       "         -2.42177127e+00,  -2.10329243e+00,  -2.21649340e+00,\n",
       "         -1.24344053e+00,  -2.28239507e+00,  -2.04651182e+00,\n",
       "         -2.32285210e+00]),\n",
       " 'std_fit_time': array([ 0.1191404 ,  0.03553531,  0.66467115,  0.29434908,  0.6304194 ,\n",
       "         0.16561392,  0.11305375,  0.20322041,  0.11494279,  0.15892799,\n",
       "         0.25467176,  0.51441246,  0.28701197,  0.3164826 ,  0.82475045,\n",
       "         0.12744754,  1.01407634,  0.39489091,  0.35386506,  0.99451781,\n",
       "         0.29239868,  0.2384896 ,  0.32451323,  0.05611791,  0.49208157,\n",
       "         0.0415793 ,  0.2584092 ,  0.1237232 ,  0.32727269,  0.47552332,\n",
       "         0.12811705,  0.15662838,  0.20937651,  0.20648461,  0.21750385,\n",
       "         0.33686766,  0.20601642,  0.10954048,  0.35156071,  0.29964408,\n",
       "         0.00249213,  0.01265047,  0.08827088,  0.00491915,  0.03482256,\n",
       "         0.19116993,  0.7255816 ,  0.01451373,  0.40389396,  0.23729684,\n",
       "         0.30448474,  0.14165013,  0.51430507,  0.61650843,  0.48881489,\n",
       "         0.01305667,  0.0564363 ,  0.22611039,  0.48608999,  0.04169756,\n",
       "         0.01789682,  0.0426447 ,  0.17440092,  0.2387503 ,  0.24415932,\n",
       "         0.12311296,  0.34378286,  0.61126821,  0.63353738,  0.31519637,\n",
       "         0.72415642,  0.08782303,  0.08779208,  0.39940597,  0.19506074,\n",
       "         0.1171262 ,  0.2943515 ,  0.49779018,  0.02014418,  0.00872542,\n",
       "         0.21915249,  0.54039487,  0.11543057,  0.57848449,  0.03689302,\n",
       "         0.21468978,  0.07985452,  0.15800627,  0.22309908,  0.01914399,\n",
       "         0.04379987,  0.088452  ,  0.35772376,  0.01146223,  0.02632101,\n",
       "         0.08939337,  0.34416652,  0.04410569,  0.23306273,  0.83438161]),\n",
       " 'std_score_time': array([ 0.00530965,  0.00852008,  0.0400972 ,  0.05804189,  0.04946448,\n",
       "         0.00908709,  0.04440455,  0.01673137,  0.02994332,  0.02548017,\n",
       "         0.00408121,  0.03384809,  0.03736412,  0.01777673,  0.06195535,\n",
       "         0.00543307,  0.00684226,  0.16349083,  0.07424702,  0.02437216,\n",
       "         0.04117293,  0.01576078,  0.04025087,  0.04687998,  0.0413519 ,\n",
       "         0.00249239,  0.05465818,  0.03339755,  0.05816382,  0.00945841,\n",
       "         0.01067135,  0.02639633,  0.0074795 ,  0.00616095,  0.00573086,\n",
       "         0.03086318,  0.0098382 ,  0.01837418,  0.03734521,  0.00463998,\n",
       "         0.00047053,  0.00952743,  0.01437546,  0.01450575,  0.0012463 ,\n",
       "         0.05347438,  0.01469612,  0.00205359,  0.04529177,  0.00329796,\n",
       "         0.00880128,  0.00778491,  0.00498648,  0.00697127,  0.00697083,\n",
       "         0.00478113,  0.01156884,  0.04843582,  0.04602324,  0.00909904,\n",
       "         0.00047126,  0.00329767,  0.00694205,  0.02911553,  0.0496976 ,\n",
       "         0.00408063,  0.01185339,  0.04318043,  0.03270614,  0.06605938,\n",
       "         0.03196477,  0.01861311,  0.02407418,  0.0128242 ,  0.00543404,\n",
       "         0.00124611,  0.00919699,  0.01544703,  0.00880122,  0.00124643,\n",
       "         0.04124157,  0.00872583,  0.03725522,  0.00703577,  0.00449422,\n",
       "         0.02520994,  0.00449487,  0.00647733,  0.01442145,  0.00169921,\n",
       "         0.0205201 ,  0.01301494,  0.03794586,  0.00047204,  0.00489697,\n",
       "         0.00081615,  0.00308973,  0.00124694,  0.04581568,  0.01568197]),\n",
       " 'std_test_score': array([ 0.037117  ,  0.04371458,  0.04354807,  0.16179671,  0.03765193,\n",
       "         0.04505728,  0.04293574,  0.04364859,  0.10825072,  0.14363821,\n",
       "         0.06323855,  0.04508441,  0.04195819,  0.04461693,  0.03871738,\n",
       "         0.16228378,  0.10561671,  0.03928134,  0.07477649,  0.06009299,\n",
       "         0.0370946 ,  0.04416651,  0.03576917,  0.06292583,  0.03647495,\n",
       "         0.04464093,  0.10867974,  0.03957249,  0.1299531 ,  0.03566634,\n",
       "         0.04398105,  0.04100309,  0.03573785,  0.03755693,  0.03607059,\n",
       "         0.0359878 ,  0.03611587,  0.05855863,  0.06161337,  0.03402485,\n",
       "         0.06413338,  0.03037164,  0.03674454,  0.0363132 ,  0.10619182,\n",
       "         0.03639281,  0.0610732 ,  0.05003565,  0.0469671 ,  0.04918373,\n",
       "         0.10843799,  0.07471419,  0.12981569,  0.16208715,  0.04092356,\n",
       "         0.04397127,  0.06232632,  0.05857512,  0.06280214,  0.03462691,\n",
       "         0.04420728,  0.03739189,  0.12993962,  0.07467938,  0.03696729,\n",
       "         0.05809673,  0.14366072,  0.06168504,  0.04071573,  0.07473302,\n",
       "         0.04211307,  0.04244384,  0.03397335,  0.11811486,  0.05849159,\n",
       "         0.03787658,  0.03240843,  0.03891122,  0.03328074,  0.06598765,\n",
       "         0.16214099,  0.05197569,  0.06206855,  0.07480966,  0.04534821,\n",
       "         0.03823621,  0.04136207,  0.03858396,  0.03648831,  0.03477869,\n",
       "         0.03234622,  0.04542846,  0.03663433,  0.06558599,  0.04039006,\n",
       "         0.07505011,  0.1376771 ,  0.16132809,  0.03345646,  0.05417109]),\n",
       " 'std_train_score': array([ 0.03089072,  0.03691431,  0.03013192,  0.0631743 ,  0.03203777,\n",
       "         0.02841942,  0.01868929,  0.01343486,  0.        ,  0.03972083,\n",
       "         0.03810377,  0.01033742,  0.03354333,  0.03119965,  0.02805659,\n",
       "         0.06314042,  0.00818592,  0.02485903,  0.04711414,  0.02470003,\n",
       "         0.03129332,  0.01292035,  0.03037897,  0.02742665,  0.01279372,\n",
       "         0.00013982,  0.        ,  0.03116456,  0.08379555,  0.02955432,\n",
       "         0.03282422,  0.01228865,  0.01332469,  0.03134228,  0.03113068,\n",
       "         0.032818  ,  0.02774377,  0.02377094,  0.0261002 ,  0.03109634,\n",
       "         0.03872027,  0.0285684 ,  0.03016381,  0.03399947,  0.00727875,\n",
       "         0.0233301 ,  0.0269334 ,  0.03495989,  0.0303082 ,  0.01638817,\n",
       "         0.00050393,  0.04708741,  0.08367313,  0.06321507,  0.01842076,\n",
       "         0.03175492,  0.03146454,  0.02483221,  0.01932832,  0.03317446,\n",
       "         0.02976297,  0.0349812 ,  0.08369484,  0.04720294,  0.02938958,\n",
       "         0.03420551,  0.03966661,  0.02555085,  0.02894852,  0.04730304,\n",
       "         0.03179005,  0.02930126,  0.0316068 ,  0.04648573,  0.02355591,\n",
       "         0.02711054,  0.03049564,  0.02651562,  0.03581155,  0.03459182,\n",
       "         0.06324812,  0.03125658,  0.03576337,  0.04696986,  0.02922356,\n",
       "         0.03073291,  0.02651215,  0.03021677,  0.03228829,  0.03189134,\n",
       "         0.02972731,  0.02900057,  0.02693751,  0.03058552,  0.0345842 ,\n",
       "         0.04689984,  0.07718071,  0.06309866,  0.02898974,  0.03305424])}"
      ]
     },
     "execution_count": 28,
     "metadata": {},
     "output_type": "execute_result"
    }
   ],
   "source": [
    "rf_random.cv_results_"
   ]
  },
  {
   "cell_type": "markdown",
   "metadata": {},
   "source": [
    "# Evaluation Function\n"
   ]
  },
  {
   "cell_type": "code",
   "execution_count": 29,
   "metadata": {},
   "outputs": [],
   "source": [
    "def evaluate(model, test_features, test_labels):\n",
    "    predictions = model.predict(test_features)\n",
    "    errors = abs(predictions - test_labels)\n",
    "    mape = 100 * np.mean(errors / test_labels)\n",
    "    accuracy = 100 - mape\n",
    "    print('Model Performance')\n",
    "    print('Average Error: {:0.4f} degrees.'.format(np.mean(errors)))\n",
    "    print('Accuracy = {:0.2f}%.'.format(accuracy))\n",
    "    \n",
    "    return accuracy"
   ]
  },
  {
   "cell_type": "markdown",
   "metadata": {},
   "source": [
    "## Evaluate the Default Model"
   ]
  },
  {
   "cell_type": "code",
   "execution_count": 30,
   "metadata": {},
   "outputs": [
    {
     "name": "stdout",
     "output_type": "stream",
     "text": [
      "Model Performance\n",
      "Average Error: 3.9199 degrees.\n",
      "Accuracy = 93.36%.\n"
     ]
    }
   ],
   "source": [
    "base_model = RandomForestRegressor(n_estimators = 10, random_state = 42)\n",
    "base_model.fit(train_features, train_labels)\n",
    "base_accuracy = evaluate(base_model, test_features, test_labels)"
   ]
  },
  {
   "cell_type": "markdown",
   "metadata": {},
   "source": [
    "## Evaluate the Best Random Search Model"
   ]
  },
  {
   "cell_type": "code",
   "execution_count": 31,
   "metadata": {},
   "outputs": [
    {
     "name": "stdout",
     "output_type": "stream",
     "text": [
      "Model Performance\n",
      "Average Error: 3.7280 degrees.\n",
      "Accuracy = 93.71%.\n"
     ]
    }
   ],
   "source": [
    "best_random = rf_random.best_estimator_\n",
    "random_accuracy = evaluate(best_random, test_features, test_labels)"
   ]
  },
  {
   "cell_type": "code",
   "execution_count": 32,
   "metadata": {
    "scrolled": true
   },
   "outputs": [
    {
     "name": "stdout",
     "output_type": "stream",
     "text": [
      "Improvement of 0.38%.\n"
     ]
    }
   ],
   "source": [
    "print('Improvement of {:0.2f}%.'.format( 100 * (random_accuracy - base_accuracy) / base_accuracy))"
   ]
  },
  {
   "cell_type": "markdown",
   "metadata": {},
   "source": [
    "# Grid Search\n",
    "\n",
    "We can now perform grid search building on the result from the random search. We will test a range of hyperparameters around the best values returned by random search."
   ]
  },
  {
   "cell_type": "code",
   "execution_count": 34,
   "metadata": {},
   "outputs": [],
   "source": [
    "# Create the parameter grid based on the results of random search \n",
    "param_grid = {\n",
    "    'bootstrap': [True],\n",
    "    'max_depth': [80, 90, 100, 110],\n",
    "    'max_features': [2, 3],\n",
    "    'min_samples_leaf': [3, 4, 5],\n",
    "    'min_samples_split': [8, 10, 12],\n",
    "    'n_estimators': [100, 200, 300, 1000]\n",
    "}\n",
    "\n",
    "# Create a base model\n",
    "rf = RandomForestRegressor(random_state = 42)\n",
    "\n",
    " #Instantiate the grid search model\n",
    "grid_search = GridSearchCV(estimator = rf, param_grid = param_grid, \n",
    "                          cv = 3, n_jobs = -1, verbose = 2, return_train_score=True)"
   ]
  },
  {
   "cell_type": "code",
   "execution_count": 35,
   "metadata": {},
   "outputs": [
    {
     "name": "stdout",
     "output_type": "stream",
     "text": [
      "Fitting 3 folds for each of 288 candidates, totalling 864 fits\n"
     ]
    },
    {
     "name": "stderr",
     "output_type": "stream",
     "text": [
      "[Parallel(n_jobs=-1)]: Done  33 tasks      | elapsed:   15.0s\n",
      "[Parallel(n_jobs=-1)]: Done 154 tasks      | elapsed:  1.2min\n",
      "[Parallel(n_jobs=-1)]: Done 357 tasks      | elapsed:  2.8min\n",
      "[Parallel(n_jobs=-1)]: Done 640 tasks      | elapsed:  5.0min\n",
      "[Parallel(n_jobs=-1)]: Done 864 out of 864 | elapsed:  6.8min finished\n"
     ]
    }
   ],
   "source": [
    "# Fit the grid search to the data\n",
    "grid_search.fit(train_features, train_labels);"
   ]
  },
  {
   "cell_type": "code",
   "execution_count": 36,
   "metadata": {},
   "outputs": [
    {
     "data": {
      "text/plain": [
       "{'bootstrap': True,\n",
       " 'max_depth': 80,\n",
       " 'max_features': 3,\n",
       " 'min_samples_leaf': 5,\n",
       " 'min_samples_split': 12,\n",
       " 'n_estimators': 100}"
      ]
     },
     "execution_count": 36,
     "metadata": {},
     "output_type": "execute_result"
    }
   ],
   "source": [
    "grid_search.best_params_"
   ]
  },
  {
   "cell_type": "markdown",
   "metadata": {},
   "source": [
    "## Evaluate the Best Model from Grid Search"
   ]
  },
  {
   "cell_type": "code",
   "execution_count": 37,
   "metadata": {},
   "outputs": [
    {
     "name": "stdout",
     "output_type": "stream",
     "text": [
      "Model Performance\n",
      "Average Error: 3.6561 degrees.\n",
      "Accuracy = 93.83%.\n"
     ]
    }
   ],
   "source": [
    "best_grid = grid_search.best_estimator_\n",
    "grid_accuracy = evaluate(best_grid, test_features, test_labels)"
   ]
  },
  {
   "cell_type": "code",
   "execution_count": 38,
   "metadata": {},
   "outputs": [
    {
     "name": "stdout",
     "output_type": "stream",
     "text": [
      "Improvement of 0.50%.\n"
     ]
    }
   ],
   "source": [
    "print('Improvement of {:0.2f}%.'.format( 100 * (grid_accuracy - base_accuracy) / base_accuracy))"
   ]
  },
  {
   "cell_type": "markdown",
   "metadata": {},
   "source": [
    "# Another Round of Grid Search\n",
    "\n"
   ]
  },
  {
   "cell_type": "code",
   "execution_count": 39,
   "metadata": {},
   "outputs": [
    {
     "name": "stdout",
     "output_type": "stream",
     "text": [
      "Fitting 3 folds for each of 54 candidates, totalling 162 fits\n"
     ]
    },
    {
     "name": "stderr",
     "output_type": "stream",
     "text": [
      "[Parallel(n_jobs=-1)]: Done  33 tasks      | elapsed:    5.5s\n",
      "[Parallel(n_jobs=-1)]: Done 154 tasks      | elapsed:   21.0s\n",
      "[Parallel(n_jobs=-1)]: Done 162 out of 162 | elapsed:   22.0s finished\n"
     ]
    }
   ],
   "source": [
    "param_grid = {\n",
    "    'bootstrap': [True],\n",
    "    'max_depth': [110, 120, None],\n",
    "    'max_features': [3, 4],\n",
    "    'min_samples_leaf': [5, 6, 7],\n",
    "    'min_samples_split': [10],\n",
    "    'n_estimators': [75, 100, 125]\n",
    "}\n",
    "\n",
    "# Create a base model\n",
    "rf = RandomForestRegressor(random_state = 42)\n",
    "# Instantiate the grid search model\n",
    "grid_search_final = GridSearchCV(estimator = rf, param_grid = param_grid, \n",
    "                                 cv = 3, n_jobs = -1, verbose = 2, return_train_score=True)\n",
    "\n",
    "grid_search_final.fit(train_features, train_labels);"
   ]
  },
  {
   "cell_type": "code",
   "execution_count": 40,
   "metadata": {},
   "outputs": [
    {
     "data": {
      "text/plain": [
       "{'bootstrap': True,\n",
       " 'max_depth': 110,\n",
       " 'max_features': 3,\n",
       " 'min_samples_leaf': 6,\n",
       " 'min_samples_split': 10,\n",
       " 'n_estimators': 100}"
      ]
     },
     "execution_count": 40,
     "metadata": {},
     "output_type": "execute_result"
    }
   ],
   "source": [
    "grid_search_final.best_params_"
   ]
  },
  {
   "cell_type": "code",
   "execution_count": 41,
   "metadata": {},
   "outputs": [
    {
     "name": "stdout",
     "output_type": "stream",
     "text": [
      "Model Performance\n",
      "Average Error: 3.6602 degrees.\n",
      "Accuracy = 93.82%.\n"
     ]
    }
   ],
   "source": [
    "best_grid_final = grid_search_final.best_estimator_\n",
    "grid_final_accuracy = evaluate(best_grid_final, test_features, test_labels)"
   ]
  },
  {
   "cell_type": "code",
   "execution_count": 42,
   "metadata": {},
   "outputs": [
    {
     "name": "stdout",
     "output_type": "stream",
     "text": [
      "Improvement of 0.49%.\n"
     ]
    }
   ],
   "source": [
    "print('Improvement of {:0.2f}%.'.format( 100 * (grid_final_accuracy - base_accuracy) / base_accuracy))"
   ]
  },
  {
   "cell_type": "markdown",
   "metadata": {},
   "source": [
    "\n",
    "\n",
    "A very slight improvement in accuracy means we have reached the point of diminishing returns from tuning. We will stop here and use this as our final model.\n",
    "\n",
    "# Final Model\n",
    "The final model from hyperparameter tuning is as follows."
   ]
  },
  {
   "cell_type": "code",
   "execution_count": 43,
   "metadata": {},
   "outputs": [
    {
     "name": "stdout",
     "output_type": "stream",
     "text": [
      "Final Model Parameters:\n",
      "\n",
      "{'bootstrap': True,\n",
      " 'criterion': 'mse',\n",
      " 'max_depth': 80,\n",
      " 'max_features': 3,\n",
      " 'max_leaf_nodes': None,\n",
      " 'min_impurity_decrease': 0.0,\n",
      " 'min_impurity_split': None,\n",
      " 'min_samples_leaf': 5,\n",
      " 'min_samples_split': 12,\n",
      " 'min_weight_fraction_leaf': 0.0,\n",
      " 'n_estimators': 100,\n",
      " 'n_jobs': 1,\n",
      " 'oob_score': False,\n",
      " 'random_state': 42,\n",
      " 'verbose': 0,\n",
      " 'warm_start': False}\n",
      "\n",
      "\n",
      "Model Performance\n",
      "Average Error: 3.6561 degrees.\n",
      "Accuracy = 93.83%.\n"
     ]
    }
   ],
   "source": [
    "final_model = grid_search.best_estimator_\n",
    "\n",
    "print('Final Model Parameters:\\n')\n",
    "pprint(final_model.get_params())\n",
    "print('\\n')\n",
    "grid_final_accuracy = evaluate(final_model, test_features, test_labels)"
   ]
  },
  {
   "cell_type": "markdown",
   "metadata": {},
   "source": [
    "# Comparison of All Improvement Techniques\n",
    "Finally, we can make comparisons between the improvement techniques to determine which ones were most effective."
   ]
  },
  {
   "cell_type": "code",
   "execution_count": 44,
   "metadata": {},
   "outputs": [],
   "source": [
    "import time"
   ]
  },
  {
   "cell_type": "code",
   "execution_count": 45,
   "metadata": {},
   "outputs": [],
   "source": [
    "# Evaluate run time and prediction accuracy\n",
    "def evaluate_model(model, x_train, y_train, x_test, y_test):\n",
    "    n_trees = model.get_params()['n_estimators']\n",
    "    n_features = x_train.shape[1]\n",
    "    \n",
    "    # Train and predict 10 times to evaluate time and accuracy\n",
    "    predictions = []\n",
    "    run_times = []\n",
    "    for _ in range(10):\n",
    "        start_time = time.time()\n",
    "        model.fit(x_train, y_train)\n",
    "        predictions.append(model.predict(x_test))\n",
    "    \n",
    "        end_time = time.time()\n",
    "        run_times.append(end_time - start_time)\n",
    "    \n",
    "    # Run time and predictions need to be averaged\n",
    "    run_time = np.mean(run_times)\n",
    "    predictions = np.mean(np.array(predictions), axis = 0)\n",
    "    \n",
    "    # Calculate performance metrics\n",
    "    errors = abs(predictions - y_test)\n",
    "    mean_error = np.mean(errors)\n",
    "    mape = 100 * np.mean(errors / y_test)\n",
    "    accuracy = 100 - mape\n",
    "    \n",
    "    # Return results in a dictionary\n",
    "    results = {'time': run_time, 'error': mean_error, 'accuracy': accuracy, 'n_trees': n_trees, 'n_features': n_features}\n",
    "    \n",
    "    return results"
   ]
  },
  {
   "cell_type": "markdown",
   "metadata": {},
   "source": [
    "# Baseline (Historical Average)"
   ]
  },
  {
   "cell_type": "code",
   "execution_count": 47,
   "metadata": {},
   "outputs": [],
   "source": [
    "full_features = pd.read_csv(\"https://raw.githubusercontent.com/WillKoehrsen/Machine-Learning-Projects/master/random_forest_explained/data/temps_extended.csv\", sep=',')\n",
    "full_features = full_features.rename(columns = {'weekday': 'week'})\n",
    "full_features = pd.get_dummies(full_features)\n",
    "\n",
    "full_labels = full_features['actual']\n",
    "full_features = full_features.drop('actual', axis = 1)\n",
    "\n",
    "full_feature_list = list(full_features.columns)\n",
    "important_feature_names = ['temp_1', 'average', 'ws_1', 'temp_2', 'friend', 'year']\n",
    "\n",
    "full_features_train, full_features_test, full_labels_train, full_labels_test = train_test_split(full_features, full_labels, \n",
    "                                                                                                test_size = 0.25, random_state = 42)\n",
    "\n",
    "baseline_preds = full_features_test['average']\n",
    "baseline_errors = abs(baseline_preds - full_labels_test)\n",
    "baseline_mean_error = np.mean(baseline_errors)\n",
    "baseline_accuracy = 100 - (100 * np.mean(baseline_errors / full_labels_test))"
   ]
  },
  {
   "cell_type": "code",
   "execution_count": 48,
   "metadata": {},
   "outputs": [],
   "source": [
    "baseline_results = {'model': 'average', 'time': np.nan, 'n_trees': np.nan, 'error': baseline_mean_error, 'accuracy': baseline_accuracy, 'n_features': 1}"
   ]
  },
  {
   "cell_type": "markdown",
   "metadata": {},
   "source": [
    "# Model with One Year of Data"
   ]
  },
  {
   "cell_type": "code",
   "execution_count": 51,
   "metadata": {},
   "outputs": [],
   "source": [
    "original_features = pd.read_csv(\"https://raw.githubusercontent.com/WillKoehrsen/Machine-Learning-Projects/master/random_forest_explained/data/temps.csv\", sep=',')\n",
    "original_features = pd.get_dummies(original_features)\n",
    "\n",
    "original_labels = np.array(original_features['actual'])\n",
    "original_features= original_features.drop('actual', axis = 1)\n",
    "\n",
    "original_feature_list = list(original_features.columns)\n",
    "original_features = np.array(original_features)\n",
    "\n",
    "original_train_features, original_test_features, original_train_labels, original_test_labels = train_test_split(original_features, original_labels, test_size = 0.25, random_state = 42)\n",
    "\n",
    "# Need to keep only those features the one year model was trained on\n",
    "one_test_features = full_features_test[original_feature_list]\n",
    "one_test_features = np.array(one_test_features)\n",
    "\n",
    "full_labels_test = np.array(full_labels_test)\n",
    "\n",
    "# Default model\n",
    "rf = RandomForestRegressor(n_estimators= 10, random_state=42)\n",
    "\n",
    "# Results for model trained on one year of data\n",
    "one_year_results = evaluate_model(rf, original_train_features, original_train_labels, one_test_features, full_labels_test)\n",
    "one_year_results['model'] = 'one_year'"
   ]
  },
  {
   "cell_type": "code",
   "execution_count": 52,
   "metadata": {},
   "outputs": [
    {
     "data": {
      "text/plain": [
       "{'accuracy': 92.46787090636289,\n",
       " 'error': 4.3385036496350367,\n",
       " 'model': 'one_year',\n",
       " 'n_features': 14,\n",
       " 'n_trees': 10,\n",
       " 'time': 0.079355716705322266}"
      ]
     },
     "execution_count": 52,
     "metadata": {},
     "output_type": "execute_result"
    }
   ],
   "source": [
    "one_year_results"
   ]
  },
  {
   "cell_type": "markdown",
   "metadata": {},
   "source": [
    "# Model with 4.5 Years of Training Data and All Features"
   ]
  },
  {
   "cell_type": "code",
   "execution_count": 53,
   "metadata": {},
   "outputs": [],
   "source": [
    "full_features_train = np.array(full_features_train)\n",
    "full_features_test = np.array(full_features_test)\n",
    "full_labels_train = np.array(full_labels_train)\n",
    "full_labels_test = np.array(full_labels_test)"
   ]
  },
  {
   "cell_type": "code",
   "execution_count": 54,
   "metadata": {},
   "outputs": [],
   "source": [
    "four_year_results = evaluate_model(rf, full_features_train, full_labels_train, full_features_test, full_labels_test)\n",
    "four_year_results['model'] = 'four_years_all'"
   ]
  },
  {
   "cell_type": "code",
   "execution_count": 55,
   "metadata": {},
   "outputs": [
    {
     "data": {
      "text/plain": [
       "{'accuracy': 93.508882061150615,\n",
       " 'error': 3.8368613138686136,\n",
       " 'model': 'four_years_all',\n",
       " 'n_features': 17,\n",
       " 'n_trees': 10,\n",
       " 'time': 0.11867353916168213}"
      ]
     },
     "execution_count": 55,
     "metadata": {},
     "output_type": "execute_result"
    }
   ],
   "source": [
    "\n",
    "\n",
    "four_year_results\n",
    "\n"
   ]
  },
  {
   "cell_type": "markdown",
   "metadata": {},
   "source": [
    "# Model with 4.5 Years of Training Data and Most Important Features"
   ]
  },
  {
   "cell_type": "code",
   "execution_count": 56,
   "metadata": {},
   "outputs": [],
   "source": [
    "important_feature_indices = [full_feature_list.index(feature) for feature in important_feature_names]"
   ]
  },
  {
   "cell_type": "code",
   "execution_count": 57,
   "metadata": {},
   "outputs": [],
   "source": [
    "train_features = full_features_train[:, important_feature_indices]\n",
    "test_features = full_features_test[:, important_feature_indices]\n",
    "\n",
    "train_labels = full_labels_train[:]\n",
    "test_labels = full_labels_test[:]"
   ]
  },
  {
   "cell_type": "code",
   "execution_count": 58,
   "metadata": {},
   "outputs": [],
   "source": [
    "four_years_important_results = evaluate_model(rf, train_features, train_labels, test_features, test_labels)\n",
    "four_years_important_results['model'] = 'four_years_red'"
   ]
  },
  {
   "cell_type": "code",
   "execution_count": 59,
   "metadata": {},
   "outputs": [
    {
     "data": {
      "text/plain": [
       "{'accuracy': 93.359031272002653,\n",
       " 'error': 3.9198905109489051,\n",
       " 'model': 'four_years_red',\n",
       " 'n_features': 6,\n",
       " 'n_trees': 10,\n",
       " 'time': 0.081251859664916992}"
      ]
     },
     "execution_count": 59,
     "metadata": {},
     "output_type": "execute_result"
    }
   ],
   "source": [
    "four_years_important_results"
   ]
  },
  {
   "cell_type": "markdown",
   "metadata": {},
   "source": [
    "# Random Search Best Model"
   ]
  },
  {
   "cell_type": "code",
   "execution_count": 60,
   "metadata": {},
   "outputs": [],
   "source": [
    "random_results = evaluate_model(best_random, train_features, train_labels, test_features, test_labels)"
   ]
  },
  {
   "cell_type": "code",
   "execution_count": 61,
   "metadata": {},
   "outputs": [],
   "source": [
    "random_results['model'] = 'best_random'"
   ]
  },
  {
   "cell_type": "code",
   "execution_count": 62,
   "metadata": {},
   "outputs": [
    {
     "data": {
      "text/plain": [
       "{'accuracy': 93.719786990123055,\n",
       " 'error': 3.7241645631574194,\n",
       " 'model': 'best_random',\n",
       " 'n_features': 6,\n",
       " 'n_trees': 400,\n",
       " 'time': 1.8980426788330078}"
      ]
     },
     "execution_count": 62,
     "metadata": {},
     "output_type": "execute_result"
    }
   ],
   "source": [
    "random_results"
   ]
  },
  {
   "cell_type": "markdown",
   "metadata": {},
   "source": [
    "# First Grid Search Best Model"
   ]
  },
  {
   "cell_type": "code",
   "execution_count": 63,
   "metadata": {},
   "outputs": [],
   "source": [
    "first_grid_results = evaluate_model(best_grid, train_features, train_labels, test_features, test_labels)\n",
    "first_grid_results['model'] = 'first_grid'"
   ]
  },
  {
   "cell_type": "code",
   "execution_count": 64,
   "metadata": {},
   "outputs": [
    {
     "data": {
      "text/plain": [
       "{'accuracy': 93.829750019973275,\n",
       " 'error': 3.6561191924832999,\n",
       " 'model': 'first_grid',\n",
       " 'n_features': 6,\n",
       " 'n_trees': 100,\n",
       " 'time': 0.31044423580169678}"
      ]
     },
     "execution_count": 64,
     "metadata": {},
     "output_type": "execute_result"
    }
   ],
   "source": [
    "first_grid_results"
   ]
  },
  {
   "cell_type": "markdown",
   "metadata": {},
   "source": [
    "# Second Grid Search Best Model"
   ]
  },
  {
   "cell_type": "code",
   "execution_count": 65,
   "metadata": {},
   "outputs": [],
   "source": [
    "final_model_results = evaluate_model(best_grid_final, train_features, train_labels, test_features, test_labels)\n",
    "final_model_results['model'] = 'second_grid'"
   ]
  },
  {
   "cell_type": "code",
   "execution_count": 66,
   "metadata": {},
   "outputs": [
    {
     "data": {
      "text/plain": [
       "{'accuracy': 93.815667489656249,\n",
       " 'error': 3.660153687961988,\n",
       " 'model': 'second_grid',\n",
       " 'n_features': 6,\n",
       " 'n_trees': 100,\n",
       " 'time': 0.29824271202087405}"
      ]
     },
     "execution_count": 66,
     "metadata": {},
     "output_type": "execute_result"
    }
   ],
   "source": [
    "final_model_results"
   ]
  },
  {
   "cell_type": "markdown",
   "metadata": {},
   "source": [
    "# Comparison"
   ]
  },
  {
   "cell_type": "code",
   "execution_count": 67,
   "metadata": {},
   "outputs": [],
   "source": [
    "comparison = {'model': [baseline_results['model'], one_year_results['model']],\n",
    "              'accuracy': [round(baseline_results['accuracy'], 3), round(one_year_results['accuracy'], 3)],\n",
    "              'error': [round(baseline_results['error'], 3), round(one_year_results['error'], 3)],\n",
    "              'n_features': [baseline_results['n_features'], one_year_results['n_features']],\n",
    "              'n_trees': [baseline_results['n_trees'], int(one_year_results['n_trees'])],\n",
    "              'time': [round(baseline_results['time'], 4), round(one_year_results['time'], 4)]}\n",
    "                        \n",
    "for model in [four_year_results, four_years_important_results, random_results, first_grid_results, final_model_results]:\n",
    "    comparison['accuracy'].append(round(model['accuracy'], 3))\n",
    "    comparison['error'].append(round(model['error'], 3))\n",
    "    comparison['model'].append(model['model'])\n",
    "    comparison['n_features'].append(model['n_features'])\n",
    "    comparison['n_trees'].append(int(model['n_trees']))\n",
    "    comparison['time'].append(round(model['time'], 4))"
   ]
  },
  {
   "cell_type": "code",
   "execution_count": 68,
   "metadata": {},
   "outputs": [],
   "source": [
    "comparison = pd.DataFrame.from_dict(comparison, orient = 'columns')"
   ]
  },
  {
   "cell_type": "code",
   "execution_count": 69,
   "metadata": {},
   "outputs": [
    {
     "data": {
      "text/html": [
       "<div>\n",
       "<style>\n",
       "    .dataframe thead tr:only-child th {\n",
       "        text-align: right;\n",
       "    }\n",
       "\n",
       "    .dataframe thead th {\n",
       "        text-align: left;\n",
       "    }\n",
       "\n",
       "    .dataframe tbody tr th {\n",
       "        vertical-align: top;\n",
       "    }\n",
       "</style>\n",
       "<table border=\"1\" class=\"dataframe\">\n",
       "  <thead>\n",
       "    <tr style=\"text-align: right;\">\n",
       "      <th></th>\n",
       "      <th>model</th>\n",
       "      <th>accuracy</th>\n",
       "      <th>error</th>\n",
       "      <th>n_features</th>\n",
       "      <th>n_trees</th>\n",
       "      <th>time</th>\n",
       "    </tr>\n",
       "  </thead>\n",
       "  <tbody>\n",
       "    <tr>\n",
       "      <th>0</th>\n",
       "      <td>average</td>\n",
       "      <td>91.961</td>\n",
       "      <td>4.763</td>\n",
       "      <td>1</td>\n",
       "      <td>NaN</td>\n",
       "      <td>NaN</td>\n",
       "    </tr>\n",
       "    <tr>\n",
       "      <th>1</th>\n",
       "      <td>one_year</td>\n",
       "      <td>92.468</td>\n",
       "      <td>4.339</td>\n",
       "      <td>14</td>\n",
       "      <td>10.0</td>\n",
       "      <td>0.0794</td>\n",
       "    </tr>\n",
       "    <tr>\n",
       "      <th>2</th>\n",
       "      <td>four_years_all</td>\n",
       "      <td>93.509</td>\n",
       "      <td>3.837</td>\n",
       "      <td>17</td>\n",
       "      <td>10.0</td>\n",
       "      <td>0.1187</td>\n",
       "    </tr>\n",
       "    <tr>\n",
       "      <th>3</th>\n",
       "      <td>four_years_red</td>\n",
       "      <td>93.359</td>\n",
       "      <td>3.920</td>\n",
       "      <td>6</td>\n",
       "      <td>10.0</td>\n",
       "      <td>0.0813</td>\n",
       "    </tr>\n",
       "    <tr>\n",
       "      <th>4</th>\n",
       "      <td>best_random</td>\n",
       "      <td>93.720</td>\n",
       "      <td>3.724</td>\n",
       "      <td>6</td>\n",
       "      <td>400.0</td>\n",
       "      <td>1.8980</td>\n",
       "    </tr>\n",
       "    <tr>\n",
       "      <th>5</th>\n",
       "      <td>first_grid</td>\n",
       "      <td>93.830</td>\n",
       "      <td>3.656</td>\n",
       "      <td>6</td>\n",
       "      <td>100.0</td>\n",
       "      <td>0.3104</td>\n",
       "    </tr>\n",
       "    <tr>\n",
       "      <th>6</th>\n",
       "      <td>second_grid</td>\n",
       "      <td>93.816</td>\n",
       "      <td>3.660</td>\n",
       "      <td>6</td>\n",
       "      <td>100.0</td>\n",
       "      <td>0.2982</td>\n",
       "    </tr>\n",
       "  </tbody>\n",
       "</table>\n",
       "</div>"
      ],
      "text/plain": [
       "            model  accuracy  error  n_features  n_trees    time\n",
       "0         average    91.961  4.763           1      NaN     NaN\n",
       "1        one_year    92.468  4.339          14     10.0  0.0794\n",
       "2  four_years_all    93.509  3.837          17     10.0  0.1187\n",
       "3  four_years_red    93.359  3.920           6     10.0  0.0813\n",
       "4     best_random    93.720  3.724           6    400.0  1.8980\n",
       "5      first_grid    93.830  3.656           6    100.0  0.3104\n",
       "6     second_grid    93.816  3.660           6    100.0  0.2982"
      ]
     },
     "execution_count": 69,
     "metadata": {},
     "output_type": "execute_result"
    }
   ],
   "source": [
    "comparison[['model', 'accuracy', 'error', 'n_features', 'n_trees', 'time']]"
   ]
  },
  {
   "cell_type": "code",
   "execution_count": 70,
   "metadata": {},
   "outputs": [
    {
     "name": "stdout",
     "output_type": "stream",
     "text": [
      "Adding Data and Feature Selection error reduction: 17.69%\n",
      "Hyperparameter Tuning Error Reduction: 6.73%\n"
     ]
    }
   ],
   "source": [
    "print('Adding Data and Feature Selection error reduction: {:0.2f}%'.format(100 * (baseline_results['error'] - four_years_important_results['error']) / baseline_results['error'])) \n",
    "print('Hyperparameter Tuning Error Reduction: {:0.2f}%'.format(100 * (four_years_important_results['error'] - first_grid_results['error']) / four_years_important_results['error']))"
   ]
  },
  {
   "cell_type": "code",
   "execution_count": 71,
   "metadata": {},
   "outputs": [],
   "source": [
    "import matplotlib.pyplot as plt\n",
    "import seaborn as sns\n",
    "%matplotlib inline\n",
    "\n",
    "plt.style.use('fivethirtyeight')"
   ]
  },
  {
   "cell_type": "code",
   "execution_count": 72,
   "metadata": {},
   "outputs": [
    {
     "data": {
      "image/png": "[encoded data removed]",
      "text/plain": [
       "<matplotlib.figure.Figure at 0x2681fcddef0>"
      ]
     },
     "metadata": {},
     "output_type": "display_data"
    }
   ],
   "source": [
    "xvalues = list(range(len(comparison)))\n",
    "plt.subplots(1, 2, figsize=(10, 6))\n",
    "plt.subplot(121)\n",
    "plt.bar(xvalues, comparison['accuracy'], color = 'g', edgecolor = 'k', linewidth = 1.8)\n",
    "plt.xticks(xvalues, comparison['model'], rotation = 45, fontsize = 12)\n",
    "plt.ylim(ymin = 91, ymax = 94)\n",
    "plt.xlabel('model'); plt.ylabel('Accuracy (%)'); plt.title('Accuracy Comparison');\n",
    "\n",
    "plt.subplot(122)\n",
    "plt.bar(xvalues, comparison['error'], color = 'r', edgecolor = 'k', linewidth = 1.8)\n",
    "plt.xticks(xvalues, comparison['model'], rotation = 45)\n",
    "plt.ylim(ymin = 3.5, ymax = 4.8)\n",
    "plt.xlabel('model'); plt.ylabel('Error (deg)'); plt.title('Error Comparison');\n",
    "plt.show();"
   ]
  },
  {
   "cell_type": "markdown",
   "metadata": {},
   "source": [
    "# Training Curves\n",
    "We can perform grid search over only one parameter to observe the effects of changing that parameter on performance. We will look at training time, training set accuracy, and testing set accuracy.\n",
    "\n",
    "### Number of Trees"
   ]
  },
  {
   "cell_type": "code",
   "execution_count": 73,
   "metadata": {},
   "outputs": [
    {
     "name": "stdout",
     "output_type": "stream",
     "text": [
      "Fitting 3 folds for each of 30 candidates, totalling 90 fits\n"
     ]
    },
    {
     "name": "stderr",
     "output_type": "stream",
     "text": [
      "[Parallel(n_jobs=-1)]: Done  33 tasks      | elapsed:   14.2s\n",
      "[Parallel(n_jobs=-1)]: Done  90 out of  90 | elapsed:   32.3s finished\n"
     ]
    }
   ],
   "source": [
    "# Grid with only the number of trees changed\n",
    "tree_grid = {'n_estimators': [int(x) for x in np.linspace(1, 301, 30)]}\n",
    "\n",
    "# Create the grid search model and fit to the training data\n",
    "tree_grid_search = GridSearchCV(final_model, param_grid=tree_grid, verbose = 2, n_jobs=-1, cv = 3,\n",
    "                                scoring = 'neg_mean_absolute_error')\n",
    "tree_grid_search.fit(train_features, train_labels);"
   ]
  },
  {
   "cell_type": "code",
   "execution_count": 74,
   "metadata": {},
   "outputs": [
    {
     "name": "stderr",
     "output_type": "stream",
     "text": [
      "C:\\Users\\Sharique Ahmed\\Anaconda3\\lib\\site-packages\\sklearn\\utils\\deprecation.py:122: FutureWarning: You are accessing a training score ('mean_train_score'), which will not be available by default any more in 0.21. If you need training scores, please set return_train_score=True\n",
      "  warnings.warn(*warn_args, **warn_kwargs)\n",
      "C:\\Users\\Sharique Ahmed\\Anaconda3\\lib\\site-packages\\sklearn\\utils\\deprecation.py:122: FutureWarning: You are accessing a training score ('split0_train_score'), which will not be available by default any more in 0.21. If you need training scores, please set return_train_score=True\n",
      "  warnings.warn(*warn_args, **warn_kwargs)\n",
      "C:\\Users\\Sharique Ahmed\\Anaconda3\\lib\\site-packages\\sklearn\\utils\\deprecation.py:122: FutureWarning: You are accessing a training score ('split1_train_score'), which will not be available by default any more in 0.21. If you need training scores, please set return_train_score=True\n",
      "  warnings.warn(*warn_args, **warn_kwargs)\n",
      "C:\\Users\\Sharique Ahmed\\Anaconda3\\lib\\site-packages\\sklearn\\utils\\deprecation.py:122: FutureWarning: You are accessing a training score ('split2_train_score'), which will not be available by default any more in 0.21. If you need training scores, please set return_train_score=True\n",
      "  warnings.warn(*warn_args, **warn_kwargs)\n",
      "C:\\Users\\Sharique Ahmed\\Anaconda3\\lib\\site-packages\\sklearn\\utils\\deprecation.py:122: FutureWarning: You are accessing a training score ('std_train_score'), which will not be available by default any more in 0.21. If you need training scores, please set return_train_score=True\n",
      "  warnings.warn(*warn_args, **warn_kwargs)\n"
     ]
    },
    {
     "data": {
      "text/plain": [
       "{'mean_fit_time': array([ 0.00599559,  0.04730535,  0.10760387,  0.14824796,  0.17856359,\n",
       "         0.21987391,  0.39477396,  0.43042008,  0.43475064,  0.49038577,\n",
       "         0.62631504,  0.68861214,  0.70193052,  0.73657648,  0.87083387,\n",
       "         0.88216058,  0.79754257,  0.78754862,  0.8245275 ,  0.91165423,\n",
       "         1.14551306,  1.38687094,  1.36055223,  1.32623911,  1.41768956,\n",
       "         1.50831262,  1.51213352,  1.53245568,  1.6324412 ,  1.47726409]),\n",
       " 'mean_score_time': array([ 0.0019985 ,  0.00266544,  0.00666388,  0.00599655,  0.01166073,\n",
       "         0.01132719,  0.01898901,  0.02032145,  0.01965547,  0.02331956,\n",
       "         0.03598062,  0.03731243,  0.02865012,  0.03131596,  0.0336473 ,\n",
       "         0.03198139,  0.03164808,  0.03298132,  0.03631298,  0.04730654,\n",
       "         0.06429704,  0.10160836,  0.05497018,  0.06129917,  0.06096697,\n",
       "         0.0546356 ,  0.06529633,  0.07962092,  0.09094763,  0.04330738]),\n",
       " 'mean_test_score': array([-4.67129387, -3.86287399, -3.83621744, -3.83784038, -3.81592845,\n",
       "        -3.81158733, -3.81039706, -3.81395329, -3.81316966, -3.81573268,\n",
       "        -3.81537472, -3.81366292, -3.8152856 , -3.81320834, -3.81427735,\n",
       "        -3.81740867, -3.8194608 , -3.81987898, -3.8211804 , -3.82142599,\n",
       "        -3.82039862, -3.8214901 , -3.82186413, -3.82111266, -3.8210121 ,\n",
       "        -3.82360839, -3.82349691, -3.82325111, -3.82191414, -3.82269245]),\n",
       " 'mean_train_score': array([-3.63678701, -2.97247136, -2.93358289, -2.92386852, -2.91474273,\n",
       "        -2.90825108, -2.91044802, -2.91043265, -2.90786401, -2.90570006,\n",
       "        -2.90428697, -2.9070783 , -2.90598002, -2.90470574, -2.90332581,\n",
       "        -2.9013098 , -2.90049823, -2.89965622, -2.8993354 , -2.89904468,\n",
       "        -2.89981885, -2.90012415, -2.89997328, -2.89901402, -2.89824528,\n",
       "        -2.89918139, -2.89984598, -2.89997575, -2.89929236, -2.89967053]),\n",
       " 'param_n_estimators': masked_array(data = [1 11 21 32 42 52 63 73 83 94 104 114 125 135 145 156 166 176 187 197 207\n",
       "  218 228 238 249 259 269 280 290 301],\n",
       "              mask = [False False False False False False False False False False False False\n",
       "  False False False False False False False False False False False False\n",
       "  False False False False False False],\n",
       "        fill_value = ?),\n",
       " 'params': [{'n_estimators': 1},\n",
       "  {'n_estimators': 11},\n",
       "  {'n_estimators': 21},\n",
       "  {'n_estimators': 32},\n",
       "  {'n_estimators': 42},\n",
       "  {'n_estimators': 52},\n",
       "  {'n_estimators': 63},\n",
       "  {'n_estimators': 73},\n",
       "  {'n_estimators': 83},\n",
       "  {'n_estimators': 94},\n",
       "  {'n_estimators': 104},\n",
       "  {'n_estimators': 114},\n",
       "  {'n_estimators': 125},\n",
       "  {'n_estimators': 135},\n",
       "  {'n_estimators': 145},\n",
       "  {'n_estimators': 156},\n",
       "  {'n_estimators': 166},\n",
       "  {'n_estimators': 176},\n",
       "  {'n_estimators': 187},\n",
       "  {'n_estimators': 197},\n",
       "  {'n_estimators': 207},\n",
       "  {'n_estimators': 218},\n",
       "  {'n_estimators': 228},\n",
       "  {'n_estimators': 238},\n",
       "  {'n_estimators': 249},\n",
       "  {'n_estimators': 259},\n",
       "  {'n_estimators': 269},\n",
       "  {'n_estimators': 280},\n",
       "  {'n_estimators': 290},\n",
       "  {'n_estimators': 301}],\n",
       " 'rank_test_score': array([30, 29, 27, 28, 11,  2,  1,  6,  3, 10,  9,  5,  8,  4,  7, 12, 13,\n",
       "        14, 18, 19, 15, 20, 21, 17, 16, 26, 25, 24, 22, 23]),\n",
       " 'split0_test_score': array([-4.7689547 , -3.84748737, -3.83727464, -3.8375304 , -3.80259056,\n",
       "        -3.79984495, -3.81356688, -3.8190575 , -3.81858582, -3.82312397,\n",
       "        -3.82224446, -3.81436349, -3.81889735, -3.8156823 , -3.81996879,\n",
       "        -3.81969539, -3.81900196, -3.81933088, -3.82373613, -3.82601114,\n",
       "        -3.82666218, -3.82647276, -3.826445  , -3.82224927, -3.82260432,\n",
       "        -3.82603294, -3.82553782, -3.82453639, -3.82360118, -3.8251962 ]),\n",
       " 'split0_train_score': array([-3.63391351, -2.98893768, -2.95192599, -2.94245926, -2.93814413,\n",
       "        -2.92043164, -2.91624119, -2.91734143, -2.91574069, -2.91562638,\n",
       "        -2.91364165, -2.91664683, -2.91897264, -2.91536588, -2.9131948 ,\n",
       "        -2.91064479, -2.90917928, -2.90702375, -2.90582369, -2.90607709,\n",
       "        -2.90582691, -2.90470711, -2.90179434, -2.90062226, -2.90117531,\n",
       "        -2.90271421, -2.90312089, -2.90360645, -2.9031514 , -2.9038933 ]),\n",
       " 'split1_test_score': array([-4.58831821, -3.7809908 , -3.76011897, -3.77322549, -3.75230001,\n",
       "        -3.74672881, -3.73981015, -3.74205872, -3.73962744, -3.74534835,\n",
       "        -3.74434199, -3.74765867, -3.74723906, -3.74710183, -3.74538412,\n",
       "        -3.75247747, -3.75394681, -3.7549501 , -3.75528881, -3.75456518,\n",
       "        -3.75288607, -3.75360693, -3.75255671, -3.75287841, -3.75020973,\n",
       "        -3.75448784, -3.75494786, -3.75431828, -3.75203302, -3.75315278]),\n",
       " 'split1_train_score': array([-3.68667947, -3.02180692, -2.97944694, -2.96437998, -2.95173139,\n",
       "        -2.95275885, -2.95563571, -2.96034652, -2.95586164, -2.95389009,\n",
       "        -2.95132706, -2.95381927, -2.9551573 , -2.95502881, -2.95316177,\n",
       "        -2.94915812, -2.94711446, -2.94607063, -2.94833759, -2.94582348,\n",
       "        -2.94727089, -2.94859403, -2.95077318, -2.94938744, -2.94833615,\n",
       "        -2.94930217, -2.94869409, -2.9482708 , -2.94673783, -2.94823348]),\n",
       " 'split2_test_score': array([-4.65658184, -3.96032162, -3.9113959 , -3.90288394, -3.89303549,\n",
       "        -3.88832827, -3.8779374 , -3.88086576, -3.88142027, -3.87884088,\n",
       "        -3.879655  , -3.879086  , -3.87983818, -3.87695723, -3.87759469,\n",
       "        -3.88016767, -3.88555422, -3.88547567, -3.88463206, -3.8838155 ,\n",
       "        -3.88175957, -3.88450561, -3.886709  , -3.88833297, -3.89034879,\n",
       "        -3.89042633, -3.89012663, -3.89102232, -3.89023288, -3.88985091]),\n",
       " 'split2_train_score': array([-3.58976806, -2.90666949, -2.86937575, -2.86476633, -2.85435266,\n",
       "        -2.85156275, -2.85946717, -2.85361   , -2.85198969, -2.84758372,\n",
       "        -2.84789221, -2.85076881, -2.84381013, -2.84372252, -2.84362085,\n",
       "        -2.84412649, -2.84520095, -2.84587429, -2.84384492, -2.84523346,\n",
       "        -2.84635873, -2.84707132, -2.84735233, -2.84703236, -2.84522438,\n",
       "        -2.8455278 , -2.84772297, -2.84805001, -2.84798785, -2.8468848 ]),\n",
       " 'std_fit_time': array([ 0.00373831,  0.00524675,  0.00694059,  0.00654463,  0.00880104,\n",
       "         0.00431794,  0.03474613,  0.0195905 ,  0.00509549,  0.01404701,\n",
       "         0.03491407,  0.03009376,  0.01390502,  0.01218574,  0.0113169 ,\n",
       "         0.03239887,  0.04483675,  0.0070678 ,  0.00637304,  0.03598254,\n",
       "         0.09757146,  0.04285783,  0.08284371,  0.01434485,  0.01615522,\n",
       "         0.05653841,  0.04997876,  0.05697143,  0.07893923,  0.1962893 ]),\n",
       " 'std_score_time': array([  1.41287477e-03,   4.71145731e-04,   3.09003945e-03,\n",
       "          7.37000982e-07,   5.24715146e-03,   2.62300547e-03,\n",
       "          8.63693995e-03,   1.69878628e-03,   1.24598240e-03,\n",
       "          3.85690464e-03,   8.97672339e-03,   1.19457092e-02,\n",
       "          1.88503210e-03,   4.49456013e-03,   8.00958711e-03,\n",
       "          2.94316716e-03,   2.49376900e-03,   1.41388628e-03,\n",
       "          4.18794959e-03,   1.20302051e-02,   2.86650415e-03,\n",
       "          3.03290799e-02,   4.96326654e-03,   2.86658726e-03,\n",
       "          1.13370772e-02,   5.30958090e-03,   8.49277803e-03,\n",
       "          1.26504153e-02,   2.57921344e-02,   6.93998434e-03]),\n",
       " 'std_test_score': array([ 0.07449557,  0.0740052 ,  0.06175365,  0.05292522,  0.058216  ,\n",
       "         0.0583928 ,  0.05642618,  0.05677404,  0.05800453,  0.05474008,\n",
       "         0.05544627,  0.05364909,  0.05418538,  0.05303404,  0.05411649,\n",
       "         0.05214645,  0.05372128,  0.05328012,  0.05282705,  0.05285779,\n",
       "         0.05279065,  0.05354715,  0.05485489,  0.0552965 ,  0.05721389,\n",
       "         0.05551469,  0.05519697,  0.05580808,  0.05642387,  0.05582637]),\n",
       " 'std_train_score': array([ 0.03961606,  0.04842528,  0.04677085,  0.04273899,  0.04306099,\n",
       "         0.0422014 ,  0.03947377,  0.04384799,  0.04276975,  0.04396332,\n",
       "         0.04274205,  0.04261077,  0.04637639,  0.04606156,  0.0452611 ,\n",
       "         0.04338408,  0.0420564 ,  0.0412354 ,  0.04290496,  0.04136568,\n",
       "         0.04141569,  0.04157297,  0.04224102,  0.04180176,  0.04214616,\n",
       "         0.0424393 ,  0.04128628,  0.04099543,  0.04040675,  0.04148303])}"
      ]
     },
     "execution_count": 74,
     "metadata": {},
     "output_type": "execute_result"
    }
   ],
   "source": [
    "\n",
    "\n",
    "tree_grid_search.cv_results_\n",
    "\n"
   ]
  },
  {
   "cell_type": "code",
   "execution_count": 75,
   "metadata": {},
   "outputs": [],
   "source": [
    "\n",
    "\n",
    "def plot_results(model, param = 'n_estimators', name = 'Num Trees'):\n",
    "    param_name = 'param_%s' % param\n",
    "\n",
    "    # Extract information from the cross validation model\n",
    "    train_scores = model.cv_results_['mean_train_score']\n",
    "    test_scores = model.cv_results_['mean_test_score']\n",
    "    train_time = model.cv_results_['mean_fit_time']\n",
    "    param_values = list(model.cv_results_[param_name])\n",
    "    \n",
    "    # Plot the scores over the parameter\n",
    "    plt.subplots(1, 2, figsize=(10, 6))\n",
    "    plt.subplot(121)\n",
    "    plt.plot(param_values, train_scores, 'bo-', label = 'train')\n",
    "    plt.plot(param_values, test_scores, 'go-', label = 'test')\n",
    "    plt.ylim(ymin = -10, ymax = 0)\n",
    "    plt.legend()\n",
    "    plt.xlabel(name)\n",
    "    plt.ylabel('Neg Mean Absolute Error')\n",
    "    plt.title('Score vs %s' % name)\n",
    "    \n",
    "    plt.subplot(122)\n",
    "    plt.plot(param_values, train_time, 'ro-')\n",
    "    plt.ylim(ymin = 0.0, ymax = 2.0)\n",
    "    plt.xlabel(name)\n",
    "    plt.ylabel('Train Time (sec)')\n",
    "    plt.title('Training Time vs %s' % name)\n",
    "    \n",
    "    \n",
    "    plt.tight_layout(pad = 4)\n",
    "\n"
   ]
  },
  {
   "cell_type": "code",
   "execution_count": 76,
   "metadata": {},
   "outputs": [
    {
     "name": "stderr",
     "output_type": "stream",
     "text": [
      "C:\\Users\\Sharique Ahmed\\Anaconda3\\lib\\site-packages\\sklearn\\utils\\deprecation.py:122: FutureWarning: You are accessing a training score ('mean_train_score'), which will not be available by default any more in 0.21. If you need training scores, please set return_train_score=True\n",
      "  warnings.warn(*warn_args, **warn_kwargs)\n"
     ]
    },
    {
     "data": {
      "image/png": "[encoded data removed]",
      "text/plain": [
       "<matplotlib.figure.Figure at 0x268201652b0>"
      ]
     },
     "metadata": {},
     "output_type": "display_data"
    }
   ],
   "source": [
    "plot_results(tree_grid_search)"
   ]
  },
  {
   "cell_type": "markdown",
   "metadata": {},
   "source": [
    "# Number of Features at Each Split"
   ]
  },
  {
   "cell_type": "code",
   "execution_count": 77,
   "metadata": {},
   "outputs": [],
   "source": [
    "# Define a grid over only the maximum number of features\n",
    "feature_grid = {'max_features': list(range(1, train_features.shape[1] + 1))}"
   ]
  },
  {
   "cell_type": "code",
   "execution_count": 78,
   "metadata": {},
   "outputs": [
    {
     "name": "stdout",
     "output_type": "stream",
     "text": [
      "Fitting 3 folds for each of 6 candidates, totalling 18 fits\n"
     ]
    },
    {
     "name": "stderr",
     "output_type": "stream",
     "text": [
      "[Parallel(n_jobs=-1)]: Done  18 out of  18 | elapsed:    3.4s finished\n"
     ]
    }
   ],
   "source": [
    "# Create the grid search and fit on the training data\n",
    "feature_grid_search = GridSearchCV(final_model, param_grid=feature_grid, cv = 3, n_jobs=-1, verbose= 2,\n",
    "                                  scoring = 'neg_mean_absolute_error')\n",
    "feature_grid_search.fit(train_features, train_labels);"
   ]
  },
  {
   "cell_type": "code",
   "execution_count": 79,
   "metadata": {},
   "outputs": [
    {
     "name": "stderr",
     "output_type": "stream",
     "text": [
      "C:\\Users\\Sharique Ahmed\\Anaconda3\\lib\\site-packages\\sklearn\\utils\\deprecation.py:122: FutureWarning: You are accessing a training score ('mean_train_score'), which will not be available by default any more in 0.21. If you need training scores, please set return_train_score=True\n",
      "  warnings.warn(*warn_args, **warn_kwargs)\n"
     ]
    },
    {
     "data": {
      "image/png": "[encoded data removed]",
      "text/plain": [
       "<matplotlib.figure.Figure at 0x2681e1dde10>"
      ]
     },
     "metadata": {},
     "output_type": "display_data"
    }
   ],
   "source": [
    "plot_results(feature_grid_search, param='max_features', name = 'Max Features')"
   ]
  },
  {
   "cell_type": "markdown",
   "metadata": {},
   "source": [
    "# Visualizing One Tree in the Forest\n",
    "\n",
    "My favorite part about the random forest in scikit-learn may be that you can actually look at any tree in the forest. I'll pick one tree and visualize it as an image."
   ]
  },
  {
   "cell_type": "code",
   "execution_count": 81,
   "metadata": {},
   "outputs": [],
   "source": [
    "# Use sklearn to export the tree \n",
    "from sklearn.tree import export_graphviz\n",
    "\n",
    "# # Write the decision tree as a dot file\n",
    "# visual_tree = final_model.estimators_[12]\n",
    "# export_graphviz(visual_tree, out_file = 'images/best_tree.dot', feature_names = important_feature_names, \n",
    "#                 precision = 2, filled = True, rounded = True, max_depth = None)"
   ]
  }
 ],
 "metadata": {
  "kernelspec": {
   "display_name": "Python 3",
   "language": "python",
   "name": "python3"
  },
  "language_info": {
   "codemirror_mode": {
    "name": "ipython",
    "version": 3
   },
   "file_extension": ".py",
   "mimetype": "text/x-python",
   "name": "python",
   "nbconvert_exporter": "python",
   "pygments_lexer": "ipython3",
   "version": "3.6.3"
  }
 },
 "nbformat": 4,
 "nbformat_minor": 2
}
